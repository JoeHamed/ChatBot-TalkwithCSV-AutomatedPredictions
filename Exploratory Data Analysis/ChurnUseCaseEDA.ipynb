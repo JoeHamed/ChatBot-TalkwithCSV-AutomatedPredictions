{
  "cells": [
    {
      "cell_type": "markdown",
      "metadata": {
        "id": "MZ9SEgeLBWke"
      },
      "source": [
        "## Importing Libraries"
      ]
    },
    {
      "cell_type": "code",
      "execution_count": null,
      "metadata": {
        "colab": {
          "base_uri": "https://localhost:8080/"
        },
        "id": "jS_OgeW-gMyL",
        "outputId": "1f1bf819-385a-4dac-88fa-d7924784cdf8"
      },
      "outputs": [],
      "source": [
        "!pip install catboost"
      ]
    },
    {
      "cell_type": "code",
      "execution_count": null,
      "metadata": {
        "colab": {
          "base_uri": "https://localhost:8080/"
        },
        "id": "fI7vfPSygdUB",
        "outputId": "47b60f04-1d8e-49fc-de75-6cd7b03dfd30"
      },
      "outputs": [],
      "source": [
        "!pip uninstall -y scikit-learn\n",
        "!pip install scikit-learn==1.3.1"
      ]
    },
    {
      "cell_type": "code",
      "execution_count": null,
      "metadata": {
        "colab": {
          "base_uri": "https://localhost:8080/"
        },
        "id": "Nwv1HZXbhQQk",
        "outputId": "0fcabb20-b471-436b-ba2f-8939ed578afe"
      },
      "outputs": [],
      "source": [
        "!pip install imblearn"
      ]
    },
    {
      "cell_type": "code",
      "execution_count": 4,
      "metadata": {
        "id": "rbf_7gp369tc"
      },
      "outputs": [],
      "source": [
        "import pandas as pd\n",
        "import numpy as np\n",
        "import matplotlib.pyplot as plt\n",
        "import seaborn as sns\n",
        "from sklearn.preprocessing import LabelEncoder\n",
        "from sklearn.preprocessing import OneHotEncoder\n",
        "from sklearn.compose import ColumnTransformer\n",
        "from sklearn.ensemble import RandomForestClassifier\n",
        "from sklearn.model_selection import train_test_split\n",
        "from sklearn.preprocessing import StandardScaler\n",
        "from sklearn.metrics import accuracy_score, confusion_matrix\n",
        "from xgboost import XGBClassifier\n",
        "from sklearn.svm import SVC\n",
        "from catboost import CatBoostClassifier\n",
        "from sklearn.model_selection import RandomizedSearchCV\n",
        "from sklearn.model_selection import cross_val_score"
      ]
    },
    {
      "cell_type": "markdown",
      "metadata": {
        "id": "7cNMshLDBduw"
      },
      "source": [
        "## Reading The Dataset"
      ]
    },
    {
      "cell_type": "code",
      "execution_count": 5,
      "metadata": {
        "colab": {
          "base_uri": "https://localhost:8080/"
        },
        "id": "pM2ZcQw0-Fnd",
        "outputId": "50135cb8-2fad-4841-aa78-c0547d9daa9c"
      },
      "outputs": [
        {
          "name": "stdout",
          "output_type": "stream",
          "text": [
            "dataset contains 7043 rows and 21 columns\n"
          ]
        }
      ],
      "source": [
        "# Loading the dataset\n",
        "file_path = './WA_Fn-UseC_-Telco-Customer-Churn.csv'\n",
        "\n",
        "data = pd.read_csv(file_path)\n",
        "print(f'dataset contains {data.shape[0]} rows and {data.shape[1]} columns')"
      ]
    },
    {
      "cell_type": "code",
      "execution_count": 6,
      "metadata": {
        "colab": {
          "base_uri": "https://localhost:8080/",
          "height": 638
        },
        "id": "FqBN_NQa-TB-",
        "outputId": "6ee989b5-120a-4aa6-e2bc-7501dfaf9ba3"
      },
      "outputs": [
        {
          "data": {
            "application/vnd.google.colaboratory.intrinsic+json": {
              "type": "dataframe",
              "variable_name": "data"
            },
            "text/html": [
              "\n",
              "  <div id=\"df-36e80140-5611-4da0-acda-a3f318b6b08b\" class=\"colab-df-container\">\n",
              "    <div>\n",
              "<style scoped>\n",
              "    .dataframe tbody tr th:only-of-type {\n",
              "        vertical-align: middle;\n",
              "    }\n",
              "\n",
              "    .dataframe tbody tr th {\n",
              "        vertical-align: top;\n",
              "    }\n",
              "\n",
              "    .dataframe thead th {\n",
              "        text-align: right;\n",
              "    }\n",
              "</style>\n",
              "<table border=\"1\" class=\"dataframe\">\n",
              "  <thead>\n",
              "    <tr style=\"text-align: right;\">\n",
              "      <th></th>\n",
              "      <th>customerID</th>\n",
              "      <th>gender</th>\n",
              "      <th>Senior_Citizen</th>\n",
              "      <th>Is_Married</th>\n",
              "      <th>Dependents</th>\n",
              "      <th>tenure</th>\n",
              "      <th>Phone_Service</th>\n",
              "      <th>Dual</th>\n",
              "      <th>Internet_Service</th>\n",
              "      <th>Online_Security</th>\n",
              "      <th>...</th>\n",
              "      <th>Device_Protection</th>\n",
              "      <th>Tech_Support</th>\n",
              "      <th>Streaming_TV</th>\n",
              "      <th>Streaming_Movies</th>\n",
              "      <th>Contract</th>\n",
              "      <th>Paperless_Billing</th>\n",
              "      <th>Payment_Method</th>\n",
              "      <th>Monthly_Charges</th>\n",
              "      <th>Total_Charges</th>\n",
              "      <th>Churn</th>\n",
              "    </tr>\n",
              "  </thead>\n",
              "  <tbody>\n",
              "    <tr>\n",
              "      <th>0</th>\n",
              "      <td>7590-VHVEG</td>\n",
              "      <td>Female</td>\n",
              "      <td>0</td>\n",
              "      <td>Yes</td>\n",
              "      <td>No</td>\n",
              "      <td>1</td>\n",
              "      <td>No</td>\n",
              "      <td>No phone service</td>\n",
              "      <td>DSL</td>\n",
              "      <td>No</td>\n",
              "      <td>...</td>\n",
              "      <td>No</td>\n",
              "      <td>No</td>\n",
              "      <td>No</td>\n",
              "      <td>No</td>\n",
              "      <td>Month-to-month</td>\n",
              "      <td>Yes</td>\n",
              "      <td>Electronic check</td>\n",
              "      <td>29.85</td>\n",
              "      <td>29.85</td>\n",
              "      <td>No</td>\n",
              "    </tr>\n",
              "    <tr>\n",
              "      <th>1</th>\n",
              "      <td>5575-GNVDE</td>\n",
              "      <td>Male</td>\n",
              "      <td>0</td>\n",
              "      <td>No</td>\n",
              "      <td>No</td>\n",
              "      <td>34</td>\n",
              "      <td>Yes</td>\n",
              "      <td>No</td>\n",
              "      <td>DSL</td>\n",
              "      <td>Yes</td>\n",
              "      <td>...</td>\n",
              "      <td>Yes</td>\n",
              "      <td>No</td>\n",
              "      <td>No</td>\n",
              "      <td>No</td>\n",
              "      <td>One year</td>\n",
              "      <td>No</td>\n",
              "      <td>Mailed check</td>\n",
              "      <td>56.95</td>\n",
              "      <td>1889.5</td>\n",
              "      <td>No</td>\n",
              "    </tr>\n",
              "    <tr>\n",
              "      <th>2</th>\n",
              "      <td>3668-QPYBK</td>\n",
              "      <td>Male</td>\n",
              "      <td>0</td>\n",
              "      <td>No</td>\n",
              "      <td>No</td>\n",
              "      <td>2</td>\n",
              "      <td>Yes</td>\n",
              "      <td>No</td>\n",
              "      <td>DSL</td>\n",
              "      <td>Yes</td>\n",
              "      <td>...</td>\n",
              "      <td>No</td>\n",
              "      <td>No</td>\n",
              "      <td>No</td>\n",
              "      <td>No</td>\n",
              "      <td>Month-to-month</td>\n",
              "      <td>Yes</td>\n",
              "      <td>Mailed check</td>\n",
              "      <td>53.85</td>\n",
              "      <td>108.15</td>\n",
              "      <td>Yes</td>\n",
              "    </tr>\n",
              "    <tr>\n",
              "      <th>3</th>\n",
              "      <td>7795-CFOCW</td>\n",
              "      <td>Male</td>\n",
              "      <td>0</td>\n",
              "      <td>No</td>\n",
              "      <td>No</td>\n",
              "      <td>45</td>\n",
              "      <td>No</td>\n",
              "      <td>No phone service</td>\n",
              "      <td>DSL</td>\n",
              "      <td>Yes</td>\n",
              "      <td>...</td>\n",
              "      <td>Yes</td>\n",
              "      <td>Yes</td>\n",
              "      <td>No</td>\n",
              "      <td>No</td>\n",
              "      <td>One year</td>\n",
              "      <td>No</td>\n",
              "      <td>Bank transfer (automatic)</td>\n",
              "      <td>42.30</td>\n",
              "      <td>1840.75</td>\n",
              "      <td>No</td>\n",
              "    </tr>\n",
              "    <tr>\n",
              "      <th>4</th>\n",
              "      <td>9237-HQITU</td>\n",
              "      <td>Female</td>\n",
              "      <td>0</td>\n",
              "      <td>No</td>\n",
              "      <td>No</td>\n",
              "      <td>2</td>\n",
              "      <td>Yes</td>\n",
              "      <td>No</td>\n",
              "      <td>Fiber optic</td>\n",
              "      <td>No</td>\n",
              "      <td>...</td>\n",
              "      <td>No</td>\n",
              "      <td>No</td>\n",
              "      <td>No</td>\n",
              "      <td>No</td>\n",
              "      <td>Month-to-month</td>\n",
              "      <td>Yes</td>\n",
              "      <td>Electronic check</td>\n",
              "      <td>70.70</td>\n",
              "      <td>151.65</td>\n",
              "      <td>Yes</td>\n",
              "    </tr>\n",
              "    <tr>\n",
              "      <th>5</th>\n",
              "      <td>9305-CDSKC</td>\n",
              "      <td>Female</td>\n",
              "      <td>0</td>\n",
              "      <td>No</td>\n",
              "      <td>No</td>\n",
              "      <td>8</td>\n",
              "      <td>Yes</td>\n",
              "      <td>Yes</td>\n",
              "      <td>Fiber optic</td>\n",
              "      <td>No</td>\n",
              "      <td>...</td>\n",
              "      <td>Yes</td>\n",
              "      <td>No</td>\n",
              "      <td>Yes</td>\n",
              "      <td>Yes</td>\n",
              "      <td>Month-to-month</td>\n",
              "      <td>Yes</td>\n",
              "      <td>Electronic check</td>\n",
              "      <td>99.65</td>\n",
              "      <td>820.5</td>\n",
              "      <td>Yes</td>\n",
              "    </tr>\n",
              "    <tr>\n",
              "      <th>6</th>\n",
              "      <td>1452-KIOVK</td>\n",
              "      <td>Male</td>\n",
              "      <td>0</td>\n",
              "      <td>No</td>\n",
              "      <td>Yes</td>\n",
              "      <td>22</td>\n",
              "      <td>Yes</td>\n",
              "      <td>Yes</td>\n",
              "      <td>Fiber optic</td>\n",
              "      <td>No</td>\n",
              "      <td>...</td>\n",
              "      <td>No</td>\n",
              "      <td>No</td>\n",
              "      <td>Yes</td>\n",
              "      <td>No</td>\n",
              "      <td>Month-to-month</td>\n",
              "      <td>Yes</td>\n",
              "      <td>Credit card (automatic)</td>\n",
              "      <td>89.10</td>\n",
              "      <td>1949.4</td>\n",
              "      <td>No</td>\n",
              "    </tr>\n",
              "    <tr>\n",
              "      <th>7</th>\n",
              "      <td>6713-OKOMC</td>\n",
              "      <td>Female</td>\n",
              "      <td>0</td>\n",
              "      <td>No</td>\n",
              "      <td>No</td>\n",
              "      <td>10</td>\n",
              "      <td>No</td>\n",
              "      <td>No phone service</td>\n",
              "      <td>DSL</td>\n",
              "      <td>Yes</td>\n",
              "      <td>...</td>\n",
              "      <td>No</td>\n",
              "      <td>No</td>\n",
              "      <td>No</td>\n",
              "      <td>No</td>\n",
              "      <td>Month-to-month</td>\n",
              "      <td>No</td>\n",
              "      <td>Mailed check</td>\n",
              "      <td>29.75</td>\n",
              "      <td>301.9</td>\n",
              "      <td>No</td>\n",
              "    </tr>\n",
              "    <tr>\n",
              "      <th>8</th>\n",
              "      <td>7892-POOKP</td>\n",
              "      <td>Female</td>\n",
              "      <td>0</td>\n",
              "      <td>Yes</td>\n",
              "      <td>No</td>\n",
              "      <td>28</td>\n",
              "      <td>Yes</td>\n",
              "      <td>Yes</td>\n",
              "      <td>Fiber optic</td>\n",
              "      <td>No</td>\n",
              "      <td>...</td>\n",
              "      <td>Yes</td>\n",
              "      <td>Yes</td>\n",
              "      <td>Yes</td>\n",
              "      <td>Yes</td>\n",
              "      <td>Month-to-month</td>\n",
              "      <td>Yes</td>\n",
              "      <td>Electronic check</td>\n",
              "      <td>104.80</td>\n",
              "      <td>3046.05</td>\n",
              "      <td>Yes</td>\n",
              "    </tr>\n",
              "    <tr>\n",
              "      <th>9</th>\n",
              "      <td>6388-TABGU</td>\n",
              "      <td>Male</td>\n",
              "      <td>0</td>\n",
              "      <td>No</td>\n",
              "      <td>Yes</td>\n",
              "      <td>62</td>\n",
              "      <td>Yes</td>\n",
              "      <td>No</td>\n",
              "      <td>DSL</td>\n",
              "      <td>Yes</td>\n",
              "      <td>...</td>\n",
              "      <td>No</td>\n",
              "      <td>No</td>\n",
              "      <td>No</td>\n",
              "      <td>No</td>\n",
              "      <td>One year</td>\n",
              "      <td>No</td>\n",
              "      <td>Bank transfer (automatic)</td>\n",
              "      <td>56.15</td>\n",
              "      <td>3487.95</td>\n",
              "      <td>No</td>\n",
              "    </tr>\n",
              "  </tbody>\n",
              "</table>\n",
              "<p>10 rows × 21 columns</p>\n",
              "</div>\n",
              "    <div class=\"colab-df-buttons\">\n",
              "\n",
              "  <div class=\"colab-df-container\">\n",
              "    <button class=\"colab-df-convert\" onclick=\"convertToInteractive('df-36e80140-5611-4da0-acda-a3f318b6b08b')\"\n",
              "            title=\"Convert this dataframe to an interactive table.\"\n",
              "            style=\"display:none;\">\n",
              "\n",
              "  <svg xmlns=\"http://www.w3.org/2000/svg\" height=\"24px\" viewBox=\"0 -960 960 960\">\n",
              "    <path d=\"M120-120v-720h720v720H120Zm60-500h600v-160H180v160Zm220 220h160v-160H400v160Zm0 220h160v-160H400v160ZM180-400h160v-160H180v160Zm440 0h160v-160H620v160ZM180-180h160v-160H180v160Zm440 0h160v-160H620v160Z\"/>\n",
              "  </svg>\n",
              "    </button>\n",
              "\n",
              "  <style>\n",
              "    .colab-df-container {\n",
              "      display:flex;\n",
              "      gap: 12px;\n",
              "    }\n",
              "\n",
              "    .colab-df-convert {\n",
              "      background-color: #E8F0FE;\n",
              "      border: none;\n",
              "      border-radius: 50%;\n",
              "      cursor: pointer;\n",
              "      display: none;\n",
              "      fill: #1967D2;\n",
              "      height: 32px;\n",
              "      padding: 0 0 0 0;\n",
              "      width: 32px;\n",
              "    }\n",
              "\n",
              "    .colab-df-convert:hover {\n",
              "      background-color: #E2EBFA;\n",
              "      box-shadow: 0px 1px 2px rgba(60, 64, 67, 0.3), 0px 1px 3px 1px rgba(60, 64, 67, 0.15);\n",
              "      fill: #174EA6;\n",
              "    }\n",
              "\n",
              "    .colab-df-buttons div {\n",
              "      margin-bottom: 4px;\n",
              "    }\n",
              "\n",
              "    [theme=dark] .colab-df-convert {\n",
              "      background-color: #3B4455;\n",
              "      fill: #D2E3FC;\n",
              "    }\n",
              "\n",
              "    [theme=dark] .colab-df-convert:hover {\n",
              "      background-color: #434B5C;\n",
              "      box-shadow: 0px 1px 3px 1px rgba(0, 0, 0, 0.15);\n",
              "      filter: drop-shadow(0px 1px 2px rgba(0, 0, 0, 0.3));\n",
              "      fill: #FFFFFF;\n",
              "    }\n",
              "  </style>\n",
              "\n",
              "    <script>\n",
              "      const buttonEl =\n",
              "        document.querySelector('#df-36e80140-5611-4da0-acda-a3f318b6b08b button.colab-df-convert');\n",
              "      buttonEl.style.display =\n",
              "        google.colab.kernel.accessAllowed ? 'block' : 'none';\n",
              "\n",
              "      async function convertToInteractive(key) {\n",
              "        const element = document.querySelector('#df-36e80140-5611-4da0-acda-a3f318b6b08b');\n",
              "        const dataTable =\n",
              "          await google.colab.kernel.invokeFunction('convertToInteractive',\n",
              "                                                    [key], {});\n",
              "        if (!dataTable) return;\n",
              "\n",
              "        const docLinkHtml = 'Like what you see? Visit the ' +\n",
              "          '<a target=\"_blank\" href=https://colab.research.google.com/notebooks/data_table.ipynb>data table notebook</a>'\n",
              "          + ' to learn more about interactive tables.';\n",
              "        element.innerHTML = '';\n",
              "        dataTable['output_type'] = 'display_data';\n",
              "        await google.colab.output.renderOutput(dataTable, element);\n",
              "        const docLink = document.createElement('div');\n",
              "        docLink.innerHTML = docLinkHtml;\n",
              "        element.appendChild(docLink);\n",
              "      }\n",
              "    </script>\n",
              "  </div>\n",
              "\n",
              "\n",
              "<div id=\"df-7ab6bfce-219a-4250-8f4f-b803276628b8\">\n",
              "  <button class=\"colab-df-quickchart\" onclick=\"quickchart('df-7ab6bfce-219a-4250-8f4f-b803276628b8')\"\n",
              "            title=\"Suggest charts\"\n",
              "            style=\"display:none;\">\n",
              "\n",
              "<svg xmlns=\"http://www.w3.org/2000/svg\" height=\"24px\"viewBox=\"0 0 24 24\"\n",
              "     width=\"24px\">\n",
              "    <g>\n",
              "        <path d=\"M19 3H5c-1.1 0-2 .9-2 2v14c0 1.1.9 2 2 2h14c1.1 0 2-.9 2-2V5c0-1.1-.9-2-2-2zM9 17H7v-7h2v7zm4 0h-2V7h2v10zm4 0h-2v-4h2v4z\"/>\n",
              "    </g>\n",
              "</svg>\n",
              "  </button>\n",
              "\n",
              "<style>\n",
              "  .colab-df-quickchart {\n",
              "      --bg-color: #E8F0FE;\n",
              "      --fill-color: #1967D2;\n",
              "      --hover-bg-color: #E2EBFA;\n",
              "      --hover-fill-color: #174EA6;\n",
              "      --disabled-fill-color: #AAA;\n",
              "      --disabled-bg-color: #DDD;\n",
              "  }\n",
              "\n",
              "  [theme=dark] .colab-df-quickchart {\n",
              "      --bg-color: #3B4455;\n",
              "      --fill-color: #D2E3FC;\n",
              "      --hover-bg-color: #434B5C;\n",
              "      --hover-fill-color: #FFFFFF;\n",
              "      --disabled-bg-color: #3B4455;\n",
              "      --disabled-fill-color: #666;\n",
              "  }\n",
              "\n",
              "  .colab-df-quickchart {\n",
              "    background-color: var(--bg-color);\n",
              "    border: none;\n",
              "    border-radius: 50%;\n",
              "    cursor: pointer;\n",
              "    display: none;\n",
              "    fill: var(--fill-color);\n",
              "    height: 32px;\n",
              "    padding: 0;\n",
              "    width: 32px;\n",
              "  }\n",
              "\n",
              "  .colab-df-quickchart:hover {\n",
              "    background-color: var(--hover-bg-color);\n",
              "    box-shadow: 0 1px 2px rgba(60, 64, 67, 0.3), 0 1px 3px 1px rgba(60, 64, 67, 0.15);\n",
              "    fill: var(--button-hover-fill-color);\n",
              "  }\n",
              "\n",
              "  .colab-df-quickchart-complete:disabled,\n",
              "  .colab-df-quickchart-complete:disabled:hover {\n",
              "    background-color: var(--disabled-bg-color);\n",
              "    fill: var(--disabled-fill-color);\n",
              "    box-shadow: none;\n",
              "  }\n",
              "\n",
              "  .colab-df-spinner {\n",
              "    border: 2px solid var(--fill-color);\n",
              "    border-color: transparent;\n",
              "    border-bottom-color: var(--fill-color);\n",
              "    animation:\n",
              "      spin 1s steps(1) infinite;\n",
              "  }\n",
              "\n",
              "  @keyframes spin {\n",
              "    0% {\n",
              "      border-color: transparent;\n",
              "      border-bottom-color: var(--fill-color);\n",
              "      border-left-color: var(--fill-color);\n",
              "    }\n",
              "    20% {\n",
              "      border-color: transparent;\n",
              "      border-left-color: var(--fill-color);\n",
              "      border-top-color: var(--fill-color);\n",
              "    }\n",
              "    30% {\n",
              "      border-color: transparent;\n",
              "      border-left-color: var(--fill-color);\n",
              "      border-top-color: var(--fill-color);\n",
              "      border-right-color: var(--fill-color);\n",
              "    }\n",
              "    40% {\n",
              "      border-color: transparent;\n",
              "      border-right-color: var(--fill-color);\n",
              "      border-top-color: var(--fill-color);\n",
              "    }\n",
              "    60% {\n",
              "      border-color: transparent;\n",
              "      border-right-color: var(--fill-color);\n",
              "    }\n",
              "    80% {\n",
              "      border-color: transparent;\n",
              "      border-right-color: var(--fill-color);\n",
              "      border-bottom-color: var(--fill-color);\n",
              "    }\n",
              "    90% {\n",
              "      border-color: transparent;\n",
              "      border-bottom-color: var(--fill-color);\n",
              "    }\n",
              "  }\n",
              "</style>\n",
              "\n",
              "  <script>\n",
              "    async function quickchart(key) {\n",
              "      const quickchartButtonEl =\n",
              "        document.querySelector('#' + key + ' button');\n",
              "      quickchartButtonEl.disabled = true;  // To prevent multiple clicks.\n",
              "      quickchartButtonEl.classList.add('colab-df-spinner');\n",
              "      try {\n",
              "        const charts = await google.colab.kernel.invokeFunction(\n",
              "            'suggestCharts', [key], {});\n",
              "      } catch (error) {\n",
              "        console.error('Error during call to suggestCharts:', error);\n",
              "      }\n",
              "      quickchartButtonEl.classList.remove('colab-df-spinner');\n",
              "      quickchartButtonEl.classList.add('colab-df-quickchart-complete');\n",
              "    }\n",
              "    (() => {\n",
              "      let quickchartButtonEl =\n",
              "        document.querySelector('#df-7ab6bfce-219a-4250-8f4f-b803276628b8 button');\n",
              "      quickchartButtonEl.style.display =\n",
              "        google.colab.kernel.accessAllowed ? 'block' : 'none';\n",
              "    })();\n",
              "  </script>\n",
              "</div>\n",
              "\n",
              "    </div>\n",
              "  </div>\n"
            ],
            "text/plain": [
              "   customerID  gender  Senior_Citizen  Is_Married Dependents  tenure  \\\n",
              "0  7590-VHVEG  Female                0        Yes         No       1   \n",
              "1  5575-GNVDE    Male                0         No         No      34   \n",
              "2  3668-QPYBK    Male                0         No         No       2   \n",
              "3  7795-CFOCW    Male                0         No         No      45   \n",
              "4  9237-HQITU  Female                0         No         No       2   \n",
              "5  9305-CDSKC  Female                0         No         No       8   \n",
              "6  1452-KIOVK    Male                0         No        Yes      22   \n",
              "7  6713-OKOMC  Female                0         No         No      10   \n",
              "8  7892-POOKP  Female                0        Yes         No      28   \n",
              "9  6388-TABGU    Male                0         No        Yes      62   \n",
              "\n",
              "  Phone_Service              Dual Internet_Service Online_Security  ...  \\\n",
              "0            No  No phone service              DSL              No  ...   \n",
              "1           Yes                No              DSL             Yes  ...   \n",
              "2           Yes                No              DSL             Yes  ...   \n",
              "3            No  No phone service              DSL             Yes  ...   \n",
              "4           Yes                No      Fiber optic              No  ...   \n",
              "5           Yes               Yes      Fiber optic              No  ...   \n",
              "6           Yes               Yes      Fiber optic              No  ...   \n",
              "7            No  No phone service              DSL             Yes  ...   \n",
              "8           Yes               Yes      Fiber optic              No  ...   \n",
              "9           Yes                No              DSL             Yes  ...   \n",
              "\n",
              "  Device_Protection Tech_Support Streaming_TV Streaming_Movies  \\\n",
              "0                No           No           No               No   \n",
              "1               Yes           No           No               No   \n",
              "2                No           No           No               No   \n",
              "3               Yes          Yes           No               No   \n",
              "4                No           No           No               No   \n",
              "5               Yes           No          Yes              Yes   \n",
              "6                No           No          Yes               No   \n",
              "7                No           No           No               No   \n",
              "8               Yes          Yes          Yes              Yes   \n",
              "9                No           No           No               No   \n",
              "\n",
              "         Contract Paperless_Billing             Payment_Method  \\\n",
              "0  Month-to-month               Yes           Electronic check   \n",
              "1        One year                No               Mailed check   \n",
              "2  Month-to-month               Yes               Mailed check   \n",
              "3        One year                No  Bank transfer (automatic)   \n",
              "4  Month-to-month               Yes           Electronic check   \n",
              "5  Month-to-month               Yes           Electronic check   \n",
              "6  Month-to-month               Yes    Credit card (automatic)   \n",
              "7  Month-to-month                No               Mailed check   \n",
              "8  Month-to-month               Yes           Electronic check   \n",
              "9        One year                No  Bank transfer (automatic)   \n",
              "\n",
              "  Monthly_Charges  Total_Charges Churn  \n",
              "0           29.85          29.85    No  \n",
              "1           56.95         1889.5    No  \n",
              "2           53.85         108.15   Yes  \n",
              "3           42.30        1840.75    No  \n",
              "4           70.70         151.65   Yes  \n",
              "5           99.65          820.5   Yes  \n",
              "6           89.10         1949.4    No  \n",
              "7           29.75          301.9    No  \n",
              "8          104.80        3046.05   Yes  \n",
              "9           56.15        3487.95    No  \n",
              "\n",
              "[10 rows x 21 columns]"
            ]
          },
          "execution_count": 6,
          "metadata": {},
          "output_type": "execute_result"
        }
      ],
      "source": [
        "data.head(10)"
      ]
    },
    {
      "cell_type": "code",
      "execution_count": 7,
      "metadata": {
        "colab": {
          "base_uri": "https://localhost:8080/",
          "height": 360
        },
        "id": "pIstQieWAx_8",
        "outputId": "553d07ee-825a-46b8-a047-632291607d68"
      },
      "outputs": [
        {
          "data": {
            "application/vnd.google.colaboratory.intrinsic+json": {
              "type": "dataframe"
            },
            "text/html": [
              "\n",
              "  <div id=\"df-2df214c3-5bbe-41b7-9d41-1f55755b3449\" class=\"colab-df-container\">\n",
              "    <div>\n",
              "<style scoped>\n",
              "    .dataframe tbody tr th:only-of-type {\n",
              "        vertical-align: middle;\n",
              "    }\n",
              "\n",
              "    .dataframe tbody tr th {\n",
              "        vertical-align: top;\n",
              "    }\n",
              "\n",
              "    .dataframe thead th {\n",
              "        text-align: right;\n",
              "    }\n",
              "</style>\n",
              "<table border=\"1\" class=\"dataframe\">\n",
              "  <thead>\n",
              "    <tr style=\"text-align: right;\">\n",
              "      <th></th>\n",
              "      <th>customerID</th>\n",
              "      <th>gender</th>\n",
              "      <th>Senior_Citizen</th>\n",
              "      <th>Is_Married</th>\n",
              "      <th>Dependents</th>\n",
              "      <th>tenure</th>\n",
              "      <th>Phone_Service</th>\n",
              "      <th>Dual</th>\n",
              "      <th>Internet_Service</th>\n",
              "      <th>Online_Security</th>\n",
              "      <th>...</th>\n",
              "      <th>Device_Protection</th>\n",
              "      <th>Tech_Support</th>\n",
              "      <th>Streaming_TV</th>\n",
              "      <th>Streaming_Movies</th>\n",
              "      <th>Contract</th>\n",
              "      <th>Paperless_Billing</th>\n",
              "      <th>Payment_Method</th>\n",
              "      <th>Monthly_Charges</th>\n",
              "      <th>Total_Charges</th>\n",
              "      <th>Churn</th>\n",
              "    </tr>\n",
              "  </thead>\n",
              "  <tbody>\n",
              "    <tr>\n",
              "      <th>7038</th>\n",
              "      <td>6840-RESVB</td>\n",
              "      <td>Male</td>\n",
              "      <td>0</td>\n",
              "      <td>Yes</td>\n",
              "      <td>Yes</td>\n",
              "      <td>24</td>\n",
              "      <td>Yes</td>\n",
              "      <td>Yes</td>\n",
              "      <td>DSL</td>\n",
              "      <td>Yes</td>\n",
              "      <td>...</td>\n",
              "      <td>Yes</td>\n",
              "      <td>Yes</td>\n",
              "      <td>Yes</td>\n",
              "      <td>Yes</td>\n",
              "      <td>One year</td>\n",
              "      <td>Yes</td>\n",
              "      <td>Mailed check</td>\n",
              "      <td>84.80</td>\n",
              "      <td>1990.5</td>\n",
              "      <td>No</td>\n",
              "    </tr>\n",
              "    <tr>\n",
              "      <th>7039</th>\n",
              "      <td>2234-XADUH</td>\n",
              "      <td>Female</td>\n",
              "      <td>0</td>\n",
              "      <td>Yes</td>\n",
              "      <td>Yes</td>\n",
              "      <td>72</td>\n",
              "      <td>Yes</td>\n",
              "      <td>Yes</td>\n",
              "      <td>Fiber optic</td>\n",
              "      <td>No</td>\n",
              "      <td>...</td>\n",
              "      <td>Yes</td>\n",
              "      <td>No</td>\n",
              "      <td>Yes</td>\n",
              "      <td>Yes</td>\n",
              "      <td>One year</td>\n",
              "      <td>Yes</td>\n",
              "      <td>Credit card (automatic)</td>\n",
              "      <td>103.20</td>\n",
              "      <td>7362.9</td>\n",
              "      <td>No</td>\n",
              "    </tr>\n",
              "    <tr>\n",
              "      <th>7040</th>\n",
              "      <td>4801-JZAZL</td>\n",
              "      <td>Female</td>\n",
              "      <td>0</td>\n",
              "      <td>Yes</td>\n",
              "      <td>Yes</td>\n",
              "      <td>11</td>\n",
              "      <td>No</td>\n",
              "      <td>No phone service</td>\n",
              "      <td>DSL</td>\n",
              "      <td>Yes</td>\n",
              "      <td>...</td>\n",
              "      <td>No</td>\n",
              "      <td>No</td>\n",
              "      <td>No</td>\n",
              "      <td>No</td>\n",
              "      <td>Month-to-month</td>\n",
              "      <td>Yes</td>\n",
              "      <td>Electronic check</td>\n",
              "      <td>29.60</td>\n",
              "      <td>346.45</td>\n",
              "      <td>No</td>\n",
              "    </tr>\n",
              "    <tr>\n",
              "      <th>7041</th>\n",
              "      <td>8361-LTMKD</td>\n",
              "      <td>Male</td>\n",
              "      <td>1</td>\n",
              "      <td>Yes</td>\n",
              "      <td>No</td>\n",
              "      <td>4</td>\n",
              "      <td>Yes</td>\n",
              "      <td>Yes</td>\n",
              "      <td>Fiber optic</td>\n",
              "      <td>No</td>\n",
              "      <td>...</td>\n",
              "      <td>No</td>\n",
              "      <td>No</td>\n",
              "      <td>No</td>\n",
              "      <td>No</td>\n",
              "      <td>Month-to-month</td>\n",
              "      <td>Yes</td>\n",
              "      <td>Mailed check</td>\n",
              "      <td>74.40</td>\n",
              "      <td>306.6</td>\n",
              "      <td>Yes</td>\n",
              "    </tr>\n",
              "    <tr>\n",
              "      <th>7042</th>\n",
              "      <td>3186-AJIEK</td>\n",
              "      <td>Male</td>\n",
              "      <td>0</td>\n",
              "      <td>No</td>\n",
              "      <td>No</td>\n",
              "      <td>66</td>\n",
              "      <td>Yes</td>\n",
              "      <td>No</td>\n",
              "      <td>Fiber optic</td>\n",
              "      <td>Yes</td>\n",
              "      <td>...</td>\n",
              "      <td>Yes</td>\n",
              "      <td>Yes</td>\n",
              "      <td>Yes</td>\n",
              "      <td>Yes</td>\n",
              "      <td>Two year</td>\n",
              "      <td>Yes</td>\n",
              "      <td>Bank transfer (automatic)</td>\n",
              "      <td>105.65</td>\n",
              "      <td>6844.5</td>\n",
              "      <td>No</td>\n",
              "    </tr>\n",
              "  </tbody>\n",
              "</table>\n",
              "<p>5 rows × 21 columns</p>\n",
              "</div>\n",
              "    <div class=\"colab-df-buttons\">\n",
              "\n",
              "  <div class=\"colab-df-container\">\n",
              "    <button class=\"colab-df-convert\" onclick=\"convertToInteractive('df-2df214c3-5bbe-41b7-9d41-1f55755b3449')\"\n",
              "            title=\"Convert this dataframe to an interactive table.\"\n",
              "            style=\"display:none;\">\n",
              "\n",
              "  <svg xmlns=\"http://www.w3.org/2000/svg\" height=\"24px\" viewBox=\"0 -960 960 960\">\n",
              "    <path d=\"M120-120v-720h720v720H120Zm60-500h600v-160H180v160Zm220 220h160v-160H400v160Zm0 220h160v-160H400v160ZM180-400h160v-160H180v160Zm440 0h160v-160H620v160ZM180-180h160v-160H180v160Zm440 0h160v-160H620v160Z\"/>\n",
              "  </svg>\n",
              "    </button>\n",
              "\n",
              "  <style>\n",
              "    .colab-df-container {\n",
              "      display:flex;\n",
              "      gap: 12px;\n",
              "    }\n",
              "\n",
              "    .colab-df-convert {\n",
              "      background-color: #E8F0FE;\n",
              "      border: none;\n",
              "      border-radius: 50%;\n",
              "      cursor: pointer;\n",
              "      display: none;\n",
              "      fill: #1967D2;\n",
              "      height: 32px;\n",
              "      padding: 0 0 0 0;\n",
              "      width: 32px;\n",
              "    }\n",
              "\n",
              "    .colab-df-convert:hover {\n",
              "      background-color: #E2EBFA;\n",
              "      box-shadow: 0px 1px 2px rgba(60, 64, 67, 0.3), 0px 1px 3px 1px rgba(60, 64, 67, 0.15);\n",
              "      fill: #174EA6;\n",
              "    }\n",
              "\n",
              "    .colab-df-buttons div {\n",
              "      margin-bottom: 4px;\n",
              "    }\n",
              "\n",
              "    [theme=dark] .colab-df-convert {\n",
              "      background-color: #3B4455;\n",
              "      fill: #D2E3FC;\n",
              "    }\n",
              "\n",
              "    [theme=dark] .colab-df-convert:hover {\n",
              "      background-color: #434B5C;\n",
              "      box-shadow: 0px 1px 3px 1px rgba(0, 0, 0, 0.15);\n",
              "      filter: drop-shadow(0px 1px 2px rgba(0, 0, 0, 0.3));\n",
              "      fill: #FFFFFF;\n",
              "    }\n",
              "  </style>\n",
              "\n",
              "    <script>\n",
              "      const buttonEl =\n",
              "        document.querySelector('#df-2df214c3-5bbe-41b7-9d41-1f55755b3449 button.colab-df-convert');\n",
              "      buttonEl.style.display =\n",
              "        google.colab.kernel.accessAllowed ? 'block' : 'none';\n",
              "\n",
              "      async function convertToInteractive(key) {\n",
              "        const element = document.querySelector('#df-2df214c3-5bbe-41b7-9d41-1f55755b3449');\n",
              "        const dataTable =\n",
              "          await google.colab.kernel.invokeFunction('convertToInteractive',\n",
              "                                                    [key], {});\n",
              "        if (!dataTable) return;\n",
              "\n",
              "        const docLinkHtml = 'Like what you see? Visit the ' +\n",
              "          '<a target=\"_blank\" href=https://colab.research.google.com/notebooks/data_table.ipynb>data table notebook</a>'\n",
              "          + ' to learn more about interactive tables.';\n",
              "        element.innerHTML = '';\n",
              "        dataTable['output_type'] = 'display_data';\n",
              "        await google.colab.output.renderOutput(dataTable, element);\n",
              "        const docLink = document.createElement('div');\n",
              "        docLink.innerHTML = docLinkHtml;\n",
              "        element.appendChild(docLink);\n",
              "      }\n",
              "    </script>\n",
              "  </div>\n",
              "\n",
              "\n",
              "<div id=\"df-b83a3af1-c946-4e7a-80a2-0de50b77d83b\">\n",
              "  <button class=\"colab-df-quickchart\" onclick=\"quickchart('df-b83a3af1-c946-4e7a-80a2-0de50b77d83b')\"\n",
              "            title=\"Suggest charts\"\n",
              "            style=\"display:none;\">\n",
              "\n",
              "<svg xmlns=\"http://www.w3.org/2000/svg\" height=\"24px\"viewBox=\"0 0 24 24\"\n",
              "     width=\"24px\">\n",
              "    <g>\n",
              "        <path d=\"M19 3H5c-1.1 0-2 .9-2 2v14c0 1.1.9 2 2 2h14c1.1 0 2-.9 2-2V5c0-1.1-.9-2-2-2zM9 17H7v-7h2v7zm4 0h-2V7h2v10zm4 0h-2v-4h2v4z\"/>\n",
              "    </g>\n",
              "</svg>\n",
              "  </button>\n",
              "\n",
              "<style>\n",
              "  .colab-df-quickchart {\n",
              "      --bg-color: #E8F0FE;\n",
              "      --fill-color: #1967D2;\n",
              "      --hover-bg-color: #E2EBFA;\n",
              "      --hover-fill-color: #174EA6;\n",
              "      --disabled-fill-color: #AAA;\n",
              "      --disabled-bg-color: #DDD;\n",
              "  }\n",
              "\n",
              "  [theme=dark] .colab-df-quickchart {\n",
              "      --bg-color: #3B4455;\n",
              "      --fill-color: #D2E3FC;\n",
              "      --hover-bg-color: #434B5C;\n",
              "      --hover-fill-color: #FFFFFF;\n",
              "      --disabled-bg-color: #3B4455;\n",
              "      --disabled-fill-color: #666;\n",
              "  }\n",
              "\n",
              "  .colab-df-quickchart {\n",
              "    background-color: var(--bg-color);\n",
              "    border: none;\n",
              "    border-radius: 50%;\n",
              "    cursor: pointer;\n",
              "    display: none;\n",
              "    fill: var(--fill-color);\n",
              "    height: 32px;\n",
              "    padding: 0;\n",
              "    width: 32px;\n",
              "  }\n",
              "\n",
              "  .colab-df-quickchart:hover {\n",
              "    background-color: var(--hover-bg-color);\n",
              "    box-shadow: 0 1px 2px rgba(60, 64, 67, 0.3), 0 1px 3px 1px rgba(60, 64, 67, 0.15);\n",
              "    fill: var(--button-hover-fill-color);\n",
              "  }\n",
              "\n",
              "  .colab-df-quickchart-complete:disabled,\n",
              "  .colab-df-quickchart-complete:disabled:hover {\n",
              "    background-color: var(--disabled-bg-color);\n",
              "    fill: var(--disabled-fill-color);\n",
              "    box-shadow: none;\n",
              "  }\n",
              "\n",
              "  .colab-df-spinner {\n",
              "    border: 2px solid var(--fill-color);\n",
              "    border-color: transparent;\n",
              "    border-bottom-color: var(--fill-color);\n",
              "    animation:\n",
              "      spin 1s steps(1) infinite;\n",
              "  }\n",
              "\n",
              "  @keyframes spin {\n",
              "    0% {\n",
              "      border-color: transparent;\n",
              "      border-bottom-color: var(--fill-color);\n",
              "      border-left-color: var(--fill-color);\n",
              "    }\n",
              "    20% {\n",
              "      border-color: transparent;\n",
              "      border-left-color: var(--fill-color);\n",
              "      border-top-color: var(--fill-color);\n",
              "    }\n",
              "    30% {\n",
              "      border-color: transparent;\n",
              "      border-left-color: var(--fill-color);\n",
              "      border-top-color: var(--fill-color);\n",
              "      border-right-color: var(--fill-color);\n",
              "    }\n",
              "    40% {\n",
              "      border-color: transparent;\n",
              "      border-right-color: var(--fill-color);\n",
              "      border-top-color: var(--fill-color);\n",
              "    }\n",
              "    60% {\n",
              "      border-color: transparent;\n",
              "      border-right-color: var(--fill-color);\n",
              "    }\n",
              "    80% {\n",
              "      border-color: transparent;\n",
              "      border-right-color: var(--fill-color);\n",
              "      border-bottom-color: var(--fill-color);\n",
              "    }\n",
              "    90% {\n",
              "      border-color: transparent;\n",
              "      border-bottom-color: var(--fill-color);\n",
              "    }\n",
              "  }\n",
              "</style>\n",
              "\n",
              "  <script>\n",
              "    async function quickchart(key) {\n",
              "      const quickchartButtonEl =\n",
              "        document.querySelector('#' + key + ' button');\n",
              "      quickchartButtonEl.disabled = true;  // To prevent multiple clicks.\n",
              "      quickchartButtonEl.classList.add('colab-df-spinner');\n",
              "      try {\n",
              "        const charts = await google.colab.kernel.invokeFunction(\n",
              "            'suggestCharts', [key], {});\n",
              "      } catch (error) {\n",
              "        console.error('Error during call to suggestCharts:', error);\n",
              "      }\n",
              "      quickchartButtonEl.classList.remove('colab-df-spinner');\n",
              "      quickchartButtonEl.classList.add('colab-df-quickchart-complete');\n",
              "    }\n",
              "    (() => {\n",
              "      let quickchartButtonEl =\n",
              "        document.querySelector('#df-b83a3af1-c946-4e7a-80a2-0de50b77d83b button');\n",
              "      quickchartButtonEl.style.display =\n",
              "        google.colab.kernel.accessAllowed ? 'block' : 'none';\n",
              "    })();\n",
              "  </script>\n",
              "</div>\n",
              "\n",
              "    </div>\n",
              "  </div>\n"
            ],
            "text/plain": [
              "      customerID  gender  Senior_Citizen  Is_Married Dependents  tenure  \\\n",
              "7038  6840-RESVB    Male                0        Yes        Yes      24   \n",
              "7039  2234-XADUH  Female                0        Yes        Yes      72   \n",
              "7040  4801-JZAZL  Female                0        Yes        Yes      11   \n",
              "7041  8361-LTMKD    Male                1        Yes         No       4   \n",
              "7042  3186-AJIEK    Male                0         No         No      66   \n",
              "\n",
              "     Phone_Service              Dual Internet_Service Online_Security  ...  \\\n",
              "7038           Yes               Yes              DSL             Yes  ...   \n",
              "7039           Yes               Yes      Fiber optic              No  ...   \n",
              "7040            No  No phone service              DSL             Yes  ...   \n",
              "7041           Yes               Yes      Fiber optic              No  ...   \n",
              "7042           Yes                No      Fiber optic             Yes  ...   \n",
              "\n",
              "     Device_Protection Tech_Support Streaming_TV Streaming_Movies  \\\n",
              "7038               Yes          Yes          Yes              Yes   \n",
              "7039               Yes           No          Yes              Yes   \n",
              "7040                No           No           No               No   \n",
              "7041                No           No           No               No   \n",
              "7042               Yes          Yes          Yes              Yes   \n",
              "\n",
              "            Contract Paperless_Billing             Payment_Method  \\\n",
              "7038        One year               Yes               Mailed check   \n",
              "7039        One year               Yes    Credit card (automatic)   \n",
              "7040  Month-to-month               Yes           Electronic check   \n",
              "7041  Month-to-month               Yes               Mailed check   \n",
              "7042        Two year               Yes  Bank transfer (automatic)   \n",
              "\n",
              "     Monthly_Charges  Total_Charges Churn  \n",
              "7038           84.80         1990.5    No  \n",
              "7039          103.20         7362.9    No  \n",
              "7040           29.60         346.45    No  \n",
              "7041           74.40          306.6   Yes  \n",
              "7042          105.65         6844.5    No  \n",
              "\n",
              "[5 rows x 21 columns]"
            ]
          },
          "execution_count": 7,
          "metadata": {},
          "output_type": "execute_result"
        }
      ],
      "source": [
        "data.tail()"
      ]
    },
    {
      "cell_type": "markdown",
      "metadata": {
        "id": "kbOmEpHGBDle"
      },
      "source": [
        "## Get Information about the dataset:"
      ]
    },
    {
      "cell_type": "code",
      "execution_count": 8,
      "metadata": {
        "colab": {
          "base_uri": "https://localhost:8080/"
        },
        "id": "HZ9zh0qM-Uis",
        "outputId": "e12748a4-f5a5-45ae-e709-c430b100cd28"
      },
      "outputs": [
        {
          "name": "stdout",
          "output_type": "stream",
          "text": [
            "<class 'pandas.core.frame.DataFrame'>\n",
            "RangeIndex: 7043 entries, 0 to 7042\n",
            "Data columns (total 21 columns):\n",
            " #   Column             Non-Null Count  Dtype  \n",
            "---  ------             --------------  -----  \n",
            " 0   customerID         7043 non-null   object \n",
            " 1   gender             7043 non-null   object \n",
            " 2   Senior_Citizen     7043 non-null   int64  \n",
            " 3   Is_Married         7043 non-null   object \n",
            " 4   Dependents         7043 non-null   object \n",
            " 5   tenure             7043 non-null   int64  \n",
            " 6   Phone_Service      7043 non-null   object \n",
            " 7   Dual               7043 non-null   object \n",
            " 8   Internet_Service   7043 non-null   object \n",
            " 9   Online_Security    7043 non-null   object \n",
            " 10  Online_Backup      7043 non-null   object \n",
            " 11  Device_Protection  7043 non-null   object \n",
            " 12  Tech_Support       7043 non-null   object \n",
            " 13  Streaming_TV       7043 non-null   object \n",
            " 14  Streaming_Movies   7043 non-null   object \n",
            " 15  Contract           7043 non-null   object \n",
            " 16  Paperless_Billing  7043 non-null   object \n",
            " 17  Payment_Method     7043 non-null   object \n",
            " 18  Monthly_Charges    7043 non-null   float64\n",
            " 19  Total_Charges      7043 non-null   object \n",
            " 20  Churn              7043 non-null   object \n",
            "dtypes: float64(1), int64(2), object(18)\n",
            "memory usage: 1.1+ MB\n"
          ]
        }
      ],
      "source": [
        "data.info()"
      ]
    },
    {
      "cell_type": "markdown",
      "metadata": {
        "id": "Se4bTNgHFRRM"
      },
      "source": [
        "## Coverting Some of the Object Datatype Columns to Numerical"
      ]
    },
    {
      "cell_type": "code",
      "execution_count": 9,
      "metadata": {
        "id": "j_glZiRfFf2G"
      },
      "outputs": [],
      "source": [
        "# Total_charges column should be of numerical type\n",
        "data['Total_Charges'] = data['Total_Charges'].apply(pd.to_numeric, errors='coerce') # invalid parsing will be set as NaN"
      ]
    },
    {
      "cell_type": "markdown",
      "metadata": {
        "id": "uer562iKBigW"
      },
      "source": [
        "## Checking Null Values"
      ]
    },
    {
      "cell_type": "code",
      "execution_count": 10,
      "metadata": {
        "colab": {
          "base_uri": "https://localhost:8080/",
          "height": 742
        },
        "id": "9zsjpU3n-W78",
        "outputId": "6534ce8d-38cf-4d3c-cda5-7970a1eb2d19"
      },
      "outputs": [
        {
          "data": {
            "text/html": [
              "<div>\n",
              "<style scoped>\n",
              "    .dataframe tbody tr th:only-of-type {\n",
              "        vertical-align: middle;\n",
              "    }\n",
              "\n",
              "    .dataframe tbody tr th {\n",
              "        vertical-align: top;\n",
              "    }\n",
              "\n",
              "    .dataframe thead th {\n",
              "        text-align: right;\n",
              "    }\n",
              "</style>\n",
              "<table border=\"1\" class=\"dataframe\">\n",
              "  <thead>\n",
              "    <tr style=\"text-align: right;\">\n",
              "      <th></th>\n",
              "      <th>0</th>\n",
              "    </tr>\n",
              "  </thead>\n",
              "  <tbody>\n",
              "    <tr>\n",
              "      <th>customerID</th>\n",
              "      <td>0</td>\n",
              "    </tr>\n",
              "    <tr>\n",
              "      <th>gender</th>\n",
              "      <td>0</td>\n",
              "    </tr>\n",
              "    <tr>\n",
              "      <th>Senior_Citizen</th>\n",
              "      <td>0</td>\n",
              "    </tr>\n",
              "    <tr>\n",
              "      <th>Is_Married</th>\n",
              "      <td>0</td>\n",
              "    </tr>\n",
              "    <tr>\n",
              "      <th>Dependents</th>\n",
              "      <td>0</td>\n",
              "    </tr>\n",
              "    <tr>\n",
              "      <th>tenure</th>\n",
              "      <td>0</td>\n",
              "    </tr>\n",
              "    <tr>\n",
              "      <th>Phone_Service</th>\n",
              "      <td>0</td>\n",
              "    </tr>\n",
              "    <tr>\n",
              "      <th>Dual</th>\n",
              "      <td>0</td>\n",
              "    </tr>\n",
              "    <tr>\n",
              "      <th>Internet_Service</th>\n",
              "      <td>0</td>\n",
              "    </tr>\n",
              "    <tr>\n",
              "      <th>Online_Security</th>\n",
              "      <td>0</td>\n",
              "    </tr>\n",
              "    <tr>\n",
              "      <th>Online_Backup</th>\n",
              "      <td>0</td>\n",
              "    </tr>\n",
              "    <tr>\n",
              "      <th>Device_Protection</th>\n",
              "      <td>0</td>\n",
              "    </tr>\n",
              "    <tr>\n",
              "      <th>Tech_Support</th>\n",
              "      <td>0</td>\n",
              "    </tr>\n",
              "    <tr>\n",
              "      <th>Streaming_TV</th>\n",
              "      <td>0</td>\n",
              "    </tr>\n",
              "    <tr>\n",
              "      <th>Streaming_Movies</th>\n",
              "      <td>0</td>\n",
              "    </tr>\n",
              "    <tr>\n",
              "      <th>Contract</th>\n",
              "      <td>0</td>\n",
              "    </tr>\n",
              "    <tr>\n",
              "      <th>Paperless_Billing</th>\n",
              "      <td>0</td>\n",
              "    </tr>\n",
              "    <tr>\n",
              "      <th>Payment_Method</th>\n",
              "      <td>0</td>\n",
              "    </tr>\n",
              "    <tr>\n",
              "      <th>Monthly_Charges</th>\n",
              "      <td>0</td>\n",
              "    </tr>\n",
              "    <tr>\n",
              "      <th>Total_Charges</th>\n",
              "      <td>11</td>\n",
              "    </tr>\n",
              "    <tr>\n",
              "      <th>Churn</th>\n",
              "      <td>0</td>\n",
              "    </tr>\n",
              "  </tbody>\n",
              "</table>\n",
              "</div><br><label><b>dtype:</b> int64</label>"
            ],
            "text/plain": [
              "customerID            0\n",
              "gender                0\n",
              "Senior_Citizen        0\n",
              "Is_Married            0\n",
              "Dependents            0\n",
              "tenure                0\n",
              "Phone_Service         0\n",
              "Dual                  0\n",
              "Internet_Service      0\n",
              "Online_Security       0\n",
              "Online_Backup         0\n",
              "Device_Protection     0\n",
              "Tech_Support          0\n",
              "Streaming_TV          0\n",
              "Streaming_Movies      0\n",
              "Contract              0\n",
              "Paperless_Billing     0\n",
              "Payment_Method        0\n",
              "Monthly_Charges       0\n",
              "Total_Charges        11\n",
              "Churn                 0\n",
              "dtype: int64"
            ]
          },
          "execution_count": 10,
          "metadata": {},
          "output_type": "execute_result"
        }
      ],
      "source": [
        "data.isnull().sum()"
      ]
    },
    {
      "cell_type": "code",
      "execution_count": 11,
      "metadata": {
        "colab": {
          "base_uri": "https://localhost:8080/"
        },
        "id": "peZ0eKg0Iy5T",
        "outputId": "152e7f07-b0e7-4c3e-f931-c25923b5b566"
      },
      "outputs": [
        {
          "name": "stdout",
          "output_type": "stream",
          "text": [
            "      customerID  gender  Senior_Citizen  Is_Married Dependents  tenure  \\\n",
            "488   4472-LVYGI  Female                0        Yes        Yes       0   \n",
            "753   3115-CZMZD    Male                0         No        Yes       0   \n",
            "936   5709-LVOEQ  Female                0        Yes        Yes       0   \n",
            "1082  4367-NUYAO    Male                0        Yes        Yes       0   \n",
            "1340  1371-DWPAZ  Female                0        Yes        Yes       0   \n",
            "3331  7644-OMVMY    Male                0        Yes        Yes       0   \n",
            "3826  3213-VVOLG    Male                0        Yes        Yes       0   \n",
            "4380  2520-SGTTA  Female                0        Yes        Yes       0   \n",
            "5218  2923-ARZLG    Male                0        Yes        Yes       0   \n",
            "6670  4075-WKNIU  Female                0        Yes        Yes       0   \n",
            "6754  2775-SEFEE    Male                0         No        Yes       0   \n",
            "\n",
            "     Phone_Service              Dual Internet_Service      Online_Security  \\\n",
            "488             No  No phone service              DSL                  Yes   \n",
            "753            Yes                No               No  No internet service   \n",
            "936            Yes                No              DSL                  Yes   \n",
            "1082           Yes               Yes               No  No internet service   \n",
            "1340            No  No phone service              DSL                  Yes   \n",
            "3331           Yes                No               No  No internet service   \n",
            "3826           Yes               Yes               No  No internet service   \n",
            "4380           Yes                No               No  No internet service   \n",
            "5218           Yes                No               No  No internet service   \n",
            "6670           Yes               Yes              DSL                   No   \n",
            "6754           Yes               Yes              DSL                  Yes   \n",
            "\n",
            "      ...    Device_Protection         Tech_Support         Streaming_TV  \\\n",
            "488   ...                  Yes                  Yes                  Yes   \n",
            "753   ...  No internet service  No internet service  No internet service   \n",
            "936   ...                  Yes                   No                  Yes   \n",
            "1082  ...  No internet service  No internet service  No internet service   \n",
            "1340  ...                  Yes                  Yes                  Yes   \n",
            "3331  ...  No internet service  No internet service  No internet service   \n",
            "3826  ...  No internet service  No internet service  No internet service   \n",
            "4380  ...  No internet service  No internet service  No internet service   \n",
            "5218  ...  No internet service  No internet service  No internet service   \n",
            "6670  ...                  Yes                  Yes                  Yes   \n",
            "6754  ...                   No                  Yes                   No   \n",
            "\n",
            "         Streaming_Movies  Contract Paperless_Billing  \\\n",
            "488                    No  Two year               Yes   \n",
            "753   No internet service  Two year                No   \n",
            "936                   Yes  Two year                No   \n",
            "1082  No internet service  Two year                No   \n",
            "1340                   No  Two year                No   \n",
            "3331  No internet service  Two year                No   \n",
            "3826  No internet service  Two year                No   \n",
            "4380  No internet service  Two year                No   \n",
            "5218  No internet service  One year               Yes   \n",
            "6670                   No  Two year                No   \n",
            "6754                   No  Two year               Yes   \n",
            "\n",
            "                 Payment_Method Monthly_Charges  Total_Charges  Churn  \n",
            "488   Bank transfer (automatic)           52.55            NaN     No  \n",
            "753                Mailed check           20.25            NaN     No  \n",
            "936                Mailed check           80.85            NaN     No  \n",
            "1082               Mailed check           25.75            NaN     No  \n",
            "1340    Credit card (automatic)           56.05            NaN     No  \n",
            "3331               Mailed check           19.85            NaN     No  \n",
            "3826               Mailed check           25.35            NaN     No  \n",
            "4380               Mailed check           20.00            NaN     No  \n",
            "5218               Mailed check           19.70            NaN     No  \n",
            "6670               Mailed check           73.35            NaN     No  \n",
            "6754  Bank transfer (automatic)           61.90            NaN     No  \n",
            "\n",
            "[11 rows x 21 columns]\n"
          ]
        }
      ],
      "source": [
        "# Check rows where Total_Charges is NaN\n",
        "nan_rows = data[data['Total_Charges'].isna()]\n",
        "print(nan_rows)"
      ]
    },
    {
      "cell_type": "code",
      "execution_count": 12,
      "metadata": {
        "id": "DEz7955_Ik02"
      },
      "outputs": [],
      "source": [
        "# Due to the dataset being big i decided to drop the rows\n",
        "\n",
        "# Drop rows with NaN in the 'Total_Charges' column\n",
        "data = data.dropna(subset=['Total_Charges'])"
      ]
    },
    {
      "cell_type": "code",
      "execution_count": 13,
      "metadata": {
        "colab": {
          "base_uri": "https://localhost:8080/"
        },
        "id": "k2Qup8oNKKIm",
        "outputId": "e186ecb9-b639-43d7-826a-17792d68ee26"
      },
      "outputs": [
        {
          "data": {
            "text/plain": [
              "0"
            ]
          },
          "execution_count": 13,
          "metadata": {},
          "output_type": "execute_result"
        }
      ],
      "source": [
        "data['Total_Charges'].isnull().sum()"
      ]
    },
    {
      "cell_type": "markdown",
      "metadata": {
        "id": "JUQXfRbZCCb6"
      },
      "source": [
        "## Checking Duplicates\n"
      ]
    },
    {
      "cell_type": "code",
      "execution_count": 14,
      "metadata": {
        "colab": {
          "base_uri": "https://localhost:8080/"
        },
        "id": "9Gx2TXXMCA0h",
        "outputId": "f666cdaf-34da-458a-e25e-a652d3d04c9f"
      },
      "outputs": [
        {
          "name": "stdout",
          "output_type": "stream",
          "text": [
            "False\n"
          ]
        }
      ],
      "source": [
        "data_dup = data.duplicated().any()\n",
        "print(data_dup)\n",
        "# data.drop_duplicates()"
      ]
    },
    {
      "cell_type": "markdown",
      "metadata": {
        "id": "7ybpGaR_CgLk"
      },
      "source": [
        "## Overall statistics about the dataset"
      ]
    },
    {
      "cell_type": "code",
      "execution_count": 15,
      "metadata": {
        "colab": {
          "base_uri": "https://localhost:8080/",
          "height": 300
        },
        "id": "Q-lt7WDbClvB",
        "outputId": "b5e9bbae-8907-4692-8a3f-3ada728f98b9"
      },
      "outputs": [
        {
          "data": {
            "application/vnd.google.colaboratory.intrinsic+json": {
              "summary": "{\n  \"name\": \"data\",\n  \"rows\": 8,\n  \"fields\": [\n    {\n      \"column\": \"Senior_Citizen \",\n      \"properties\": {\n        \"dtype\": \"number\",\n        \"std\": 2486.1101269017713,\n        \"min\": 0.0,\n        \"max\": 7032.0,\n        \"num_unique_values\": 5,\n        \"samples\": [\n          0.16240045506257111,\n          1.0,\n          0.3688439967571208\n        ],\n        \"semantic_type\": \"\",\n        \"description\": \"\"\n      }\n    },\n    {\n      \"column\": \"tenure\",\n      \"properties\": {\n        \"dtype\": \"number\",\n        \"std\": 2475.0322158792137,\n        \"min\": 1.0,\n        \"max\": 7032.0,\n        \"num_unique_values\": 8,\n        \"samples\": [\n          32.421786120591584,\n          29.0,\n          7032.0\n        ],\n        \"semantic_type\": \"\",\n        \"description\": \"\"\n      }\n    },\n    {\n      \"column\": \"Monthly_Charges\",\n      \"properties\": {\n        \"dtype\": \"number\",\n        \"std\": 2464.8092493026143,\n        \"min\": 18.25,\n        \"max\": 7032.0,\n        \"num_unique_values\": 8,\n        \"samples\": [\n          64.79820819112628,\n          70.35,\n          7032.0\n        ],\n        \"semantic_type\": \"\",\n        \"description\": \"\"\n      }\n    },\n    {\n      \"column\": \"Total_Charges\",\n      \"properties\": {\n        \"dtype\": \"number\",\n        \"std\": 3117.312944742373,\n        \"min\": 18.8,\n        \"max\": 8684.8,\n        \"num_unique_values\": 8,\n        \"samples\": [\n          2283.300440841866,\n          1397.475,\n          7032.0\n        ],\n        \"semantic_type\": \"\",\n        \"description\": \"\"\n      }\n    }\n  ]\n}",
              "type": "dataframe"
            },
            "text/html": [
              "\n",
              "  <div id=\"df-246dc247-4acb-462d-b610-fd6cb5c831ab\" class=\"colab-df-container\">\n",
              "    <div>\n",
              "<style scoped>\n",
              "    .dataframe tbody tr th:only-of-type {\n",
              "        vertical-align: middle;\n",
              "    }\n",
              "\n",
              "    .dataframe tbody tr th {\n",
              "        vertical-align: top;\n",
              "    }\n",
              "\n",
              "    .dataframe thead th {\n",
              "        text-align: right;\n",
              "    }\n",
              "</style>\n",
              "<table border=\"1\" class=\"dataframe\">\n",
              "  <thead>\n",
              "    <tr style=\"text-align: right;\">\n",
              "      <th></th>\n",
              "      <th>Senior_Citizen</th>\n",
              "      <th>tenure</th>\n",
              "      <th>Monthly_Charges</th>\n",
              "      <th>Total_Charges</th>\n",
              "    </tr>\n",
              "  </thead>\n",
              "  <tbody>\n",
              "    <tr>\n",
              "      <th>count</th>\n",
              "      <td>7032.000000</td>\n",
              "      <td>7032.000000</td>\n",
              "      <td>7032.000000</td>\n",
              "      <td>7032.000000</td>\n",
              "    </tr>\n",
              "    <tr>\n",
              "      <th>mean</th>\n",
              "      <td>0.162400</td>\n",
              "      <td>32.421786</td>\n",
              "      <td>64.798208</td>\n",
              "      <td>2283.300441</td>\n",
              "    </tr>\n",
              "    <tr>\n",
              "      <th>std</th>\n",
              "      <td>0.368844</td>\n",
              "      <td>24.545260</td>\n",
              "      <td>30.085974</td>\n",
              "      <td>2266.771362</td>\n",
              "    </tr>\n",
              "    <tr>\n",
              "      <th>min</th>\n",
              "      <td>0.000000</td>\n",
              "      <td>1.000000</td>\n",
              "      <td>18.250000</td>\n",
              "      <td>18.800000</td>\n",
              "    </tr>\n",
              "    <tr>\n",
              "      <th>25%</th>\n",
              "      <td>0.000000</td>\n",
              "      <td>9.000000</td>\n",
              "      <td>35.587500</td>\n",
              "      <td>401.450000</td>\n",
              "    </tr>\n",
              "    <tr>\n",
              "      <th>50%</th>\n",
              "      <td>0.000000</td>\n",
              "      <td>29.000000</td>\n",
              "      <td>70.350000</td>\n",
              "      <td>1397.475000</td>\n",
              "    </tr>\n",
              "    <tr>\n",
              "      <th>75%</th>\n",
              "      <td>0.000000</td>\n",
              "      <td>55.000000</td>\n",
              "      <td>89.862500</td>\n",
              "      <td>3794.737500</td>\n",
              "    </tr>\n",
              "    <tr>\n",
              "      <th>max</th>\n",
              "      <td>1.000000</td>\n",
              "      <td>72.000000</td>\n",
              "      <td>118.750000</td>\n",
              "      <td>8684.800000</td>\n",
              "    </tr>\n",
              "  </tbody>\n",
              "</table>\n",
              "</div>\n",
              "    <div class=\"colab-df-buttons\">\n",
              "\n",
              "  <div class=\"colab-df-container\">\n",
              "    <button class=\"colab-df-convert\" onclick=\"convertToInteractive('df-246dc247-4acb-462d-b610-fd6cb5c831ab')\"\n",
              "            title=\"Convert this dataframe to an interactive table.\"\n",
              "            style=\"display:none;\">\n",
              "\n",
              "  <svg xmlns=\"http://www.w3.org/2000/svg\" height=\"24px\" viewBox=\"0 -960 960 960\">\n",
              "    <path d=\"M120-120v-720h720v720H120Zm60-500h600v-160H180v160Zm220 220h160v-160H400v160Zm0 220h160v-160H400v160ZM180-400h160v-160H180v160Zm440 0h160v-160H620v160ZM180-180h160v-160H180v160Zm440 0h160v-160H620v160Z\"/>\n",
              "  </svg>\n",
              "    </button>\n",
              "\n",
              "  <style>\n",
              "    .colab-df-container {\n",
              "      display:flex;\n",
              "      gap: 12px;\n",
              "    }\n",
              "\n",
              "    .colab-df-convert {\n",
              "      background-color: #E8F0FE;\n",
              "      border: none;\n",
              "      border-radius: 50%;\n",
              "      cursor: pointer;\n",
              "      display: none;\n",
              "      fill: #1967D2;\n",
              "      height: 32px;\n",
              "      padding: 0 0 0 0;\n",
              "      width: 32px;\n",
              "    }\n",
              "\n",
              "    .colab-df-convert:hover {\n",
              "      background-color: #E2EBFA;\n",
              "      box-shadow: 0px 1px 2px rgba(60, 64, 67, 0.3), 0px 1px 3px 1px rgba(60, 64, 67, 0.15);\n",
              "      fill: #174EA6;\n",
              "    }\n",
              "\n",
              "    .colab-df-buttons div {\n",
              "      margin-bottom: 4px;\n",
              "    }\n",
              "\n",
              "    [theme=dark] .colab-df-convert {\n",
              "      background-color: #3B4455;\n",
              "      fill: #D2E3FC;\n",
              "    }\n",
              "\n",
              "    [theme=dark] .colab-df-convert:hover {\n",
              "      background-color: #434B5C;\n",
              "      box-shadow: 0px 1px 3px 1px rgba(0, 0, 0, 0.15);\n",
              "      filter: drop-shadow(0px 1px 2px rgba(0, 0, 0, 0.3));\n",
              "      fill: #FFFFFF;\n",
              "    }\n",
              "  </style>\n",
              "\n",
              "    <script>\n",
              "      const buttonEl =\n",
              "        document.querySelector('#df-246dc247-4acb-462d-b610-fd6cb5c831ab button.colab-df-convert');\n",
              "      buttonEl.style.display =\n",
              "        google.colab.kernel.accessAllowed ? 'block' : 'none';\n",
              "\n",
              "      async function convertToInteractive(key) {\n",
              "        const element = document.querySelector('#df-246dc247-4acb-462d-b610-fd6cb5c831ab');\n",
              "        const dataTable =\n",
              "          await google.colab.kernel.invokeFunction('convertToInteractive',\n",
              "                                                    [key], {});\n",
              "        if (!dataTable) return;\n",
              "\n",
              "        const docLinkHtml = 'Like what you see? Visit the ' +\n",
              "          '<a target=\"_blank\" href=https://colab.research.google.com/notebooks/data_table.ipynb>data table notebook</a>'\n",
              "          + ' to learn more about interactive tables.';\n",
              "        element.innerHTML = '';\n",
              "        dataTable['output_type'] = 'display_data';\n",
              "        await google.colab.output.renderOutput(dataTable, element);\n",
              "        const docLink = document.createElement('div');\n",
              "        docLink.innerHTML = docLinkHtml;\n",
              "        element.appendChild(docLink);\n",
              "      }\n",
              "    </script>\n",
              "  </div>\n",
              "\n",
              "\n",
              "<div id=\"df-464d891f-6dd9-4981-b997-75e19347c7be\">\n",
              "  <button class=\"colab-df-quickchart\" onclick=\"quickchart('df-464d891f-6dd9-4981-b997-75e19347c7be')\"\n",
              "            title=\"Suggest charts\"\n",
              "            style=\"display:none;\">\n",
              "\n",
              "<svg xmlns=\"http://www.w3.org/2000/svg\" height=\"24px\"viewBox=\"0 0 24 24\"\n",
              "     width=\"24px\">\n",
              "    <g>\n",
              "        <path d=\"M19 3H5c-1.1 0-2 .9-2 2v14c0 1.1.9 2 2 2h14c1.1 0 2-.9 2-2V5c0-1.1-.9-2-2-2zM9 17H7v-7h2v7zm4 0h-2V7h2v10zm4 0h-2v-4h2v4z\"/>\n",
              "    </g>\n",
              "</svg>\n",
              "  </button>\n",
              "\n",
              "<style>\n",
              "  .colab-df-quickchart {\n",
              "      --bg-color: #E8F0FE;\n",
              "      --fill-color: #1967D2;\n",
              "      --hover-bg-color: #E2EBFA;\n",
              "      --hover-fill-color: #174EA6;\n",
              "      --disabled-fill-color: #AAA;\n",
              "      --disabled-bg-color: #DDD;\n",
              "  }\n",
              "\n",
              "  [theme=dark] .colab-df-quickchart {\n",
              "      --bg-color: #3B4455;\n",
              "      --fill-color: #D2E3FC;\n",
              "      --hover-bg-color: #434B5C;\n",
              "      --hover-fill-color: #FFFFFF;\n",
              "      --disabled-bg-color: #3B4455;\n",
              "      --disabled-fill-color: #666;\n",
              "  }\n",
              "\n",
              "  .colab-df-quickchart {\n",
              "    background-color: var(--bg-color);\n",
              "    border: none;\n",
              "    border-radius: 50%;\n",
              "    cursor: pointer;\n",
              "    display: none;\n",
              "    fill: var(--fill-color);\n",
              "    height: 32px;\n",
              "    padding: 0;\n",
              "    width: 32px;\n",
              "  }\n",
              "\n",
              "  .colab-df-quickchart:hover {\n",
              "    background-color: var(--hover-bg-color);\n",
              "    box-shadow: 0 1px 2px rgba(60, 64, 67, 0.3), 0 1px 3px 1px rgba(60, 64, 67, 0.15);\n",
              "    fill: var(--button-hover-fill-color);\n",
              "  }\n",
              "\n",
              "  .colab-df-quickchart-complete:disabled,\n",
              "  .colab-df-quickchart-complete:disabled:hover {\n",
              "    background-color: var(--disabled-bg-color);\n",
              "    fill: var(--disabled-fill-color);\n",
              "    box-shadow: none;\n",
              "  }\n",
              "\n",
              "  .colab-df-spinner {\n",
              "    border: 2px solid var(--fill-color);\n",
              "    border-color: transparent;\n",
              "    border-bottom-color: var(--fill-color);\n",
              "    animation:\n",
              "      spin 1s steps(1) infinite;\n",
              "  }\n",
              "\n",
              "  @keyframes spin {\n",
              "    0% {\n",
              "      border-color: transparent;\n",
              "      border-bottom-color: var(--fill-color);\n",
              "      border-left-color: var(--fill-color);\n",
              "    }\n",
              "    20% {\n",
              "      border-color: transparent;\n",
              "      border-left-color: var(--fill-color);\n",
              "      border-top-color: var(--fill-color);\n",
              "    }\n",
              "    30% {\n",
              "      border-color: transparent;\n",
              "      border-left-color: var(--fill-color);\n",
              "      border-top-color: var(--fill-color);\n",
              "      border-right-color: var(--fill-color);\n",
              "    }\n",
              "    40% {\n",
              "      border-color: transparent;\n",
              "      border-right-color: var(--fill-color);\n",
              "      border-top-color: var(--fill-color);\n",
              "    }\n",
              "    60% {\n",
              "      border-color: transparent;\n",
              "      border-right-color: var(--fill-color);\n",
              "    }\n",
              "    80% {\n",
              "      border-color: transparent;\n",
              "      border-right-color: var(--fill-color);\n",
              "      border-bottom-color: var(--fill-color);\n",
              "    }\n",
              "    90% {\n",
              "      border-color: transparent;\n",
              "      border-bottom-color: var(--fill-color);\n",
              "    }\n",
              "  }\n",
              "</style>\n",
              "\n",
              "  <script>\n",
              "    async function quickchart(key) {\n",
              "      const quickchartButtonEl =\n",
              "        document.querySelector('#' + key + ' button');\n",
              "      quickchartButtonEl.disabled = true;  // To prevent multiple clicks.\n",
              "      quickchartButtonEl.classList.add('colab-df-spinner');\n",
              "      try {\n",
              "        const charts = await google.colab.kernel.invokeFunction(\n",
              "            'suggestCharts', [key], {});\n",
              "      } catch (error) {\n",
              "        console.error('Error during call to suggestCharts:', error);\n",
              "      }\n",
              "      quickchartButtonEl.classList.remove('colab-df-spinner');\n",
              "      quickchartButtonEl.classList.add('colab-df-quickchart-complete');\n",
              "    }\n",
              "    (() => {\n",
              "      let quickchartButtonEl =\n",
              "        document.querySelector('#df-464d891f-6dd9-4981-b997-75e19347c7be button');\n",
              "      quickchartButtonEl.style.display =\n",
              "        google.colab.kernel.accessAllowed ? 'block' : 'none';\n",
              "    })();\n",
              "  </script>\n",
              "</div>\n",
              "\n",
              "    </div>\n",
              "  </div>\n"
            ],
            "text/plain": [
              "       Senior_Citizen        tenure  Monthly_Charges  Total_Charges\n",
              "count      7032.000000  7032.000000      7032.000000    7032.000000\n",
              "mean          0.162400    32.421786        64.798208    2283.300441\n",
              "std           0.368844    24.545260        30.085974    2266.771362\n",
              "min           0.000000     1.000000        18.250000      18.800000\n",
              "25%           0.000000     9.000000        35.587500     401.450000\n",
              "50%           0.000000    29.000000        70.350000    1397.475000\n",
              "75%           0.000000    55.000000        89.862500    3794.737500\n",
              "max           1.000000    72.000000       118.750000    8684.800000"
            ]
          },
          "execution_count": 15,
          "metadata": {},
          "output_type": "execute_result"
        }
      ],
      "source": [
        "data.describe()"
      ]
    },
    {
      "cell_type": "markdown",
      "metadata": {
        "id": "-CbhNZ4eTorT"
      },
      "source": [
        "## Splitting the Dataset into Features and a Target"
      ]
    },
    {
      "cell_type": "code",
      "execution_count": 16,
      "metadata": {
        "id": "aSPirtJVT2KY"
      },
      "outputs": [],
      "source": [
        "X = data.iloc[:, 1:-1] # Excluding the customerid and the churn\n",
        "y = data.iloc[:, -1] # Churn"
      ]
    },
    {
      "cell_type": "code",
      "execution_count": 17,
      "metadata": {
        "colab": {
          "base_uri": "https://localhost:8080/"
        },
        "id": "GpcqXHsfUW5s",
        "outputId": "d8f07317-bfdc-4f32-e702-cdaaa20a62f0"
      },
      "outputs": [
        {
          "name": "stdout",
          "output_type": "stream",
          "text": [
            "(7032, 19)\n",
            "(7032,)\n"
          ]
        }
      ],
      "source": [
        "print(X.shape)\n",
        "print(y.shape)"
      ]
    },
    {
      "cell_type": "code",
      "execution_count": 18,
      "metadata": {
        "colab": {
          "base_uri": "https://localhost:8080/",
          "height": 330
        },
        "id": "cQ-RqMMAUajq",
        "outputId": "e0d18005-4e48-4a2d-e80b-3726089906e0"
      },
      "outputs": [
        {
          "data": {
            "application/vnd.google.colaboratory.intrinsic+json": {
              "summary": "{\n  \"name\": \"X\",\n  \"rows\": 7032,\n  \"fields\": [\n    {\n      \"column\": \"gender\",\n      \"properties\": {\n        \"dtype\": \"category\",\n        \"num_unique_values\": 2,\n        \"samples\": [\n          \"Male\",\n          \"Female\"\n        ],\n        \"semantic_type\": \"\",\n        \"description\": \"\"\n      }\n    },\n    {\n      \"column\": \"Senior_Citizen \",\n      \"properties\": {\n        \"dtype\": \"number\",\n        \"std\": 0,\n        \"min\": 0,\n        \"max\": 1,\n        \"num_unique_values\": 2,\n        \"samples\": [\n          1,\n          0\n        ],\n        \"semantic_type\": \"\",\n        \"description\": \"\"\n      }\n    },\n    {\n      \"column\": \"Is_Married\",\n      \"properties\": {\n        \"dtype\": \"category\",\n        \"num_unique_values\": 2,\n        \"samples\": [\n          \"No\",\n          \"Yes\"\n        ],\n        \"semantic_type\": \"\",\n        \"description\": \"\"\n      }\n    },\n    {\n      \"column\": \"Dependents\",\n      \"properties\": {\n        \"dtype\": \"category\",\n        \"num_unique_values\": 2,\n        \"samples\": [\n          \"Yes\",\n          \"No\"\n        ],\n        \"semantic_type\": \"\",\n        \"description\": \"\"\n      }\n    },\n    {\n      \"column\": \"tenure\",\n      \"properties\": {\n        \"dtype\": \"number\",\n        \"std\": 24,\n        \"min\": 1,\n        \"max\": 72,\n        \"num_unique_values\": 72,\n        \"samples\": [\n          8,\n          53\n        ],\n        \"semantic_type\": \"\",\n        \"description\": \"\"\n      }\n    },\n    {\n      \"column\": \"Phone_Service\",\n      \"properties\": {\n        \"dtype\": \"category\",\n        \"num_unique_values\": 2,\n        \"samples\": [\n          \"Yes\",\n          \"No\"\n        ],\n        \"semantic_type\": \"\",\n        \"description\": \"\"\n      }\n    },\n    {\n      \"column\": \"Dual\",\n      \"properties\": {\n        \"dtype\": \"category\",\n        \"num_unique_values\": 3,\n        \"samples\": [\n          \"No phone service\",\n          \"No\"\n        ],\n        \"semantic_type\": \"\",\n        \"description\": \"\"\n      }\n    },\n    {\n      \"column\": \"Internet_Service\",\n      \"properties\": {\n        \"dtype\": \"category\",\n        \"num_unique_values\": 3,\n        \"samples\": [\n          \"DSL\",\n          \"Fiber optic\"\n        ],\n        \"semantic_type\": \"\",\n        \"description\": \"\"\n      }\n    },\n    {\n      \"column\": \"Online_Security\",\n      \"properties\": {\n        \"dtype\": \"category\",\n        \"num_unique_values\": 3,\n        \"samples\": [\n          \"No\",\n          \"Yes\"\n        ],\n        \"semantic_type\": \"\",\n        \"description\": \"\"\n      }\n    },\n    {\n      \"column\": \"Online_Backup\",\n      \"properties\": {\n        \"dtype\": \"category\",\n        \"num_unique_values\": 3,\n        \"samples\": [\n          \"Yes\",\n          \"No\"\n        ],\n        \"semantic_type\": \"\",\n        \"description\": \"\"\n      }\n    },\n    {\n      \"column\": \"Device_Protection\",\n      \"properties\": {\n        \"dtype\": \"category\",\n        \"num_unique_values\": 3,\n        \"samples\": [\n          \"No\",\n          \"Yes\"\n        ],\n        \"semantic_type\": \"\",\n        \"description\": \"\"\n      }\n    },\n    {\n      \"column\": \"Tech_Support\",\n      \"properties\": {\n        \"dtype\": \"category\",\n        \"num_unique_values\": 3,\n        \"samples\": [\n          \"No\",\n          \"Yes\"\n        ],\n        \"semantic_type\": \"\",\n        \"description\": \"\"\n      }\n    },\n    {\n      \"column\": \"Streaming_TV\",\n      \"properties\": {\n        \"dtype\": \"category\",\n        \"num_unique_values\": 3,\n        \"samples\": [\n          \"No\",\n          \"Yes\"\n        ],\n        \"semantic_type\": \"\",\n        \"description\": \"\"\n      }\n    },\n    {\n      \"column\": \"Streaming_Movies\",\n      \"properties\": {\n        \"dtype\": \"category\",\n        \"num_unique_values\": 3,\n        \"samples\": [\n          \"No\",\n          \"Yes\"\n        ],\n        \"semantic_type\": \"\",\n        \"description\": \"\"\n      }\n    },\n    {\n      \"column\": \"Contract\",\n      \"properties\": {\n        \"dtype\": \"category\",\n        \"num_unique_values\": 3,\n        \"samples\": [\n          \"Month-to-month\",\n          \"One year\"\n        ],\n        \"semantic_type\": \"\",\n        \"description\": \"\"\n      }\n    },\n    {\n      \"column\": \"Paperless_Billing\",\n      \"properties\": {\n        \"dtype\": \"category\",\n        \"num_unique_values\": 2,\n        \"samples\": [\n          \"No\",\n          \"Yes\"\n        ],\n        \"semantic_type\": \"\",\n        \"description\": \"\"\n      }\n    },\n    {\n      \"column\": \"Payment_Method\",\n      \"properties\": {\n        \"dtype\": \"category\",\n        \"num_unique_values\": 4,\n        \"samples\": [\n          \"Mailed check\",\n          \"Credit card (automatic)\"\n        ],\n        \"semantic_type\": \"\",\n        \"description\": \"\"\n      }\n    },\n    {\n      \"column\": \"Monthly_Charges\",\n      \"properties\": {\n        \"dtype\": \"number\",\n        \"std\": 30.08597388404983,\n        \"min\": 18.25,\n        \"max\": 118.75,\n        \"num_unique_values\": 1584,\n        \"samples\": [\n          102.85,\n          20.05\n        ],\n        \"semantic_type\": \"\",\n        \"description\": \"\"\n      }\n    },\n    {\n      \"column\": \"Total_Charges\",\n      \"properties\": {\n        \"dtype\": \"number\",\n        \"std\": 2266.7713618831453,\n        \"min\": 18.8,\n        \"max\": 8684.8,\n        \"num_unique_values\": 6530,\n        \"samples\": [\n          5594.0,\n          6840.95\n        ],\n        \"semantic_type\": \"\",\n        \"description\": \"\"\n      }\n    }\n  ]\n}",
              "type": "dataframe",
              "variable_name": "X"
            },
            "text/html": [
              "\n",
              "  <div id=\"df-78e9d01d-b850-4f70-b0b8-049a64ac4248\" class=\"colab-df-container\">\n",
              "    <div>\n",
              "<style scoped>\n",
              "    .dataframe tbody tr th:only-of-type {\n",
              "        vertical-align: middle;\n",
              "    }\n",
              "\n",
              "    .dataframe tbody tr th {\n",
              "        vertical-align: top;\n",
              "    }\n",
              "\n",
              "    .dataframe thead th {\n",
              "        text-align: right;\n",
              "    }\n",
              "</style>\n",
              "<table border=\"1\" class=\"dataframe\">\n",
              "  <thead>\n",
              "    <tr style=\"text-align: right;\">\n",
              "      <th></th>\n",
              "      <th>gender</th>\n",
              "      <th>Senior_Citizen</th>\n",
              "      <th>Is_Married</th>\n",
              "      <th>Dependents</th>\n",
              "      <th>tenure</th>\n",
              "      <th>Phone_Service</th>\n",
              "      <th>Dual</th>\n",
              "      <th>Internet_Service</th>\n",
              "      <th>Online_Security</th>\n",
              "      <th>Online_Backup</th>\n",
              "      <th>Device_Protection</th>\n",
              "      <th>Tech_Support</th>\n",
              "      <th>Streaming_TV</th>\n",
              "      <th>Streaming_Movies</th>\n",
              "      <th>Contract</th>\n",
              "      <th>Paperless_Billing</th>\n",
              "      <th>Payment_Method</th>\n",
              "      <th>Monthly_Charges</th>\n",
              "      <th>Total_Charges</th>\n",
              "    </tr>\n",
              "  </thead>\n",
              "  <tbody>\n",
              "    <tr>\n",
              "      <th>0</th>\n",
              "      <td>Female</td>\n",
              "      <td>0</td>\n",
              "      <td>Yes</td>\n",
              "      <td>No</td>\n",
              "      <td>1</td>\n",
              "      <td>No</td>\n",
              "      <td>No phone service</td>\n",
              "      <td>DSL</td>\n",
              "      <td>No</td>\n",
              "      <td>Yes</td>\n",
              "      <td>No</td>\n",
              "      <td>No</td>\n",
              "      <td>No</td>\n",
              "      <td>No</td>\n",
              "      <td>Month-to-month</td>\n",
              "      <td>Yes</td>\n",
              "      <td>Electronic check</td>\n",
              "      <td>29.85</td>\n",
              "      <td>29.85</td>\n",
              "    </tr>\n",
              "    <tr>\n",
              "      <th>1</th>\n",
              "      <td>Male</td>\n",
              "      <td>0</td>\n",
              "      <td>No</td>\n",
              "      <td>No</td>\n",
              "      <td>34</td>\n",
              "      <td>Yes</td>\n",
              "      <td>No</td>\n",
              "      <td>DSL</td>\n",
              "      <td>Yes</td>\n",
              "      <td>No</td>\n",
              "      <td>Yes</td>\n",
              "      <td>No</td>\n",
              "      <td>No</td>\n",
              "      <td>No</td>\n",
              "      <td>One year</td>\n",
              "      <td>No</td>\n",
              "      <td>Mailed check</td>\n",
              "      <td>56.95</td>\n",
              "      <td>1889.50</td>\n",
              "    </tr>\n",
              "    <tr>\n",
              "      <th>2</th>\n",
              "      <td>Male</td>\n",
              "      <td>0</td>\n",
              "      <td>No</td>\n",
              "      <td>No</td>\n",
              "      <td>2</td>\n",
              "      <td>Yes</td>\n",
              "      <td>No</td>\n",
              "      <td>DSL</td>\n",
              "      <td>Yes</td>\n",
              "      <td>Yes</td>\n",
              "      <td>No</td>\n",
              "      <td>No</td>\n",
              "      <td>No</td>\n",
              "      <td>No</td>\n",
              "      <td>Month-to-month</td>\n",
              "      <td>Yes</td>\n",
              "      <td>Mailed check</td>\n",
              "      <td>53.85</td>\n",
              "      <td>108.15</td>\n",
              "    </tr>\n",
              "    <tr>\n",
              "      <th>3</th>\n",
              "      <td>Male</td>\n",
              "      <td>0</td>\n",
              "      <td>No</td>\n",
              "      <td>No</td>\n",
              "      <td>45</td>\n",
              "      <td>No</td>\n",
              "      <td>No phone service</td>\n",
              "      <td>DSL</td>\n",
              "      <td>Yes</td>\n",
              "      <td>No</td>\n",
              "      <td>Yes</td>\n",
              "      <td>Yes</td>\n",
              "      <td>No</td>\n",
              "      <td>No</td>\n",
              "      <td>One year</td>\n",
              "      <td>No</td>\n",
              "      <td>Bank transfer (automatic)</td>\n",
              "      <td>42.30</td>\n",
              "      <td>1840.75</td>\n",
              "    </tr>\n",
              "    <tr>\n",
              "      <th>4</th>\n",
              "      <td>Female</td>\n",
              "      <td>0</td>\n",
              "      <td>No</td>\n",
              "      <td>No</td>\n",
              "      <td>2</td>\n",
              "      <td>Yes</td>\n",
              "      <td>No</td>\n",
              "      <td>Fiber optic</td>\n",
              "      <td>No</td>\n",
              "      <td>No</td>\n",
              "      <td>No</td>\n",
              "      <td>No</td>\n",
              "      <td>No</td>\n",
              "      <td>No</td>\n",
              "      <td>Month-to-month</td>\n",
              "      <td>Yes</td>\n",
              "      <td>Electronic check</td>\n",
              "      <td>70.70</td>\n",
              "      <td>151.65</td>\n",
              "    </tr>\n",
              "  </tbody>\n",
              "</table>\n",
              "</div>\n",
              "    <div class=\"colab-df-buttons\">\n",
              "\n",
              "  <div class=\"colab-df-container\">\n",
              "    <button class=\"colab-df-convert\" onclick=\"convertToInteractive('df-78e9d01d-b850-4f70-b0b8-049a64ac4248')\"\n",
              "            title=\"Convert this dataframe to an interactive table.\"\n",
              "            style=\"display:none;\">\n",
              "\n",
              "  <svg xmlns=\"http://www.w3.org/2000/svg\" height=\"24px\" viewBox=\"0 -960 960 960\">\n",
              "    <path d=\"M120-120v-720h720v720H120Zm60-500h600v-160H180v160Zm220 220h160v-160H400v160Zm0 220h160v-160H400v160ZM180-400h160v-160H180v160Zm440 0h160v-160H620v160ZM180-180h160v-160H180v160Zm440 0h160v-160H620v160Z\"/>\n",
              "  </svg>\n",
              "    </button>\n",
              "\n",
              "  <style>\n",
              "    .colab-df-container {\n",
              "      display:flex;\n",
              "      gap: 12px;\n",
              "    }\n",
              "\n",
              "    .colab-df-convert {\n",
              "      background-color: #E8F0FE;\n",
              "      border: none;\n",
              "      border-radius: 50%;\n",
              "      cursor: pointer;\n",
              "      display: none;\n",
              "      fill: #1967D2;\n",
              "      height: 32px;\n",
              "      padding: 0 0 0 0;\n",
              "      width: 32px;\n",
              "    }\n",
              "\n",
              "    .colab-df-convert:hover {\n",
              "      background-color: #E2EBFA;\n",
              "      box-shadow: 0px 1px 2px rgba(60, 64, 67, 0.3), 0px 1px 3px 1px rgba(60, 64, 67, 0.15);\n",
              "      fill: #174EA6;\n",
              "    }\n",
              "\n",
              "    .colab-df-buttons div {\n",
              "      margin-bottom: 4px;\n",
              "    }\n",
              "\n",
              "    [theme=dark] .colab-df-convert {\n",
              "      background-color: #3B4455;\n",
              "      fill: #D2E3FC;\n",
              "    }\n",
              "\n",
              "    [theme=dark] .colab-df-convert:hover {\n",
              "      background-color: #434B5C;\n",
              "      box-shadow: 0px 1px 3px 1px rgba(0, 0, 0, 0.15);\n",
              "      filter: drop-shadow(0px 1px 2px rgba(0, 0, 0, 0.3));\n",
              "      fill: #FFFFFF;\n",
              "    }\n",
              "  </style>\n",
              "\n",
              "    <script>\n",
              "      const buttonEl =\n",
              "        document.querySelector('#df-78e9d01d-b850-4f70-b0b8-049a64ac4248 button.colab-df-convert');\n",
              "      buttonEl.style.display =\n",
              "        google.colab.kernel.accessAllowed ? 'block' : 'none';\n",
              "\n",
              "      async function convertToInteractive(key) {\n",
              "        const element = document.querySelector('#df-78e9d01d-b850-4f70-b0b8-049a64ac4248');\n",
              "        const dataTable =\n",
              "          await google.colab.kernel.invokeFunction('convertToInteractive',\n",
              "                                                    [key], {});\n",
              "        if (!dataTable) return;\n",
              "\n",
              "        const docLinkHtml = 'Like what you see? Visit the ' +\n",
              "          '<a target=\"_blank\" href=https://colab.research.google.com/notebooks/data_table.ipynb>data table notebook</a>'\n",
              "          + ' to learn more about interactive tables.';\n",
              "        element.innerHTML = '';\n",
              "        dataTable['output_type'] = 'display_data';\n",
              "        await google.colab.output.renderOutput(dataTable, element);\n",
              "        const docLink = document.createElement('div');\n",
              "        docLink.innerHTML = docLinkHtml;\n",
              "        element.appendChild(docLink);\n",
              "      }\n",
              "    </script>\n",
              "  </div>\n",
              "\n",
              "\n",
              "<div id=\"df-bd071d66-00d2-46be-bdca-72912d1ea852\">\n",
              "  <button class=\"colab-df-quickchart\" onclick=\"quickchart('df-bd071d66-00d2-46be-bdca-72912d1ea852')\"\n",
              "            title=\"Suggest charts\"\n",
              "            style=\"display:none;\">\n",
              "\n",
              "<svg xmlns=\"http://www.w3.org/2000/svg\" height=\"24px\"viewBox=\"0 0 24 24\"\n",
              "     width=\"24px\">\n",
              "    <g>\n",
              "        <path d=\"M19 3H5c-1.1 0-2 .9-2 2v14c0 1.1.9 2 2 2h14c1.1 0 2-.9 2-2V5c0-1.1-.9-2-2-2zM9 17H7v-7h2v7zm4 0h-2V7h2v10zm4 0h-2v-4h2v4z\"/>\n",
              "    </g>\n",
              "</svg>\n",
              "  </button>\n",
              "\n",
              "<style>\n",
              "  .colab-df-quickchart {\n",
              "      --bg-color: #E8F0FE;\n",
              "      --fill-color: #1967D2;\n",
              "      --hover-bg-color: #E2EBFA;\n",
              "      --hover-fill-color: #174EA6;\n",
              "      --disabled-fill-color: #AAA;\n",
              "      --disabled-bg-color: #DDD;\n",
              "  }\n",
              "\n",
              "  [theme=dark] .colab-df-quickchart {\n",
              "      --bg-color: #3B4455;\n",
              "      --fill-color: #D2E3FC;\n",
              "      --hover-bg-color: #434B5C;\n",
              "      --hover-fill-color: #FFFFFF;\n",
              "      --disabled-bg-color: #3B4455;\n",
              "      --disabled-fill-color: #666;\n",
              "  }\n",
              "\n",
              "  .colab-df-quickchart {\n",
              "    background-color: var(--bg-color);\n",
              "    border: none;\n",
              "    border-radius: 50%;\n",
              "    cursor: pointer;\n",
              "    display: none;\n",
              "    fill: var(--fill-color);\n",
              "    height: 32px;\n",
              "    padding: 0;\n",
              "    width: 32px;\n",
              "  }\n",
              "\n",
              "  .colab-df-quickchart:hover {\n",
              "    background-color: var(--hover-bg-color);\n",
              "    box-shadow: 0 1px 2px rgba(60, 64, 67, 0.3), 0 1px 3px 1px rgba(60, 64, 67, 0.15);\n",
              "    fill: var(--button-hover-fill-color);\n",
              "  }\n",
              "\n",
              "  .colab-df-quickchart-complete:disabled,\n",
              "  .colab-df-quickchart-complete:disabled:hover {\n",
              "    background-color: var(--disabled-bg-color);\n",
              "    fill: var(--disabled-fill-color);\n",
              "    box-shadow: none;\n",
              "  }\n",
              "\n",
              "  .colab-df-spinner {\n",
              "    border: 2px solid var(--fill-color);\n",
              "    border-color: transparent;\n",
              "    border-bottom-color: var(--fill-color);\n",
              "    animation:\n",
              "      spin 1s steps(1) infinite;\n",
              "  }\n",
              "\n",
              "  @keyframes spin {\n",
              "    0% {\n",
              "      border-color: transparent;\n",
              "      border-bottom-color: var(--fill-color);\n",
              "      border-left-color: var(--fill-color);\n",
              "    }\n",
              "    20% {\n",
              "      border-color: transparent;\n",
              "      border-left-color: var(--fill-color);\n",
              "      border-top-color: var(--fill-color);\n",
              "    }\n",
              "    30% {\n",
              "      border-color: transparent;\n",
              "      border-left-color: var(--fill-color);\n",
              "      border-top-color: var(--fill-color);\n",
              "      border-right-color: var(--fill-color);\n",
              "    }\n",
              "    40% {\n",
              "      border-color: transparent;\n",
              "      border-right-color: var(--fill-color);\n",
              "      border-top-color: var(--fill-color);\n",
              "    }\n",
              "    60% {\n",
              "      border-color: transparent;\n",
              "      border-right-color: var(--fill-color);\n",
              "    }\n",
              "    80% {\n",
              "      border-color: transparent;\n",
              "      border-right-color: var(--fill-color);\n",
              "      border-bottom-color: var(--fill-color);\n",
              "    }\n",
              "    90% {\n",
              "      border-color: transparent;\n",
              "      border-bottom-color: var(--fill-color);\n",
              "    }\n",
              "  }\n",
              "</style>\n",
              "\n",
              "  <script>\n",
              "    async function quickchart(key) {\n",
              "      const quickchartButtonEl =\n",
              "        document.querySelector('#' + key + ' button');\n",
              "      quickchartButtonEl.disabled = true;  // To prevent multiple clicks.\n",
              "      quickchartButtonEl.classList.add('colab-df-spinner');\n",
              "      try {\n",
              "        const charts = await google.colab.kernel.invokeFunction(\n",
              "            'suggestCharts', [key], {});\n",
              "      } catch (error) {\n",
              "        console.error('Error during call to suggestCharts:', error);\n",
              "      }\n",
              "      quickchartButtonEl.classList.remove('colab-df-spinner');\n",
              "      quickchartButtonEl.classList.add('colab-df-quickchart-complete');\n",
              "    }\n",
              "    (() => {\n",
              "      let quickchartButtonEl =\n",
              "        document.querySelector('#df-bd071d66-00d2-46be-bdca-72912d1ea852 button');\n",
              "      quickchartButtonEl.style.display =\n",
              "        google.colab.kernel.accessAllowed ? 'block' : 'none';\n",
              "    })();\n",
              "  </script>\n",
              "</div>\n",
              "\n",
              "    </div>\n",
              "  </div>\n"
            ],
            "text/plain": [
              "   gender  Senior_Citizen  Is_Married Dependents  tenure Phone_Service  \\\n",
              "0  Female                0        Yes         No       1            No   \n",
              "1    Male                0         No         No      34           Yes   \n",
              "2    Male                0         No         No       2           Yes   \n",
              "3    Male                0         No         No      45            No   \n",
              "4  Female                0         No         No       2           Yes   \n",
              "\n",
              "               Dual Internet_Service Online_Security Online_Backup  \\\n",
              "0  No phone service              DSL              No           Yes   \n",
              "1                No              DSL             Yes            No   \n",
              "2                No              DSL             Yes           Yes   \n",
              "3  No phone service              DSL             Yes            No   \n",
              "4                No      Fiber optic              No            No   \n",
              "\n",
              "  Device_Protection Tech_Support Streaming_TV Streaming_Movies  \\\n",
              "0                No           No           No               No   \n",
              "1               Yes           No           No               No   \n",
              "2                No           No           No               No   \n",
              "3               Yes          Yes           No               No   \n",
              "4                No           No           No               No   \n",
              "\n",
              "         Contract Paperless_Billing             Payment_Method  \\\n",
              "0  Month-to-month               Yes           Electronic check   \n",
              "1        One year                No               Mailed check   \n",
              "2  Month-to-month               Yes               Mailed check   \n",
              "3        One year                No  Bank transfer (automatic)   \n",
              "4  Month-to-month               Yes           Electronic check   \n",
              "\n",
              "   Monthly_Charges  Total_Charges  \n",
              "0            29.85          29.85  \n",
              "1            56.95        1889.50  \n",
              "2            53.85         108.15  \n",
              "3            42.30        1840.75  \n",
              "4            70.70         151.65  "
            ]
          },
          "execution_count": 18,
          "metadata": {},
          "output_type": "execute_result"
        }
      ],
      "source": [
        "X.head(5)"
      ]
    },
    {
      "cell_type": "code",
      "execution_count": 19,
      "metadata": {
        "colab": {
          "base_uri": "https://localhost:8080/",
          "height": 241
        },
        "id": "HAeFQQWuUh2E",
        "outputId": "12695e6c-40a3-49aa-d3b0-720052b0bd55"
      },
      "outputs": [
        {
          "data": {
            "text/html": [
              "<div>\n",
              "<style scoped>\n",
              "    .dataframe tbody tr th:only-of-type {\n",
              "        vertical-align: middle;\n",
              "    }\n",
              "\n",
              "    .dataframe tbody tr th {\n",
              "        vertical-align: top;\n",
              "    }\n",
              "\n",
              "    .dataframe thead th {\n",
              "        text-align: right;\n",
              "    }\n",
              "</style>\n",
              "<table border=\"1\" class=\"dataframe\">\n",
              "  <thead>\n",
              "    <tr style=\"text-align: right;\">\n",
              "      <th></th>\n",
              "      <th>Churn</th>\n",
              "    </tr>\n",
              "  </thead>\n",
              "  <tbody>\n",
              "    <tr>\n",
              "      <th>0</th>\n",
              "      <td>No</td>\n",
              "    </tr>\n",
              "    <tr>\n",
              "      <th>1</th>\n",
              "      <td>No</td>\n",
              "    </tr>\n",
              "    <tr>\n",
              "      <th>2</th>\n",
              "      <td>Yes</td>\n",
              "    </tr>\n",
              "    <tr>\n",
              "      <th>3</th>\n",
              "      <td>No</td>\n",
              "    </tr>\n",
              "    <tr>\n",
              "      <th>4</th>\n",
              "      <td>Yes</td>\n",
              "    </tr>\n",
              "  </tbody>\n",
              "</table>\n",
              "</div><br><label><b>dtype:</b> object</label>"
            ],
            "text/plain": [
              "0     No\n",
              "1     No\n",
              "2    Yes\n",
              "3     No\n",
              "4    Yes\n",
              "Name: Churn, dtype: object"
            ]
          },
          "execution_count": 19,
          "metadata": {},
          "output_type": "execute_result"
        }
      ],
      "source": [
        "y.head(5)"
      ]
    },
    {
      "cell_type": "code",
      "execution_count": 20,
      "metadata": {
        "colab": {
          "base_uri": "https://localhost:8080/",
          "height": 487
        },
        "id": "dukzdQVV3bJY",
        "outputId": "9013cbf4-05ae-43a9-db85-1359a1610fca"
      },
      "outputs": [
        {
          "data": {
            "image/png": "[encoded data removed]",
            "text/plain": [
              "<Figure size 800x500 with 1 Axes>"
            ]
          },
          "metadata": {},
          "output_type": "display_data"
        }
      ],
      "source": [
        "# Get the count of each class\n",
        "class_counts = y.value_counts() # Counts of unique values\n",
        "\n",
        "# Plot the counts as a bar chart\n",
        "plt.figure(figsize=(8, 5))\n",
        "class_counts.plot(kind='bar', color=['skyblue', 'orange'])\n",
        "plt.title('Class Distribution \"Churn\"')\n",
        "plt.xlabel('Class')\n",
        "plt.ylabel('Count')\n",
        "plt.xticks(rotation=0)\n",
        "plt.show()"
      ]
    },
    {
      "cell_type": "code",
      "execution_count": 21,
      "metadata": {
        "colab": {
          "base_uri": "https://localhost:8080/",
          "height": 428
        },
        "id": "070BT2-M7ReD",
        "outputId": "3a5343d9-f13e-4280-88b0-02d67933907c"
      },
      "outputs": [
        {
          "data": {
            "image/png": "[encoded data removed]",
            "text/plain": [
              "<Figure size 640x480 with 1 Axes>"
            ]
          },
          "metadata": {},
          "output_type": "display_data"
        }
      ],
      "source": [
        "class_counts.plot.pie(autopct='%1.2f%%', colors=['skyblue', 'orange'])\n",
        "plt.title('Class Distribution \"Churn\"')\n",
        "plt.ylabel('')\n",
        "plt.show()\n",
        "# Looks Like an Imbalanced Dataset"
      ]
    },
    {
      "cell_type": "markdown",
      "metadata": {
        "id": "z5jektdsSwE3"
      },
      "source": [
        "## Encoding Categorical Data"
      ]
    },
    {
      "cell_type": "code",
      "execution_count": 22,
      "metadata": {
        "colab": {
          "base_uri": "https://localhost:8080/"
        },
        "id": "e4pij4p7Svd4",
        "outputId": "589a3fae-2ec6-458f-847f-0933ed1526cd"
      },
      "outputs": [
        {
          "name": "stdout",
          "output_type": "stream",
          "text": [
            "gender: ['Female' 'Male']\n",
            "Is_Married: ['Yes' 'No']\n",
            "Dependents: ['No' 'Yes']\n",
            "Phone_Service: ['No' 'Yes']\n",
            "Dual: ['No phone service' 'No' 'Yes']\n",
            "Internet_Service: ['DSL' 'Fiber optic' 'No']\n",
            "Online_Security: ['No' 'Yes' 'No internet service']\n",
            "Online_Backup: ['Yes' 'No' 'No internet service']\n",
            "Device_Protection: ['No' 'Yes' 'No internet service']\n",
            "Tech_Support: ['No' 'Yes' 'No internet service']\n",
            "Streaming_TV: ['No' 'Yes' 'No internet service']\n",
            "Streaming_Movies: ['No' 'Yes' 'No internet service']\n",
            "Contract: ['Month-to-month' 'One year' 'Two year']\n",
            "Paperless_Billing: ['Yes' 'No']\n",
            "Payment_Method: ['Electronic check' 'Mailed check' 'Bank transfer (automatic)'\n",
            " 'Credit card (automatic)']\n",
            "\n",
            "One-Hot Encoded :  ['Dual', 'Internet_Service', 'Online_Security', 'Online_Backup', 'Device_Protection', 'Tech_Support', 'Streaming_TV', 'Streaming_Movies', 'Contract', 'Payment_Method'] \n",
            "\n",
            "Label Encoded :  ['gender', 'Is_Married', 'Dependents', 'Phone_Service', 'Paperless_Billing']\n"
          ]
        }
      ],
      "source": [
        "# Checking unique values to choose which technique to apply\n",
        "should_be_one_hot_encoded = []\n",
        "should_be_label_encoded = []\n",
        "\n",
        "for col in X.columns:\n",
        "    if X[col].dtypes == 'object': # Exclude numerical values\n",
        "        print(f'{col}: {X[col].unique()}')\n",
        "        if len(X[col].unique()) > 2:\n",
        "            should_be_one_hot_encoded.append(col)\n",
        "        else:\n",
        "            should_be_label_encoded.append(col)\n",
        "\n",
        "print('\\nOne-Hot Encoded : ', should_be_one_hot_encoded, '\\n')\n",
        "print('Label Encoded : ', should_be_label_encoded)"
      ]
    },
    {
      "cell_type": "markdown",
      "metadata": {
        "id": "TfiuO0CvW7VB"
      },
      "source": [
        "### Apply Label Encoding\n"
      ]
    },
    {
      "cell_type": "code",
      "execution_count": 23,
      "metadata": {
        "colab": {
          "base_uri": "https://localhost:8080/"
        },
        "id": "YWnKNO_KW3ho",
        "outputId": "c03ff39a-8727-41f7-840b-5ebf4be0425c"
      },
      "outputs": [
        {
          "name": "stdout",
          "output_type": "stream",
          "text": [
            "gender: [0 1]\n",
            "Is_Married: [1 0]\n",
            "Dependents: [0 1]\n",
            "Phone_Service: [0 1]\n",
            "Paperless_Billing: [1 0]\n"
          ]
        }
      ],
      "source": [
        "le = LabelEncoder()\n",
        "for col in should_be_label_encoded:\n",
        "    X[col] = le.fit_transform(X[col]) # Apply label encoding for each column\n",
        "\n",
        "for col in should_be_label_encoded:\n",
        "    print(f'{col}: {X[col].unique()}')"
      ]
    },
    {
      "cell_type": "code",
      "execution_count": 24,
      "metadata": {
        "colab": {
          "base_uri": "https://localhost:8080/"
        },
        "id": "bTNdUx7oZP3V",
        "outputId": "f3218c9f-e6dd-436a-a0f5-12f314a0dc06"
      },
      "outputs": [
        {
          "name": "stdout",
          "output_type": "stream",
          "text": [
            "[0 0 1 ... 0 1 0]\n"
          ]
        }
      ],
      "source": [
        "# Label Encoding the Target\n",
        "y = le.fit_transform(y)\n",
        "print(y)"
      ]
    },
    {
      "cell_type": "markdown",
      "metadata": {
        "id": "eyiM2o8HXBaZ"
      },
      "source": [
        "### Apply One-Hot Encoding"
      ]
    },
    {
      "cell_type": "code",
      "execution_count": 25,
      "metadata": {
        "colab": {
          "base_uri": "https://localhost:8080/"
        },
        "id": "umUarx2BXHfn",
        "outputId": "5ed90885-a856-453c-c669-9004ab7d47ec"
      },
      "outputs": [
        {
          "name": "stdout",
          "output_type": "stream",
          "text": [
            "[ 6  7  8  9 10 11 12 13 14 16]\n",
            "[[0.0000e+00 1.0000e+00 0.0000e+00 ... 1.0000e+00 2.9850e+01 2.9850e+01]\n",
            " [1.0000e+00 0.0000e+00 0.0000e+00 ... 0.0000e+00 5.6950e+01 1.8895e+03]\n",
            " [1.0000e+00 0.0000e+00 0.0000e+00 ... 1.0000e+00 5.3850e+01 1.0815e+02]\n",
            " ...\n",
            " [0.0000e+00 1.0000e+00 0.0000e+00 ... 1.0000e+00 2.9600e+01 3.4645e+02]\n",
            " [0.0000e+00 0.0000e+00 1.0000e+00 ... 1.0000e+00 7.4400e+01 3.0660e+02]\n",
            " [1.0000e+00 0.0000e+00 0.0000e+00 ... 1.0000e+00 1.0565e+02 6.8445e+03]]\n"
          ]
        }
      ],
      "source": [
        "# Get the indexes of columns to transform\n",
        "hot_encode_indexes = X.columns.get_indexer(should_be_one_hot_encoded)\n",
        "print(hot_encode_indexes)\n",
        "ct = ColumnTransformer(transformers=[('encoder', OneHotEncoder(), hot_encode_indexes)], remainder='passthrough')\n",
        "# Fit and transform the data\n",
        "X_transformed = np.array(ct.fit_transform(X))\n",
        "print(X_transformed)"
      ]
    },
    {
      "cell_type": "code",
      "execution_count": 26,
      "metadata": {
        "colab": {
          "base_uri": "https://localhost:8080/"
        },
        "id": "NtyVRt54aXHX",
        "outputId": "adde9be4-c794-4300-8372-2857c2ee451f"
      },
      "outputs": [
        {
          "name": "stdout",
          "output_type": "stream",
          "text": [
            "      Dual_No  Dual_No phone service  Dual_Yes  Internet_Service_DSL  \\\n",
            "0         0.0                    1.0       0.0                   1.0   \n",
            "1         1.0                    0.0       0.0                   1.0   \n",
            "2         1.0                    0.0       0.0                   1.0   \n",
            "3         0.0                    1.0       0.0                   1.0   \n",
            "4         1.0                    0.0       0.0                   0.0   \n",
            "...       ...                    ...       ...                   ...   \n",
            "7027      0.0                    0.0       1.0                   1.0   \n",
            "7028      0.0                    0.0       1.0                   0.0   \n",
            "7029      0.0                    1.0       0.0                   1.0   \n",
            "7030      0.0                    0.0       1.0                   0.0   \n",
            "7031      1.0                    0.0       0.0                   0.0   \n",
            "\n",
            "      Internet_Service_Fiber optic  Internet_Service_No  Online_Security_No  \\\n",
            "0                              0.0                  0.0                 1.0   \n",
            "1                              0.0                  0.0                 0.0   \n",
            "2                              0.0                  0.0                 0.0   \n",
            "3                              0.0                  0.0                 0.0   \n",
            "4                              1.0                  0.0                 1.0   \n",
            "...                            ...                  ...                 ...   \n",
            "7027                           0.0                  0.0                 0.0   \n",
            "7028                           1.0                  0.0                 1.0   \n",
            "7029                           0.0                  0.0                 0.0   \n",
            "7030                           1.0                  0.0                 1.0   \n",
            "7031                           1.0                  0.0                 0.0   \n",
            "\n",
            "      Online_Security_No internet service  Online_Security_Yes  \\\n",
            "0                                     0.0                  0.0   \n",
            "1                                     0.0                  1.0   \n",
            "2                                     0.0                  1.0   \n",
            "3                                     0.0                  1.0   \n",
            "4                                     0.0                  0.0   \n",
            "...                                   ...                  ...   \n",
            "7027                                  0.0                  1.0   \n",
            "7028                                  0.0                  0.0   \n",
            "7029                                  0.0                  1.0   \n",
            "7030                                  0.0                  0.0   \n",
            "7031                                  0.0                  1.0   \n",
            "\n",
            "      Online_Backup_No  ...  Payment_Method_Mailed check  Dependents  \\\n",
            "0                  0.0  ...                          0.0         0.0   \n",
            "1                  1.0  ...                          1.0         1.0   \n",
            "2                  0.0  ...                          1.0         1.0   \n",
            "3                  1.0  ...                          0.0         1.0   \n",
            "4                  1.0  ...                          0.0         0.0   \n",
            "...                ...  ...                          ...         ...   \n",
            "7027               1.0  ...                          1.0         1.0   \n",
            "7028               0.0  ...                          0.0         0.0   \n",
            "7029               1.0  ...                          0.0         0.0   \n",
            "7030               1.0  ...                          1.0         1.0   \n",
            "7031               1.0  ...                          0.0         1.0   \n",
            "\n",
            "      Is_Married  Monthly_Charges  Paperless_Billing  Phone_Service  \\\n",
            "0            0.0              1.0                0.0            1.0   \n",
            "1            0.0              0.0                0.0           34.0   \n",
            "2            0.0              0.0                0.0            2.0   \n",
            "3            0.0              0.0                0.0           45.0   \n",
            "4            0.0              0.0                0.0            2.0   \n",
            "...          ...              ...                ...            ...   \n",
            "7027         0.0              1.0                1.0           24.0   \n",
            "7028         0.0              1.0                1.0           72.0   \n",
            "7029         0.0              1.0                1.0           11.0   \n",
            "7030         1.0              1.0                0.0            4.0   \n",
            "7031         0.0              0.0                0.0           66.0   \n",
            "\n",
            "      Senior_Citizen   Total_Charges  gender   tenure  \n",
            "0                 0.0            1.0   29.85    29.85  \n",
            "1                 1.0            0.0   56.95  1889.50  \n",
            "2                 1.0            1.0   53.85   108.15  \n",
            "3                 0.0            0.0   42.30  1840.75  \n",
            "4                 1.0            1.0   70.70   151.65  \n",
            "...               ...            ...     ...      ...  \n",
            "7027              1.0            1.0   84.80  1990.50  \n",
            "7028              1.0            1.0  103.20  7362.90  \n",
            "7029              0.0            1.0   29.60   346.45  \n",
            "7030              1.0            1.0   74.40   306.60  \n",
            "7031              1.0            1.0  105.65  6844.50  \n",
            "\n",
            "[7032 rows x 40 columns]\n"
          ]
        }
      ],
      "source": [
        "# Get the feature names for the one-hot encoded columns\n",
        "encoder = ct.transformers_[0][1]  # The encoder used for one-hot encoding\n",
        "encoded_feature_names = encoder.get_feature_names_out(input_features=should_be_one_hot_encoded)\n",
        "\n",
        "# Create a DataFrame with the transformed data\n",
        "# Concatenate the new one-hot encoded feature names and original columns that weren't transformed\n",
        "X_transformed_df = pd.DataFrame(X_transformed, columns=np.concatenate([encoded_feature_names, X.columns.difference(should_be_one_hot_encoded)]))\n",
        "\n",
        "# Show the resulting DataFrame\n",
        "print(X_transformed_df)"
      ]
    },
    {
      "cell_type": "markdown",
      "metadata": {
        "id": "_mi00W6V0nCX"
      },
      "source": [
        "## Feature Selection Using Correlation"
      ]
    },
    {
      "cell_type": "code",
      "execution_count": 27,
      "metadata": {
        "colab": {
          "base_uri": "https://localhost:8080/",
          "height": 1000
        },
        "id": "1DOmtu1mxhzZ",
        "outputId": "e672ec6b-2aeb-49b9-d047-db285726944e"
      },
      "outputs": [
        {
          "data": {
            "text/plain": [
              "<Figure size 1500x800 with 0 Axes>"
            ]
          },
          "metadata": {},
          "output_type": "display_data"
        },
        {
          "data": {
            "image/png": "[encoded data removed]",
            "text/plain": [
              "<Figure size 1500x800 with 1 Axes>"
            ]
          },
          "metadata": {},
          "output_type": "display_data"
        }
      ],
      "source": [
        "#Get Correlation of \"Churn\" with other variables:\n",
        "plt.figure(figsize=(15,8))\n",
        "y_df = pd.DataFrame(y, columns=['Churn'])\n",
        "\n",
        "# Concatenate the feature DataFrame and the target DataFrame\n",
        "new_df = pd.concat([X_transformed_df, y_df], axis=1)\n",
        "\n",
        "# Calculate correlations with the 'Churn' column\n",
        "correlation = new_df.corr()['Churn'].sort_values(ascending=False)\n",
        "\n",
        "# Plot the correlation of Churn with other variables\n",
        "plt.figure(figsize=(15, 8))\n",
        "correlation.plot(kind='bar')\n",
        "plt.title(\"Correlation of Features with Churn\")\n",
        "plt.ylabel(\"Correlation Coefficient\")\n",
        "plt.show()"
      ]
    },
    {
      "cell_type": "markdown",
      "metadata": {
        "id": "kj2WgfEU01qq"
      },
      "source": [
        "## Feature Selection Using RandomForest"
      ]
    },
    {
      "cell_type": "code",
      "execution_count": 28,
      "metadata": {
        "colab": {
          "base_uri": "https://localhost:8080/",
          "height": 847
        },
        "id": "cKg3ge_MhLpq",
        "outputId": "52640479-c353-4b4d-be94-f13c9475779a"
      },
      "outputs": [
        {
          "name": "stdout",
          "output_type": "stream",
          "text": [
            "[0.0134645  0.00362119 0.01211903 0.01114978 0.02472343 0.00236605\n",
            " 0.02996051 0.00290799 0.01045103 0.0183466  0.00095171 0.0115077\n",
            " 0.01623842 0.00317968 0.01109489 0.03035744 0.00331088 0.01148571\n",
            " 0.01093526 0.00247654 0.01134598 0.01143882 0.00173175 0.01090508\n",
            " 0.05363645 0.00967561 0.01567628 0.01177007 0.01208563 0.02799879\n",
            " 0.01081188 0.02810681 0.02097648 0.02340859 0.01894302 0.15290328\n",
            " 0.00322414 0.02444555 0.14982801 0.17043944]\n"
          ]
        },
        {
          "data": {
            "image/png": "[encoded data removed]",
            "text/plain": [
              "<Figure size 1500x800 with 1 Axes>"
            ]
          },
          "metadata": {},
          "output_type": "display_data"
        }
      ],
      "source": [
        "# Dataset has mixed values between numerical and categorical so its best to use randomforest rather than correlation matrix or chi-square\n",
        "model = RandomForestClassifier()\n",
        "model.fit(X_transformed, y)\n",
        "\n",
        "# Get feature importances\n",
        "importances = model.feature_importances_\n",
        "print(importances)\n",
        "\n",
        "# Create a DataFrame to store feature names and their importances\n",
        "features_df = pd.DataFrame({\n",
        "    'Feature': X_transformed_df.columns,\n",
        "    'Importance': importances\n",
        "})\n",
        "\n",
        "# Sort the features by importance in descending order\n",
        "features_df = features_df.sort_values(by='Importance', ascending=True)\n",
        "\n",
        "\n",
        "# Plot the feature importances\n",
        "plt.figure(figsize=(15, 8))\n",
        "plt.barh(features_df['Feature'], features_df['Importance'], color='purple')\n",
        "plt.xlabel('Importance')\n",
        "plt.title('Feature Importances from RandomForestClassifier')\n",
        "plt.show()"
      ]
    },
    {
      "cell_type": "markdown",
      "metadata": {
        "id": "WtMcx-GUA2oO"
      },
      "source": [
        "## Keeping High-Correlated Features Only"
      ]
    },
    {
      "cell_type": "code",
      "execution_count": 29,
      "metadata": {
        "colab": {
          "base_uri": "https://localhost:8080/"
        },
        "id": "9Q4CjpRJA15E",
        "outputId": "c1f532ad-af80-4ee9-f495-70a64feee413"
      },
      "outputs": [
        {
          "name": "stdout",
          "output_type": "stream",
          "text": [
            "Online_Security_Yes\n",
            "Payment_Method_Mailed check\n",
            "Streaming_Movies_Yes\n",
            "Streaming_TV_No\n",
            "Device_Protection_Yes\n",
            "Internet_Service_DSL\n",
            "Streaming_TV_Yes\n",
            "Streaming_Movies_No\n",
            "Tech_Support_Yes\n",
            "Online_Backup_Yes\n",
            "Payment_Method_Bank transfer (automatic)\n",
            "Payment_Method_Credit card (automatic)\n",
            "Dual_Yes\n",
            "Dual_No\n",
            "Contract_Two year\n",
            "Device_Protection_No\n",
            "Online_Backup_No\n",
            "Paperless_Billing\n",
            "Is_Married\n",
            "Monthly_Charges\n",
            "Total_Charges\n",
            "Internet_Service_Fiber optic\n",
            "Payment_Method_Electronic check\n",
            "Dependents\n",
            "Online_Security_No\n",
            "Tech_Support_No\n",
            "Contract_Month-to-month\n",
            "gender\n",
            "Phone_Service\n",
            "tenure\n",
            "      Dual_No  Dual_Yes  Internet_Service_DSL  Internet_Service_Fiber optic  \\\n",
            "0         0.0       0.0                   1.0                           0.0   \n",
            "1         1.0       0.0                   1.0                           0.0   \n",
            "2         1.0       0.0                   1.0                           0.0   \n",
            "3         0.0       0.0                   1.0                           0.0   \n",
            "4         1.0       0.0                   0.0                           1.0   \n",
            "...       ...       ...                   ...                           ...   \n",
            "7027      0.0       1.0                   1.0                           0.0   \n",
            "7028      0.0       1.0                   0.0                           1.0   \n",
            "7029      0.0       0.0                   1.0                           0.0   \n",
            "7030      0.0       1.0                   0.0                           1.0   \n",
            "7031      1.0       0.0                   0.0                           1.0   \n",
            "\n",
            "      Online_Security_No  Online_Security_Yes  Online_Backup_No  \\\n",
            "0                    1.0                  0.0               0.0   \n",
            "1                    0.0                  1.0               1.0   \n",
            "2                    0.0                  1.0               0.0   \n",
            "3                    0.0                  1.0               1.0   \n",
            "4                    1.0                  0.0               1.0   \n",
            "...                  ...                  ...               ...   \n",
            "7027                 0.0                  1.0               1.0   \n",
            "7028                 1.0                  0.0               0.0   \n",
            "7029                 0.0                  1.0               1.0   \n",
            "7030                 1.0                  0.0               1.0   \n",
            "7031                 0.0                  1.0               1.0   \n",
            "\n",
            "      Online_Backup_Yes  Device_Protection_No  Device_Protection_Yes  ...  \\\n",
            "0                   1.0                   1.0                    0.0  ...   \n",
            "1                   0.0                   0.0                    1.0  ...   \n",
            "2                   1.0                   1.0                    0.0  ...   \n",
            "3                   0.0                   0.0                    1.0  ...   \n",
            "4                   0.0                   1.0                    0.0  ...   \n",
            "...                 ...                   ...                    ...  ...   \n",
            "7027                0.0                   0.0                    1.0  ...   \n",
            "7028                1.0                   0.0                    1.0  ...   \n",
            "7029                0.0                   1.0                    0.0  ...   \n",
            "7030                0.0                   1.0                    0.0  ...   \n",
            "7031                0.0                   0.0                    1.0  ...   \n",
            "\n",
            "      Payment_Method_Electronic check  Payment_Method_Mailed check  \\\n",
            "0                                 1.0                          0.0   \n",
            "1                                 0.0                          1.0   \n",
            "2                                 0.0                          1.0   \n",
            "3                                 0.0                          0.0   \n",
            "4                                 1.0                          0.0   \n",
            "...                               ...                          ...   \n",
            "7027                              0.0                          1.0   \n",
            "7028                              0.0                          0.0   \n",
            "7029                              1.0                          0.0   \n",
            "7030                              0.0                          1.0   \n",
            "7031                              0.0                          0.0   \n",
            "\n",
            "      Dependents  Is_Married  Monthly_Charges  Paperless_Billing  \\\n",
            "0            0.0         0.0              1.0                0.0   \n",
            "1            1.0         0.0              0.0                0.0   \n",
            "2            1.0         0.0              0.0                0.0   \n",
            "3            1.0         0.0              0.0                0.0   \n",
            "4            0.0         0.0              0.0                0.0   \n",
            "...          ...         ...              ...                ...   \n",
            "7027         1.0         0.0              1.0                1.0   \n",
            "7028         0.0         0.0              1.0                1.0   \n",
            "7029         0.0         0.0              1.0                1.0   \n",
            "7030         1.0         1.0              1.0                0.0   \n",
            "7031         1.0         0.0              0.0                0.0   \n",
            "\n",
            "      Phone_Service  Total_Charges  gender   tenure  \n",
            "0               1.0            1.0   29.85    29.85  \n",
            "1              34.0            0.0   56.95  1889.50  \n",
            "2               2.0            1.0   53.85   108.15  \n",
            "3              45.0            0.0   42.30  1840.75  \n",
            "4               2.0            1.0   70.70   151.65  \n",
            "...             ...            ...     ...      ...  \n",
            "7027           24.0            1.0   84.80  1990.50  \n",
            "7028           72.0            1.0  103.20  7362.90  \n",
            "7029           11.0            1.0   29.60   346.45  \n",
            "7030            4.0            1.0   74.40   306.60  \n",
            "7031           66.0            1.0  105.65  6844.50  \n",
            "\n",
            "[7032 rows x 30 columns]\n"
          ]
        }
      ],
      "source": [
        "number_of_features = 15 # Take highest 15 features\n",
        "filtered_features = []\n",
        "for feature in features_df.tail(number_of_features).Feature:\n",
        "    print(feature)\n",
        "    filtered_features.append(feature)\n",
        "\n",
        "for feature in X_transformed_df.columns:\n",
        "    if feature not in filtered_features:\n",
        "        X_transformed_df = X_transformed_df.drop(feature, axis=1)\n",
        "\n",
        "print(X_transformed_df)"
      ]
    },
    {
      "cell_type": "markdown",
      "metadata": {
        "id": "Fl0lTFYtghnB"
      },
      "source": [
        " ## Splitting the dataset into the Training and Test sets"
      ]
    },
    {
      "cell_type": "code",
      "execution_count": 30,
      "metadata": {
        "id": "KkNW6zukgJP0"
      },
      "outputs": [],
      "source": [
        "X_train, X_test, y_train, y_test = train_test_split(np.array(X_transformed_df), y, test_size=0.2, random_state=42)"
      ]
    },
    {
      "cell_type": "markdown",
      "metadata": {
        "id": "RnKDYQSNkr-M"
      },
      "source": [
        "## Feature Scaling"
      ]
    },
    {
      "cell_type": "code",
      "execution_count": 31,
      "metadata": {
        "id": "XU5fDOhWkrWP"
      },
      "outputs": [],
      "source": [
        "sc = StandardScaler()\n",
        "X_train = sc.fit_transform(X_train)\n",
        "X_test = sc.transform(X_test)"
      ]
    },
    {
      "cell_type": "markdown",
      "metadata": {
        "id": "Rebu8_cIyNK0"
      },
      "source": [
        "## Perform UnderSampling"
      ]
    },
    {
      "cell_type": "code",
      "execution_count": 32,
      "metadata": {
        "id": "-aitOWdKyLQF"
      },
      "outputs": [],
      "source": [
        "# from imblearn.under_sampling import RandomUnderSampler\n",
        "# rus = RandomUnderSampler(random_state=42)\n",
        "# X_train, y_train = rus.fit_resample(X_train, y_train)"
      ]
    },
    {
      "cell_type": "markdown",
      "metadata": {
        "id": "ZQUEtdVWx0r9"
      },
      "source": [
        "## Perform OverSampling"
      ]
    },
    {
      "cell_type": "code",
      "execution_count": 33,
      "metadata": {
        "id": "woLJAMIKyEH3"
      },
      "outputs": [],
      "source": [
        "# from imblearn.over_sampling import SMOTE\n",
        "# smote = SMOTE(random_state=42)\n",
        "# X_train, y_train = smote.fit_resample(X_train, y_train)"
      ]
    },
    {
      "cell_type": "markdown",
      "metadata": {
        "id": "jwNRUhPQ9aFP"
      },
      "source": [
        "## Perform UnderOverSampling"
      ]
    },
    {
      "cell_type": "code",
      "execution_count": 34,
      "metadata": {
        "id": "v09gPLbo9Zz3"
      },
      "outputs": [],
      "source": [
        "from imblearn.combine import SMOTEENN\n",
        "smote = SMOTEENN(sampling_strategy='auto', random_state=42)\n",
        "X_train, y_train = smote.fit_resample(X_train, y_train)"
      ]
    },
    {
      "cell_type": "code",
      "execution_count": 35,
      "metadata": {
        "colab": {
          "base_uri": "https://localhost:8080/",
          "height": 428
        },
        "id": "glpA0neY98B6",
        "outputId": "2801497e-0f39-409e-a446-fcd64463d91b"
      },
      "outputs": [
        {
          "data": {
            "image/png": "[encoded data removed]",
            "text/plain": [
              "<Figure size 640x480 with 1 Axes>"
            ]
          },
          "metadata": {},
          "output_type": "display_data"
        }
      ],
      "source": [
        "pd.DataFrame(y_train).value_counts().plot.pie(autopct='%1.2f%%', colors=['skyblue', 'orange'])\n",
        "plt.title('Class Distribution \"Churn\"')\n",
        "plt.ylabel('')\n",
        "plt.show()"
      ]
    },
    {
      "cell_type": "markdown",
      "metadata": {
        "id": "vGYTJbvgmMCJ"
      },
      "source": [
        "## Training XGBoost on the Training set"
      ]
    },
    {
      "cell_type": "code",
      "execution_count": 36,
      "metadata": {
        "colab": {
          "base_uri": "https://localhost:8080/",
          "height": 248
        },
        "id": "Z73l92IDmRPL",
        "outputId": "d0e9dba9-e7b5-405b-82f0-1080bb3cb3b6"
      },
      "outputs": [
        {
          "data": {
            "text/html": [
              "<style>#sk-container-id-1 {color: black;}#sk-container-id-1 pre{padding: 0;}#sk-container-id-1 div.sk-toggleable {background-color: white;}#sk-container-id-1 label.sk-toggleable__label {cursor: pointer;display: block;width: 100%;margin-bottom: 0;padding: 0.3em;box-sizing: border-box;text-align: center;}#sk-container-id-1 label.sk-toggleable__label-arrow:before {content: \"▸\";float: left;margin-right: 0.25em;color: #696969;}#sk-container-id-1 label.sk-toggleable__label-arrow:hover:before {color: black;}#sk-container-id-1 div.sk-estimator:hover label.sk-toggleable__label-arrow:before {color: black;}#sk-container-id-1 div.sk-toggleable__content {max-height: 0;max-width: 0;overflow: hidden;text-align: left;background-color: #f0f8ff;}#sk-container-id-1 div.sk-toggleable__content pre {margin: 0.2em;color: black;border-radius: 0.25em;background-color: #f0f8ff;}#sk-container-id-1 input.sk-toggleable__control:checked~div.sk-toggleable__content {max-height: 200px;max-width: 100%;overflow: auto;}#sk-container-id-1 input.sk-toggleable__control:checked~label.sk-toggleable__label-arrow:before {content: \"▾\";}#sk-container-id-1 div.sk-estimator input.sk-toggleable__control:checked~label.sk-toggleable__label {background-color: #d4ebff;}#sk-container-id-1 div.sk-label input.sk-toggleable__control:checked~label.sk-toggleable__label {background-color: #d4ebff;}#sk-container-id-1 input.sk-hidden--visually {border: 0;clip: rect(1px 1px 1px 1px);clip: rect(1px, 1px, 1px, 1px);height: 1px;margin: -1px;overflow: hidden;padding: 0;position: absolute;width: 1px;}#sk-container-id-1 div.sk-estimator {font-family: monospace;background-color: #f0f8ff;border: 1px dotted black;border-radius: 0.25em;box-sizing: border-box;margin-bottom: 0.5em;}#sk-container-id-1 div.sk-estimator:hover {background-color: #d4ebff;}#sk-container-id-1 div.sk-parallel-item::after {content: \"\";width: 100%;border-bottom: 1px solid gray;flex-grow: 1;}#sk-container-id-1 div.sk-label:hover label.sk-toggleable__label {background-color: #d4ebff;}#sk-container-id-1 div.sk-serial::before {content: \"\";position: absolute;border-left: 1px solid gray;box-sizing: border-box;top: 0;bottom: 0;left: 50%;z-index: 0;}#sk-container-id-1 div.sk-serial {display: flex;flex-direction: column;align-items: center;background-color: white;padding-right: 0.2em;padding-left: 0.2em;position: relative;}#sk-container-id-1 div.sk-item {position: relative;z-index: 1;}#sk-container-id-1 div.sk-parallel {display: flex;align-items: stretch;justify-content: center;background-color: white;position: relative;}#sk-container-id-1 div.sk-item::before, #sk-container-id-1 div.sk-parallel-item::before {content: \"\";position: absolute;border-left: 1px solid gray;box-sizing: border-box;top: 0;bottom: 0;left: 50%;z-index: -1;}#sk-container-id-1 div.sk-parallel-item {display: flex;flex-direction: column;z-index: 1;position: relative;background-color: white;}#sk-container-id-1 div.sk-parallel-item:first-child::after {align-self: flex-end;width: 50%;}#sk-container-id-1 div.sk-parallel-item:last-child::after {align-self: flex-start;width: 50%;}#sk-container-id-1 div.sk-parallel-item:only-child::after {width: 0;}#sk-container-id-1 div.sk-dashed-wrapped {border: 1px dashed gray;margin: 0 0.4em 0.5em 0.4em;box-sizing: border-box;padding-bottom: 0.4em;background-color: white;}#sk-container-id-1 div.sk-label label {font-family: monospace;font-weight: bold;display: inline-block;line-height: 1.2em;}#sk-container-id-1 div.sk-label-container {text-align: center;}#sk-container-id-1 div.sk-container {/* jupyter's `normalize.less` sets `[hidden] { display: none; }` but bootstrap.min.css set `[hidden] { display: none !important; }` so we also need the `!important` here to be able to override the default hidden behavior on the sphinx rendered scikit-learn.org. See: https://github.com/scikit-learn/scikit-learn/issues/21755 */display: inline-block !important;position: relative;}#sk-container-id-1 div.sk-text-repr-fallback {display: none;}</style><div id=\"sk-container-id-1\" class=\"sk-top-container\"><div class=\"sk-text-repr-fallback\"><pre>XGBClassifier(base_score=None, booster=None, callbacks=None,\n",
              "              colsample_bylevel=None, colsample_bynode=None,\n",
              "              colsample_bytree=None, device=None, early_stopping_rounds=None,\n",
              "              enable_categorical=False, eval_metric=None, feature_types=None,\n",
              "              gamma=None, grow_policy=None, importance_type=None,\n",
              "              interaction_constraints=None, learning_rate=0.08011727992081952,\n",
              "              max_bin=None, max_cat_threshold=None, max_cat_to_onehot=None,\n",
              "              max_delta_step=None, max_depth=3, max_leaves=None,\n",
              "              min_child_weight=None, missing=nan, monotone_constraints=None,\n",
              "              multi_strategy=None, n_estimators=194, n_jobs=None,\n",
              "              num_parallel_tree=None, random_state=None, ...)</pre><b>In a Jupyter environment, please rerun this cell to show the HTML representation or trust the notebook. <br />On GitHub, the HTML representation is unable to render, please try loading this page with nbviewer.org.</b></div><div class=\"sk-container\" hidden><div class=\"sk-item\"><div class=\"sk-estimator sk-toggleable\"><input class=\"sk-toggleable__control sk-hidden--visually\" id=\"sk-estimator-id-1\" type=\"checkbox\" checked><label for=\"sk-estimator-id-1\" class=\"sk-toggleable__label sk-toggleable__label-arrow\">XGBClassifier</label><div class=\"sk-toggleable__content\"><pre>XGBClassifier(base_score=None, booster=None, callbacks=None,\n",
              "              colsample_bylevel=None, colsample_bynode=None,\n",
              "              colsample_bytree=None, device=None, early_stopping_rounds=None,\n",
              "              enable_categorical=False, eval_metric=None, feature_types=None,\n",
              "              gamma=None, grow_policy=None, importance_type=None,\n",
              "              interaction_constraints=None, learning_rate=0.08011727992081952,\n",
              "              max_bin=None, max_cat_threshold=None, max_cat_to_onehot=None,\n",
              "              max_delta_step=None, max_depth=3, max_leaves=None,\n",
              "              min_child_weight=None, missing=nan, monotone_constraints=None,\n",
              "              multi_strategy=None, n_estimators=194, n_jobs=None,\n",
              "              num_parallel_tree=None, random_state=None, ...)</pre></div></div></div></div></div>"
            ],
            "text/plain": [
              "XGBClassifier(base_score=None, booster=None, callbacks=None,\n",
              "              colsample_bylevel=None, colsample_bynode=None,\n",
              "              colsample_bytree=None, device=None, early_stopping_rounds=None,\n",
              "              enable_categorical=False, eval_metric=None, feature_types=None,\n",
              "              gamma=None, grow_policy=None, importance_type=None,\n",
              "              interaction_constraints=None, learning_rate=0.08011727992081952,\n",
              "              max_bin=None, max_cat_threshold=None, max_cat_to_onehot=None,\n",
              "              max_delta_step=None, max_depth=3, max_leaves=None,\n",
              "              min_child_weight=None, missing=nan, monotone_constraints=None,\n",
              "              multi_strategy=None, n_estimators=194, n_jobs=None,\n",
              "              num_parallel_tree=None, random_state=None, ...)"
            ]
          },
          "execution_count": 36,
          "metadata": {},
          "output_type": "execute_result"
        }
      ],
      "source": [
        "xgb_classifier = XGBClassifier(n_estimators=194, learning_rate=0.08011727992081952, max_depth=3)\n",
        "#{'n_estimators': 138, 'learning_rate': 0.2910194858724226, 'max_depth': 8}\n",
        "\n",
        "xgb_classifier.fit(X_train, y_train)"
      ]
    },
    {
      "cell_type": "markdown",
      "metadata": {
        "id": "kdPJj2yZmT-e"
      },
      "source": [
        "## Confusion Matrix"
      ]
    },
    {
      "cell_type": "code",
      "execution_count": 37,
      "metadata": {
        "colab": {
          "base_uri": "https://localhost:8080/"
        },
        "id": "hSB82RgjmXbf",
        "outputId": "3b0e71a2-c423-4c3d-b5fb-ae672b725321"
      },
      "outputs": [
        {
          "name": "stdout",
          "output_type": "stream",
          "text": [
            "[[719 314]\n",
            " [ 80 294]]\n"
          ]
        },
        {
          "data": {
            "text/plain": [
              "0.7199715707178393"
            ]
          },
          "execution_count": 37,
          "metadata": {},
          "output_type": "execute_result"
        }
      ],
      "source": [
        "y_pred = xgb_classifier.predict(X_test)\n",
        "cm = confusion_matrix(y_test, y_pred)\n",
        "print(cm)\n",
        "accuracy_score(y_test, y_pred)"
      ]
    },
    {
      "cell_type": "markdown",
      "metadata": {
        "id": "eq3mLEogmevX"
      },
      "source": [
        "## K-Cross Validation"
      ]
    },
    {
      "cell_type": "code",
      "execution_count": 38,
      "metadata": {
        "colab": {
          "base_uri": "https://localhost:8080/"
        },
        "id": "1BUgAukjmhj3",
        "outputId": "b7426981-df3f-43f7-9191-b4370d72670f"
      },
      "outputs": [
        {
          "name": "stdout",
          "output_type": "stream",
          "text": [
            "Accuracy: 95.65 %\n",
            "Standard Deviation: 2.34 %\n"
          ]
        }
      ],
      "source": [
        "accuracies = cross_val_score(estimator = xgb_classifier, X = X_train, y = y_train, cv = 10) # number of folds\n",
        "print(f\"Accuracy: {round(accuracies.mean()*100, 2)} %\")\n",
        "print(f\"Standard Deviation: {round(accuracies.std()*100, 2)} %\") # for the variance"
      ]
    },
    {
      "cell_type": "code",
      "execution_count": 39,
      "metadata": {
        "colab": {
          "base_uri": "https://localhost:8080/"
        },
        "id": "YSo-HgJszrri",
        "outputId": "9e3f36e1-7f61-43f6-c286-3d72b47df520"
      },
      "outputs": [
        {
          "name": "stdout",
          "output_type": "stream",
          "text": [
            "              precision    recall  f1-score   support\n",
            "\n",
            "           0       0.90      0.70      0.78      1033\n",
            "           1       0.48      0.79      0.60       374\n",
            "\n",
            "    accuracy                           0.72      1407\n",
            "   macro avg       0.69      0.74      0.69      1407\n",
            "weighted avg       0.79      0.72      0.74      1407\n",
            "\n"
          ]
        }
      ],
      "source": [
        "from sklearn.metrics import classification_report\n",
        "print(classification_report(y_test, y_pred))"
      ]
    },
    {
      "cell_type": "code",
      "execution_count": null,
      "metadata": {
        "colab": {
          "base_uri": "https://localhost:8080/"
        },
        "collapsed": true,
        "id": "3GzwqP1_hlzc",
        "outputId": "cfb354c6-4ef2-479e-8744-38fe79261371"
      },
      "outputs": [],
      "source": [
        "!pip install optuna"
      ]
    },
    {
      "cell_type": "markdown",
      "metadata": {
        "id": "jzWflGJcibwn"
      },
      "source": [
        "## Hyper Parameter Tuning"
      ]
    },
    {
      "cell_type": "code",
      "execution_count": null,
      "metadata": {
        "colab": {
          "base_uri": "https://localhost:8080/"
        },
        "collapsed": true,
        "id": "apvm1jzDgB6R",
        "outputId": "d3adf071-ee62-45dd-8894-dcb12b3362ed"
      },
      "outputs": [],
      "source": [
        "import optuna\n",
        "# from sklearn.metrics import accuracy_score\n",
        "\n",
        "def objective(trial):\n",
        "    params = {\n",
        "        'n_estimators': trial.suggest_int('n_estimators', 50, 200),\n",
        "        'learning_rate': trial.suggest_loguniform('learning_rate', 0.01, 0.3),\n",
        "        'max_depth': trial.suggest_int('max_depth', 3, 9),\n",
        "    }\n",
        "    model = XGBClassifier(**params)\n",
        "    # model.fit(X_train, y_train)\n",
        "    # Evaluate on the test set\n",
        "    # test_accuracy = accuracy_score(y_test, model.predict(X_test))\n",
        "    # return test_accuracy\n",
        "    return cross_val_score(model, X_train, y_train, cv=5, scoring='accuracy').mean()\n",
        "study = optuna.create_study(direction='maximize')\n",
        "study.optimize(objective, n_trials=50)\n",
        "print(study.best_params)"
      ]
    },
    {
      "cell_type": "markdown",
      "metadata": {
        "id": "LnYHABygrPRv"
      },
      "source": [
        "### Trying Randomized Search"
      ]
    },
    {
      "cell_type": "code",
      "execution_count": 42,
      "metadata": {
        "id": "ColquCyGrX2f"
      },
      "outputs": [],
      "source": [
        "# param_dist = {\n",
        "#     'learning_rate': [0.01, 0.1, 0.2, 0.3],\n",
        "#     'n_estimators': [50, 100, 200],\n",
        "#     'max_depth': [3, 5, 7, 9],\n",
        "#     'min_child_weight': [1, 3, 5],\n",
        "#     'subsample': [0.6, 0.8, 1.0]\n",
        "# }\n",
        "\n",
        "# random_search = RandomizedSearchCV(xgb_classifier, param_distributions=param_dist, n_iter=10, cv=3)\n",
        "# random_search.fit(X_train, y_train)\n",
        "# best_accuracy = random_search.best_score_\n",
        "# best_parameters = random_search.best_params_\n",
        "# print(f\"Best Accuracy: {round(best_accuracy*100, 2)} %\")\n",
        "# print(f\"Best Parameters: {best_parameters}\")"
      ]
    },
    {
      "cell_type": "markdown",
      "metadata": {
        "id": "ynE7oAvtpwhz"
      },
      "source": [
        "## Training on CatBoost\n"
      ]
    },
    {
      "cell_type": "code",
      "execution_count": 43,
      "metadata": {
        "colab": {
          "base_uri": "https://localhost:8080/"
        },
        "collapsed": true,
        "id": "OliakNGTosS2",
        "outputId": "152fa628-c58e-42b5-953d-1dce42adb374"
      },
      "outputs": [
        {
          "data": {
            "text/plain": [
              "<catboost.core.CatBoostClassifier at 0x7db287555e10>"
            ]
          },
          "execution_count": 43,
          "metadata": {},
          "output_type": "execute_result"
        }
      ],
      "source": [
        "cat_classifier = CatBoostClassifier(silent=True)\n",
        "cat_classifier.fit(X_train, y_train)"
      ]
    },
    {
      "cell_type": "code",
      "execution_count": 44,
      "metadata": {
        "colab": {
          "base_uri": "https://localhost:8080/"
        },
        "id": "BXQ0QZIjpR71",
        "outputId": "4e53abd0-1eb2-420c-fd95-7dbe73fc41b3"
      },
      "outputs": [
        {
          "name": "stdout",
          "output_type": "stream",
          "text": [
            "[[732 301]\n",
            " [ 83 291]]\n"
          ]
        },
        {
          "data": {
            "text/plain": [
              "0.7270788912579957"
            ]
          },
          "execution_count": 44,
          "metadata": {},
          "output_type": "execute_result"
        }
      ],
      "source": [
        "y_pred = cat_classifier.predict(X_test)\n",
        "cm = confusion_matrix(y_test, y_pred)\n",
        "print(cm)\n",
        "accuracy_score(y_test, y_pred)"
      ]
    },
    {
      "cell_type": "code",
      "execution_count": 45,
      "metadata": {
        "colab": {
          "base_uri": "https://localhost:8080/"
        },
        "id": "jTQX0ou7pUyx",
        "outputId": "5f7774ee-3c5c-4969-e900-0a4ca27a28cc"
      },
      "outputs": [
        {
          "name": "stdout",
          "output_type": "stream",
          "text": [
            "Accuracy: 96.63 %\n",
            "Standard Deviation: 1.93 %\n"
          ]
        }
      ],
      "source": [
        "accuracies = cross_val_score(estimator = cat_classifier, X = X_train, y = y_train, cv = 10) # number of folds\n",
        "print(f\"Accuracy: {round(accuracies.mean()*100, 2)} %\")\n",
        "print(f\"Standard Deviation: {round(accuracies.std()*100, 2)} %\") # for the variance"
      ]
    },
    {
      "cell_type": "code",
      "execution_count": 46,
      "metadata": {
        "colab": {
          "base_uri": "https://localhost:8080/"
        },
        "id": "tOeSSeJlnk5a",
        "outputId": "6868c6a6-8072-43dc-eeb3-f3ded480cbbf"
      },
      "outputs": [
        {
          "name": "stdout",
          "output_type": "stream",
          "text": [
            "              precision    recall  f1-score   support\n",
            "\n",
            "           0       0.90      0.71      0.79      1033\n",
            "           1       0.49      0.78      0.60       374\n",
            "\n",
            "    accuracy                           0.73      1407\n",
            "   macro avg       0.69      0.74      0.70      1407\n",
            "weighted avg       0.79      0.73      0.74      1407\n",
            "\n"
          ]
        }
      ],
      "source": [
        "from sklearn.metrics import classification_report\n",
        "print(classification_report(y_test, y_pred))"
      ]
    },
    {
      "cell_type": "code",
      "execution_count": 47,
      "metadata": {
        "id": "-6kIAlbtjEIu"
      },
      "outputs": [],
      "source": [
        "# import optuna\n",
        "# def objective(trial):\n",
        "#     # Suggest values for the hyperparameters\n",
        "#     iterations = trial.suggest_categorical('iterations', [500, 1000])\n",
        "#     learning_rate = trial.suggest_loguniform('learning_rate', 0.01, 0.2)\n",
        "#     depth = trial.suggest_int('depth', 6, 10)\n",
        "#     l2_leaf_reg = trial.suggest_float('l2_leaf_reg', 1, 5)\n",
        "\n",
        "#     cat_classifier = CatBoostClassifier(\n",
        "#         iterations=iterations,\n",
        "#         learning_rate=learning_rate,\n",
        "#         depth=depth,\n",
        "#         l2_leaf_reg=l2_leaf_reg,\n",
        "#         verbose=0\n",
        "#     )\n",
        "#     return cross_val_score(cat_classifier, X_train, y_train, cv=5, scoring='accuracy').mean()\n",
        "# study = optuna.create_study(direction='maximize')\n",
        "# study.optimize(objective, n_trials=50)\n",
        "# print(study.best_params)"
      ]
    },
    {
      "cell_type": "code",
      "execution_count": 48,
      "metadata": {
        "id": "CuQC8IoxsHLK"
      },
      "outputs": [],
      "source": [
        "# param_dist = {\n",
        "#     'iterations': [500, 1000],\n",
        "#     'learning_rate': [0.01, 0.1, 0.2],\n",
        "#     'depth': [6, 8, 10],\n",
        "#     'l2_leaf_reg': [1, 3, 5]\n",
        "# }\n",
        "\n",
        "# random_search = RandomizedSearchCV(cat_classifier, param_distributions=param_dist, n_iter=10, cv=3)\n",
        "# random_search.fit(X_train, y_train)\n",
        "# best_accuracy = random_search.best_score_\n",
        "# best_parameters = random_search.best_params_\n",
        "# print(f\"Best Accuracy: {round(best_accuracy*100, 2)} %\")\n",
        "# print(f\"Best Parameters: {best_parameters}\")"
      ]
    },
    {
      "cell_type": "markdown",
      "metadata": {
        "id": "-IL7-rdustkp"
      },
      "source": [
        "## Training KernelSVM on the Training set\n",
        "\n"
      ]
    },
    {
      "cell_type": "code",
      "execution_count": 49,
      "metadata": {
        "colab": {
          "base_uri": "https://localhost:8080/",
          "height": 75
        },
        "id": "Clfu-A9zstEJ",
        "outputId": "15bcae1a-ac4f-43db-c43a-eaa5b0b15706"
      },
      "outputs": [
        {
          "data": {
            "text/html": [
              "<style>#sk-container-id-2 {color: black;}#sk-container-id-2 pre{padding: 0;}#sk-container-id-2 div.sk-toggleable {background-color: white;}#sk-container-id-2 label.sk-toggleable__label {cursor: pointer;display: block;width: 100%;margin-bottom: 0;padding: 0.3em;box-sizing: border-box;text-align: center;}#sk-container-id-2 label.sk-toggleable__label-arrow:before {content: \"▸\";float: left;margin-right: 0.25em;color: #696969;}#sk-container-id-2 label.sk-toggleable__label-arrow:hover:before {color: black;}#sk-container-id-2 div.sk-estimator:hover label.sk-toggleable__label-arrow:before {color: black;}#sk-container-id-2 div.sk-toggleable__content {max-height: 0;max-width: 0;overflow: hidden;text-align: left;background-color: #f0f8ff;}#sk-container-id-2 div.sk-toggleable__content pre {margin: 0.2em;color: black;border-radius: 0.25em;background-color: #f0f8ff;}#sk-container-id-2 input.sk-toggleable__control:checked~div.sk-toggleable__content {max-height: 200px;max-width: 100%;overflow: auto;}#sk-container-id-2 input.sk-toggleable__control:checked~label.sk-toggleable__label-arrow:before {content: \"▾\";}#sk-container-id-2 div.sk-estimator input.sk-toggleable__control:checked~label.sk-toggleable__label {background-color: #d4ebff;}#sk-container-id-2 div.sk-label input.sk-toggleable__control:checked~label.sk-toggleable__label {background-color: #d4ebff;}#sk-container-id-2 input.sk-hidden--visually {border: 0;clip: rect(1px 1px 1px 1px);clip: rect(1px, 1px, 1px, 1px);height: 1px;margin: -1px;overflow: hidden;padding: 0;position: absolute;width: 1px;}#sk-container-id-2 div.sk-estimator {font-family: monospace;background-color: #f0f8ff;border: 1px dotted black;border-radius: 0.25em;box-sizing: border-box;margin-bottom: 0.5em;}#sk-container-id-2 div.sk-estimator:hover {background-color: #d4ebff;}#sk-container-id-2 div.sk-parallel-item::after {content: \"\";width: 100%;border-bottom: 1px solid gray;flex-grow: 1;}#sk-container-id-2 div.sk-label:hover label.sk-toggleable__label {background-color: #d4ebff;}#sk-container-id-2 div.sk-serial::before {content: \"\";position: absolute;border-left: 1px solid gray;box-sizing: border-box;top: 0;bottom: 0;left: 50%;z-index: 0;}#sk-container-id-2 div.sk-serial {display: flex;flex-direction: column;align-items: center;background-color: white;padding-right: 0.2em;padding-left: 0.2em;position: relative;}#sk-container-id-2 div.sk-item {position: relative;z-index: 1;}#sk-container-id-2 div.sk-parallel {display: flex;align-items: stretch;justify-content: center;background-color: white;position: relative;}#sk-container-id-2 div.sk-item::before, #sk-container-id-2 div.sk-parallel-item::before {content: \"\";position: absolute;border-left: 1px solid gray;box-sizing: border-box;top: 0;bottom: 0;left: 50%;z-index: -1;}#sk-container-id-2 div.sk-parallel-item {display: flex;flex-direction: column;z-index: 1;position: relative;background-color: white;}#sk-container-id-2 div.sk-parallel-item:first-child::after {align-self: flex-end;width: 50%;}#sk-container-id-2 div.sk-parallel-item:last-child::after {align-self: flex-start;width: 50%;}#sk-container-id-2 div.sk-parallel-item:only-child::after {width: 0;}#sk-container-id-2 div.sk-dashed-wrapped {border: 1px dashed gray;margin: 0 0.4em 0.5em 0.4em;box-sizing: border-box;padding-bottom: 0.4em;background-color: white;}#sk-container-id-2 div.sk-label label {font-family: monospace;font-weight: bold;display: inline-block;line-height: 1.2em;}#sk-container-id-2 div.sk-label-container {text-align: center;}#sk-container-id-2 div.sk-container {/* jupyter's `normalize.less` sets `[hidden] { display: none; }` but bootstrap.min.css set `[hidden] { display: none !important; }` so we also need the `!important` here to be able to override the default hidden behavior on the sphinx rendered scikit-learn.org. See: https://github.com/scikit-learn/scikit-learn/issues/21755 */display: inline-block !important;position: relative;}#sk-container-id-2 div.sk-text-repr-fallback {display: none;}</style><div id=\"sk-container-id-2\" class=\"sk-top-container\"><div class=\"sk-text-repr-fallback\"><pre>SVC(random_state=0)</pre><b>In a Jupyter environment, please rerun this cell to show the HTML representation or trust the notebook. <br />On GitHub, the HTML representation is unable to render, please try loading this page with nbviewer.org.</b></div><div class=\"sk-container\" hidden><div class=\"sk-item\"><div class=\"sk-estimator sk-toggleable\"><input class=\"sk-toggleable__control sk-hidden--visually\" id=\"sk-estimator-id-2\" type=\"checkbox\" checked><label for=\"sk-estimator-id-2\" class=\"sk-toggleable__label sk-toggleable__label-arrow\">SVC</label><div class=\"sk-toggleable__content\"><pre>SVC(random_state=0)</pre></div></div></div></div></div>"
            ],
            "text/plain": [
              "SVC(random_state=0)"
            ]
          },
          "execution_count": 49,
          "metadata": {},
          "output_type": "execute_result"
        }
      ],
      "source": [
        "svm_classifier = SVC(kernel = 'rbf', random_state = 0)\n",
        "svm_classifier.fit(X_train, y_train)"
      ]
    },
    {
      "cell_type": "code",
      "execution_count": 50,
      "metadata": {
        "colab": {
          "base_uri": "https://localhost:8080/"
        },
        "id": "QqIguVcztAq-",
        "outputId": "a59b4441-e893-44d6-f5f0-4e3fe4afd557"
      },
      "outputs": [
        {
          "name": "stdout",
          "output_type": "stream",
          "text": [
            "[[693 340]\n",
            " [ 80 294]]\n"
          ]
        },
        {
          "data": {
            "text/plain": [
              "0.7014925373134329"
            ]
          },
          "execution_count": 50,
          "metadata": {},
          "output_type": "execute_result"
        }
      ],
      "source": [
        "y_pred = svm_classifier.predict(X_test)\n",
        "cm = confusion_matrix(y_test, y_pred)\n",
        "print(cm)\n",
        "accuracy_score(y_test, y_pred)"
      ]
    },
    {
      "cell_type": "code",
      "execution_count": 51,
      "metadata": {
        "colab": {
          "base_uri": "https://localhost:8080/"
        },
        "id": "o87dWQBbtf51",
        "outputId": "b524e0d9-dc80-42e3-e59e-45a3c6eb52bb"
      },
      "outputs": [
        {
          "name": "stdout",
          "output_type": "stream",
          "text": [
            "Accuracy: 94.29 %\n",
            "Standard Deviation: 0.9 %\n"
          ]
        }
      ],
      "source": [
        "from sklearn.model_selection import cross_val_score\n",
        "accuracies = cross_val_score(estimator = svm_classifier, X = X_train, y = y_train, cv = 10) # number of folds\n",
        "print(f\"Accuracy: {round(accuracies.mean()*100, 2)} %\")\n",
        "print(f\"Standard Deviation: {round(accuracies.std()*100, 2)} %\") # for the variance"
      ]
    },
    {
      "cell_type": "code",
      "execution_count": 52,
      "metadata": {
        "colab": {
          "base_uri": "https://localhost:8080/"
        },
        "id": "qqGvi5rVvZan",
        "outputId": "95f6ff5a-4c77-4d5c-8953-5d58d11354f3"
      },
      "outputs": [
        {
          "name": "stdout",
          "output_type": "stream",
          "text": [
            "              precision    recall  f1-score   support\n",
            "\n",
            "           0       0.90      0.67      0.77      1033\n",
            "           1       0.46      0.79      0.58       374\n",
            "\n",
            "    accuracy                           0.70      1407\n",
            "   macro avg       0.68      0.73      0.68      1407\n",
            "weighted avg       0.78      0.70      0.72      1407\n",
            "\n"
          ]
        }
      ],
      "source": [
        "from sklearn.metrics import classification_report\n",
        "print(classification_report(y_test, y_pred))"
      ]
    },
    {
      "cell_type": "code",
      "execution_count": 53,
      "metadata": {
        "id": "KeIdm9OCtgcZ"
      },
      "outputs": [],
      "source": [
        "# from sklearn.model_selection import GridSearchCV\n",
        "# parameters = [{'C': [0.25, 0.5, 0.75, 1], 'kernel' : ['linear']},\n",
        "#               {'C': [0.25, 0.5, 0.75, 1], 'kernel' : ['rbf'], 'gamma' : [0.1, 0.2, 0.3, 0.4, 0.5, 0.6, 0.7, 0.8, 0.9]}] # gamma parameter can only be used with the rbf kernel and not the linear one.\n",
        "# grid_search = GridSearchCV(estimator = svm_classifier,\n",
        "#                            param_grid = parameters,\n",
        "#                            scoring = 'accuracy', # the metric with which you want to evaluate the performance of the model\n",
        "#                            cv = 10, # number of trained test polls when applying k-fold cross validation\n",
        "#                            n_jobs = -1) # number of cores to use\n",
        "# grid_search.fit(X_train, y_train)\n",
        "# best_accuracy = grid_search.best_score_\n",
        "# best_parameters = grid_search.best_params_\n",
        "# print(f\"Best Accuracy: {round(best_accuracy*100, 2)} %\")\n",
        "# print(f\"Best Parameters: {best_parameters}\")"
      ]
    },
    {
      "cell_type": "code",
      "execution_count": 54,
      "metadata": {
        "id": "Gltc80vKkV6w"
      },
      "outputs": [],
      "source": [
        "# def objective(trial):\n",
        "#     # Suggest values for the hyperparameters\n",
        "#     c = trial.suggest_loguniform('C', 1e-3, 1e3)  # Loguniform for C to cover a wide range\n",
        "#     kernel = trial.suggest_categorical('kernel', ['linear', 'poly', 'rbf', 'sigmoid'])\n",
        "#     degree = trial.suggest_int('degree', 2, 5) if kernel == 'poly' else 3  # Degree only relevant for 'poly'\n",
        "#     gamma = trial.suggest_categorical('gamma', ['scale', 'auto'])\n",
        "\n",
        "#     # Create an SVC with suggested parameters\n",
        "#     svc = SVC(C=c, kernel=kernel, degree=degree, gamma=gamma)\n",
        "\n",
        "#     # Perform cross-validation and return the mean accuracy\n",
        "#     score = cross_val_score(svc, X_train, y_train, cv=5, scoring='accuracy').mean()\n",
        "#     return score\n",
        "\n",
        "# # Create and optimize the study\n",
        "# study = optuna.create_study(direction='maximize')\n",
        "# study.optimize(objective, n_trials=50)\n",
        "# print(study.best_params)"
      ]
    },
    {
      "cell_type": "markdown",
      "metadata": {
        "id": "3cjx3LxSF3hk"
      },
      "source": [
        "## Training Logistic Regression on the Training set\n"
      ]
    },
    {
      "cell_type": "code",
      "execution_count": 55,
      "metadata": {
        "colab": {
          "base_uri": "https://localhost:8080/",
          "height": 75
        },
        "id": "soKcT0xDF6S6",
        "outputId": "e1408c8c-8746-4f2e-b615-b37cd7472840"
      },
      "outputs": [
        {
          "data": {
            "text/html": [
              "<style>#sk-container-id-3 {color: black;}#sk-container-id-3 pre{padding: 0;}#sk-container-id-3 div.sk-toggleable {background-color: white;}#sk-container-id-3 label.sk-toggleable__label {cursor: pointer;display: block;width: 100%;margin-bottom: 0;padding: 0.3em;box-sizing: border-box;text-align: center;}#sk-container-id-3 label.sk-toggleable__label-arrow:before {content: \"▸\";float: left;margin-right: 0.25em;color: #696969;}#sk-container-id-3 label.sk-toggleable__label-arrow:hover:before {color: black;}#sk-container-id-3 div.sk-estimator:hover label.sk-toggleable__label-arrow:before {color: black;}#sk-container-id-3 div.sk-toggleable__content {max-height: 0;max-width: 0;overflow: hidden;text-align: left;background-color: #f0f8ff;}#sk-container-id-3 div.sk-toggleable__content pre {margin: 0.2em;color: black;border-radius: 0.25em;background-color: #f0f8ff;}#sk-container-id-3 input.sk-toggleable__control:checked~div.sk-toggleable__content {max-height: 200px;max-width: 100%;overflow: auto;}#sk-container-id-3 input.sk-toggleable__control:checked~label.sk-toggleable__label-arrow:before {content: \"▾\";}#sk-container-id-3 div.sk-estimator input.sk-toggleable__control:checked~label.sk-toggleable__label {background-color: #d4ebff;}#sk-container-id-3 div.sk-label input.sk-toggleable__control:checked~label.sk-toggleable__label {background-color: #d4ebff;}#sk-container-id-3 input.sk-hidden--visually {border: 0;clip: rect(1px 1px 1px 1px);clip: rect(1px, 1px, 1px, 1px);height: 1px;margin: -1px;overflow: hidden;padding: 0;position: absolute;width: 1px;}#sk-container-id-3 div.sk-estimator {font-family: monospace;background-color: #f0f8ff;border: 1px dotted black;border-radius: 0.25em;box-sizing: border-box;margin-bottom: 0.5em;}#sk-container-id-3 div.sk-estimator:hover {background-color: #d4ebff;}#sk-container-id-3 div.sk-parallel-item::after {content: \"\";width: 100%;border-bottom: 1px solid gray;flex-grow: 1;}#sk-container-id-3 div.sk-label:hover label.sk-toggleable__label {background-color: #d4ebff;}#sk-container-id-3 div.sk-serial::before {content: \"\";position: absolute;border-left: 1px solid gray;box-sizing: border-box;top: 0;bottom: 0;left: 50%;z-index: 0;}#sk-container-id-3 div.sk-serial {display: flex;flex-direction: column;align-items: center;background-color: white;padding-right: 0.2em;padding-left: 0.2em;position: relative;}#sk-container-id-3 div.sk-item {position: relative;z-index: 1;}#sk-container-id-3 div.sk-parallel {display: flex;align-items: stretch;justify-content: center;background-color: white;position: relative;}#sk-container-id-3 div.sk-item::before, #sk-container-id-3 div.sk-parallel-item::before {content: \"\";position: absolute;border-left: 1px solid gray;box-sizing: border-box;top: 0;bottom: 0;left: 50%;z-index: -1;}#sk-container-id-3 div.sk-parallel-item {display: flex;flex-direction: column;z-index: 1;position: relative;background-color: white;}#sk-container-id-3 div.sk-parallel-item:first-child::after {align-self: flex-end;width: 50%;}#sk-container-id-3 div.sk-parallel-item:last-child::after {align-self: flex-start;width: 50%;}#sk-container-id-3 div.sk-parallel-item:only-child::after {width: 0;}#sk-container-id-3 div.sk-dashed-wrapped {border: 1px dashed gray;margin: 0 0.4em 0.5em 0.4em;box-sizing: border-box;padding-bottom: 0.4em;background-color: white;}#sk-container-id-3 div.sk-label label {font-family: monospace;font-weight: bold;display: inline-block;line-height: 1.2em;}#sk-container-id-3 div.sk-label-container {text-align: center;}#sk-container-id-3 div.sk-container {/* jupyter's `normalize.less` sets `[hidden] { display: none; }` but bootstrap.min.css set `[hidden] { display: none !important; }` so we also need the `!important` here to be able to override the default hidden behavior on the sphinx rendered scikit-learn.org. See: https://github.com/scikit-learn/scikit-learn/issues/21755 */display: inline-block !important;position: relative;}#sk-container-id-3 div.sk-text-repr-fallback {display: none;}</style><div id=\"sk-container-id-3\" class=\"sk-top-container\"><div class=\"sk-text-repr-fallback\"><pre>LogisticRegression(random_state=0)</pre><b>In a Jupyter environment, please rerun this cell to show the HTML representation or trust the notebook. <br />On GitHub, the HTML representation is unable to render, please try loading this page with nbviewer.org.</b></div><div class=\"sk-container\" hidden><div class=\"sk-item\"><div class=\"sk-estimator sk-toggleable\"><input class=\"sk-toggleable__control sk-hidden--visually\" id=\"sk-estimator-id-3\" type=\"checkbox\" checked><label for=\"sk-estimator-id-3\" class=\"sk-toggleable__label sk-toggleable__label-arrow\">LogisticRegression</label><div class=\"sk-toggleable__content\"><pre>LogisticRegression(random_state=0)</pre></div></div></div></div></div>"
            ],
            "text/plain": [
              "LogisticRegression(random_state=0)"
            ]
          },
          "execution_count": 55,
          "metadata": {},
          "output_type": "execute_result"
        }
      ],
      "source": [
        "from sklearn.linear_model import LogisticRegression\n",
        "lr_classifier = LogisticRegression(random_state = 0)\n",
        "lr_classifier.fit(X_train, y_train)"
      ]
    },
    {
      "cell_type": "code",
      "execution_count": 56,
      "metadata": {
        "colab": {
          "base_uri": "https://localhost:8080/"
        },
        "id": "yyZB9DUPqFf8",
        "outputId": "35380db5-b722-41de-b2ba-5ac40a0ba26b"
      },
      "outputs": [
        {
          "name": "stdout",
          "output_type": "stream",
          "text": [
            "[[651 382]\n",
            " [ 54 320]]\n"
          ]
        },
        {
          "data": {
            "text/plain": [
              "0.6901208244491827"
            ]
          },
          "execution_count": 56,
          "metadata": {},
          "output_type": "execute_result"
        }
      ],
      "source": [
        "y_pred = lr_classifier.predict(X_test)\n",
        "cm = confusion_matrix(y_test, y_pred)\n",
        "print(cm)\n",
        "accuracy_score(y_test, y_pred)"
      ]
    },
    {
      "cell_type": "code",
      "execution_count": 57,
      "metadata": {
        "colab": {
          "base_uri": "https://localhost:8080/"
        },
        "id": "67dtNgOtqM5V",
        "outputId": "f5a2d541-3bdb-4f60-df3d-a23b195190d7"
      },
      "outputs": [
        {
          "name": "stdout",
          "output_type": "stream",
          "text": [
            "Accuracy: 90.09 %\n",
            "Standard Deviation: 1.16 %\n"
          ]
        }
      ],
      "source": [
        "from sklearn.model_selection import cross_val_score\n",
        "accuracies = cross_val_score(estimator = lr_classifier, X = X_train, y = y_train, cv = 10) # number of folds\n",
        "print(f\"Accuracy: {round(accuracies.mean()*100, 2)} %\")\n",
        "print(f\"Standard Deviation: {round(accuracies.std()*100, 2)} %\") # for the variance"
      ]
    },
    {
      "cell_type": "code",
      "execution_count": 58,
      "metadata": {
        "colab": {
          "base_uri": "https://localhost:8080/"
        },
        "id": "I3APtWN-vc61",
        "outputId": "bc79085b-89e0-4430-c67c-7f78c01aa2c0"
      },
      "outputs": [
        {
          "name": "stdout",
          "output_type": "stream",
          "text": [
            "              precision    recall  f1-score   support\n",
            "\n",
            "           0       0.92      0.63      0.75      1033\n",
            "           1       0.46      0.86      0.59       374\n",
            "\n",
            "    accuracy                           0.69      1407\n",
            "   macro avg       0.69      0.74      0.67      1407\n",
            "weighted avg       0.80      0.69      0.71      1407\n",
            "\n"
          ]
        }
      ],
      "source": [
        "from sklearn.metrics import classification_report\n",
        "print(classification_report(y_test, y_pred))"
      ]
    },
    {
      "cell_type": "code",
      "execution_count": 59,
      "metadata": {
        "id": "V5_YhHqWqXeC"
      },
      "outputs": [],
      "source": [
        "# def objective(trial):\n",
        "#     # Suggest values for the hyperparameters\n",
        "#     c = trial.suggest_loguniform('C', 1e-3, 1e3)  # Regularization strength (log-uniform)\n",
        "#     solver = trial.suggest_categorical('solver', ['liblinear', 'saga', 'lbfgs', 'newton-cg'])\n",
        "#     max_iter = trial.suggest_int('max_iter', 100, 500)  # Maximum iterations\n",
        "#     penalty = trial.suggest_categorical('penalty', ['l2', 'elasticnet'])  # Penalty type\n",
        "\n",
        "#     # ElasticNet mixing parameter (only relevant if 'penalty' is 'elasticnet')\n",
        "#     l1_ratio = trial.suggest_float('l1_ratio', 0.0, 1.0) if penalty == 'elasticnet' else 0.5\n",
        "\n",
        "#     # Create Logistic Regression with suggested parameters\n",
        "#     logreg = LogisticRegression(\n",
        "#         C=c,\n",
        "#         solver=solver,\n",
        "#         max_iter=max_iter,\n",
        "#         penalty=penalty,\n",
        "#         l1_ratio=l1_ratio,\n",
        "#         multi_class='auto',\n",
        "#         random_state=42\n",
        "#     )\n",
        "\n",
        "#     # Perform cross-validation and return the mean accuracy\n",
        "#     score = cross_val_score(logreg, X_train, y_train, cv=5, scoring='accuracy').mean()\n",
        "#     return score\n",
        "\n",
        "# # Create and optimize the study\n",
        "# study = optuna.create_study(direction='maximize')\n",
        "# study.optimize(objective, n_trials=50)\n",
        "# print(study.best_params)"
      ]
    },
    {
      "cell_type": "markdown",
      "metadata": {
        "id": "Mituhhy_pueI"
      },
      "source": [
        "## Training Random Forest on the Training set\n",
        "\n"
      ]
    },
    {
      "cell_type": "code",
      "execution_count": 60,
      "metadata": {
        "colab": {
          "base_uri": "https://localhost:8080/",
          "height": 92
        },
        "id": "Fq1u5fcxp02i",
        "outputId": "58a11c7b-b2fc-49d6-9cd0-405a8a660ce4"
      },
      "outputs": [
        {
          "data": {
            "text/html": [
              "<style>#sk-container-id-4 {color: black;}#sk-container-id-4 pre{padding: 0;}#sk-container-id-4 div.sk-toggleable {background-color: white;}#sk-container-id-4 label.sk-toggleable__label {cursor: pointer;display: block;width: 100%;margin-bottom: 0;padding: 0.3em;box-sizing: border-box;text-align: center;}#sk-container-id-4 label.sk-toggleable__label-arrow:before {content: \"▸\";float: left;margin-right: 0.25em;color: #696969;}#sk-container-id-4 label.sk-toggleable__label-arrow:hover:before {color: black;}#sk-container-id-4 div.sk-estimator:hover label.sk-toggleable__label-arrow:before {color: black;}#sk-container-id-4 div.sk-toggleable__content {max-height: 0;max-width: 0;overflow: hidden;text-align: left;background-color: #f0f8ff;}#sk-container-id-4 div.sk-toggleable__content pre {margin: 0.2em;color: black;border-radius: 0.25em;background-color: #f0f8ff;}#sk-container-id-4 input.sk-toggleable__control:checked~div.sk-toggleable__content {max-height: 200px;max-width: 100%;overflow: auto;}#sk-container-id-4 input.sk-toggleable__control:checked~label.sk-toggleable__label-arrow:before {content: \"▾\";}#sk-container-id-4 div.sk-estimator input.sk-toggleable__control:checked~label.sk-toggleable__label {background-color: #d4ebff;}#sk-container-id-4 div.sk-label input.sk-toggleable__control:checked~label.sk-toggleable__label {background-color: #d4ebff;}#sk-container-id-4 input.sk-hidden--visually {border: 0;clip: rect(1px 1px 1px 1px);clip: rect(1px, 1px, 1px, 1px);height: 1px;margin: -1px;overflow: hidden;padding: 0;position: absolute;width: 1px;}#sk-container-id-4 div.sk-estimator {font-family: monospace;background-color: #f0f8ff;border: 1px dotted black;border-radius: 0.25em;box-sizing: border-box;margin-bottom: 0.5em;}#sk-container-id-4 div.sk-estimator:hover {background-color: #d4ebff;}#sk-container-id-4 div.sk-parallel-item::after {content: \"\";width: 100%;border-bottom: 1px solid gray;flex-grow: 1;}#sk-container-id-4 div.sk-label:hover label.sk-toggleable__label {background-color: #d4ebff;}#sk-container-id-4 div.sk-serial::before {content: \"\";position: absolute;border-left: 1px solid gray;box-sizing: border-box;top: 0;bottom: 0;left: 50%;z-index: 0;}#sk-container-id-4 div.sk-serial {display: flex;flex-direction: column;align-items: center;background-color: white;padding-right: 0.2em;padding-left: 0.2em;position: relative;}#sk-container-id-4 div.sk-item {position: relative;z-index: 1;}#sk-container-id-4 div.sk-parallel {display: flex;align-items: stretch;justify-content: center;background-color: white;position: relative;}#sk-container-id-4 div.sk-item::before, #sk-container-id-4 div.sk-parallel-item::before {content: \"\";position: absolute;border-left: 1px solid gray;box-sizing: border-box;top: 0;bottom: 0;left: 50%;z-index: -1;}#sk-container-id-4 div.sk-parallel-item {display: flex;flex-direction: column;z-index: 1;position: relative;background-color: white;}#sk-container-id-4 div.sk-parallel-item:first-child::after {align-self: flex-end;width: 50%;}#sk-container-id-4 div.sk-parallel-item:last-child::after {align-self: flex-start;width: 50%;}#sk-container-id-4 div.sk-parallel-item:only-child::after {width: 0;}#sk-container-id-4 div.sk-dashed-wrapped {border: 1px dashed gray;margin: 0 0.4em 0.5em 0.4em;box-sizing: border-box;padding-bottom: 0.4em;background-color: white;}#sk-container-id-4 div.sk-label label {font-family: monospace;font-weight: bold;display: inline-block;line-height: 1.2em;}#sk-container-id-4 div.sk-label-container {text-align: center;}#sk-container-id-4 div.sk-container {/* jupyter's `normalize.less` sets `[hidden] { display: none; }` but bootstrap.min.css set `[hidden] { display: none !important; }` so we also need the `!important` here to be able to override the default hidden behavior on the sphinx rendered scikit-learn.org. See: https://github.com/scikit-learn/scikit-learn/issues/21755 */display: inline-block !important;position: relative;}#sk-container-id-4 div.sk-text-repr-fallback {display: none;}</style><div id=\"sk-container-id-4\" class=\"sk-top-container\"><div class=\"sk-text-repr-fallback\"><pre>RandomForestClassifier(criterion=&#x27;entropy&#x27;, max_depth=17, min_samples_split=5,\n",
              "                       n_estimators=220, random_state=0)</pre><b>In a Jupyter environment, please rerun this cell to show the HTML representation or trust the notebook. <br />On GitHub, the HTML representation is unable to render, please try loading this page with nbviewer.org.</b></div><div class=\"sk-container\" hidden><div class=\"sk-item\"><div class=\"sk-estimator sk-toggleable\"><input class=\"sk-toggleable__control sk-hidden--visually\" id=\"sk-estimator-id-4\" type=\"checkbox\" checked><label for=\"sk-estimator-id-4\" class=\"sk-toggleable__label sk-toggleable__label-arrow\">RandomForestClassifier</label><div class=\"sk-toggleable__content\"><pre>RandomForestClassifier(criterion=&#x27;entropy&#x27;, max_depth=17, min_samples_split=5,\n",
              "                       n_estimators=220, random_state=0)</pre></div></div></div></div></div>"
            ],
            "text/plain": [
              "RandomForestClassifier(criterion='entropy', max_depth=17, min_samples_split=5,\n",
              "                       n_estimators=220, random_state=0)"
            ]
          },
          "execution_count": 60,
          "metadata": {},
          "output_type": "execute_result"
        }
      ],
      "source": [
        "from sklearn.ensemble import RandomForestClassifier\n",
        "rf_classifier = RandomForestClassifier(n_estimators= 220, max_depth=17, criterion= 'entropy', random_state= 0, min_samples_split=5, min_samples_leaf=1, max_features='sqrt')\n",
        "rf_classifier.fit(X_train, y_train)\n",
        "# {'n_estimators': 220, 'max_depth': 17, 'min_samples_split': 5, 'min_samples_leaf': 1, 'max_features': 'sqrt'}"
      ]
    },
    {
      "cell_type": "code",
      "execution_count": 61,
      "metadata": {
        "colab": {
          "base_uri": "https://localhost:8080/"
        },
        "id": "CiCudJfXqnDv",
        "outputId": "fb4db2a4-21ab-426b-90f7-d49a08faeb13"
      },
      "outputs": [
        {
          "name": "stdout",
          "output_type": "stream",
          "text": [
            "[[717 316]\n",
            " [ 81 293]]\n"
          ]
        },
        {
          "data": {
            "text/plain": [
              "0.7178393745557925"
            ]
          },
          "execution_count": 61,
          "metadata": {},
          "output_type": "execute_result"
        }
      ],
      "source": [
        "y_pred = rf_classifier.predict(X_test)\n",
        "cm = confusion_matrix(y_test, y_pred)\n",
        "print(cm)\n",
        "accuracy_score(y_test, y_pred)"
      ]
    },
    {
      "cell_type": "code",
      "execution_count": 62,
      "metadata": {
        "colab": {
          "base_uri": "https://localhost:8080/"
        },
        "id": "-i33EX6Aqr99",
        "outputId": "c21de357-7f4d-4ba4-9f53-a044fa9a8ef5"
      },
      "outputs": [
        {
          "name": "stdout",
          "output_type": "stream",
          "text": [
            "Accuracy: 96.43 %\n",
            "Standard Deviation: 1.21 %\n"
          ]
        }
      ],
      "source": [
        "from sklearn.model_selection import cross_val_score\n",
        "accuracies = cross_val_score(estimator = rf_classifier, X = X_train, y = y_train, cv = 10) # number of folds\n",
        "print(f\"Accuracy: {round(accuracies.mean()*100, 2)} %\")\n",
        "print(f\"Standard Deviation: {round(accuracies.std()*100, 2)} %\") # for the variance"
      ]
    },
    {
      "cell_type": "code",
      "execution_count": 63,
      "metadata": {
        "colab": {
          "base_uri": "https://localhost:8080/"
        },
        "id": "qKlkuixrvei6",
        "outputId": "ceef0c86-50c3-4c88-905d-ca8360e4dbc0"
      },
      "outputs": [
        {
          "name": "stdout",
          "output_type": "stream",
          "text": [
            "              precision    recall  f1-score   support\n",
            "\n",
            "           0       0.90      0.69      0.78      1033\n",
            "           1       0.48      0.78      0.60       374\n",
            "\n",
            "    accuracy                           0.72      1407\n",
            "   macro avg       0.69      0.74      0.69      1407\n",
            "weighted avg       0.79      0.72      0.73      1407\n",
            "\n"
          ]
        }
      ],
      "source": [
        "from sklearn.metrics import classification_report\n",
        "print(classification_report(y_test, y_pred))"
      ]
    },
    {
      "cell_type": "code",
      "execution_count": 64,
      "metadata": {
        "id": "7Ik5UUJ9qyTe"
      },
      "outputs": [],
      "source": [
        "# import optuna\n",
        "# #{'n_estimators': 220, 'max_depth': 17, 'min_samples_split': 5, 'min_samples_leaf': 1, 'max_features': 'sqrt'}\n",
        "# def objective(trial):\n",
        "#     # Suggest values for the hyperparameters\n",
        "#     n_estimators = trial.suggest_int('n_estimators', 50, 500)  # Number of trees\n",
        "#     max_depth = trial.suggest_int('max_depth', 2, 20)  # Maximum depth of trees\n",
        "#     min_samples_split = trial.suggest_int('min_samples_split', 2, 20)  # Minimum samples to split a node\n",
        "#     min_samples_leaf = trial.suggest_int('min_samples_leaf', 1, 20)  # Minimum samples per leaf\n",
        "#     max_features = trial.suggest_categorical('max_features', ['sqrt', 'log2', None])  # Number of features to consider for splits\n",
        "\n",
        "#     # Create a RandomForestClassifier with suggested parameters\n",
        "#     rf = RandomForestClassifier(\n",
        "#         n_estimators=n_estimators,\n",
        "#         max_depth=max_depth,\n",
        "#         min_samples_split=min_samples_split,\n",
        "#         min_samples_leaf=min_samples_leaf,\n",
        "#         max_features=max_features,\n",
        "#         random_state=42\n",
        "#     )\n",
        "\n",
        "#     # Perform cross-validation and return the mean accuracy\n",
        "#     score = cross_val_score(rf, X_train, y_train, cv=5, scoring='accuracy').mean()\n",
        "#     return score\n",
        "\n",
        "# # Create and optimize the study\n",
        "# study = optuna.create_study(direction='maximize')\n",
        "# study.optimize(objective, n_trials=50)\n",
        "# print(study.best_params)"
      ]
    },
    {
      "cell_type": "markdown",
      "metadata": {
        "id": "A4do9_gPxXMl"
      },
      "source": [
        "### Building an ANN"
      ]
    },
    {
      "cell_type": "code",
      "execution_count": 76,
      "metadata": {
        "id": "Udf9mHLvxU_B"
      },
      "outputs": [],
      "source": [
        "import tensorflow as tf\n",
        "from tensorflow.keras.regularizers import l2\n",
        "# Building the Network\n",
        "\n",
        "model = tf.keras.models.Sequential(\n",
        "    [\n",
        "        tf.keras.Input(shape=(X_train.shape[1],)),\n",
        "        tf.keras.layers.Dense(units=256, activation='relu'),\n",
        "        tf.keras.layers.BatchNormalization(),\n",
        "        tf.keras.layers.Dropout(0.3),\n",
        "        tf.keras.layers.Dense(units=256, activation='relu', kernel_regularizer=l2(0.001)),\n",
        "        tf.keras.layers.Dropout(0.2),\n",
        "        tf.keras.layers.Dense(units=128, activation='relu'),\n",
        "        tf.keras.layers.Dense(units=1, activation='sigmoid')\n",
        "    ]\n",
        ")"
      ]
    },
    {
      "cell_type": "code",
      "execution_count": 77,
      "metadata": {
        "id": "UYackoE__K_L"
      },
      "outputs": [],
      "source": [
        "def plot_loss_acc(history):\n",
        "    '''Plots the training and validation loss and accuracy from a history object'''\n",
        "    acc = history.history['accuracy']\n",
        "    loss = history.history['loss']\n",
        "    val_acc = history.history['val_accuracy']\n",
        "    val_loss = history.history['val_loss']\n",
        "\n",
        "    epochs = range(len(acc))\n",
        "\n",
        "    fig, ax = plt.subplots(1,2, figsize=(12, 6))\n",
        "    ax[0].plot(epochs, acc, 'b', label='Training accuracy')\n",
        "    ax[0].plot(epochs, val_acc, 'r', label='Validation accuracy')\n",
        "    ax[0].set_title('Training accuracy')\n",
        "    ax[0].set_xlabel('epochs')\n",
        "    ax[0].set_ylabel('accuracy')\n",
        "    ax[0].legend()\n",
        "\n",
        "    ax[1].plot(epochs, loss, 'b', label='Training Loss')\n",
        "    ax[1].plot(epochs, val_loss, 'r', label='Validation Loss')\n",
        "    ax[1].set_title('Training loss')\n",
        "    ax[1].set_xlabel('epochs')\n",
        "    ax[1].set_ylabel('loss')\n",
        "    ax[1].legend()\n",
        "\n",
        "    plt.show()"
      ]
    },
    {
      "cell_type": "code",
      "execution_count": 78,
      "metadata": {
        "id": "Ja57f3im-xhK"
      },
      "outputs": [],
      "source": [
        "class EarlyStoppingCallback(tf.keras.callbacks.Callback):\n",
        "\n",
        "    # Define the correct function signature for on_epoch_end method\n",
        "    def on_epoch_end(self, epoch, logs={}):\n",
        "\n",
        "        # Check if the accuracy is greater or equal to 0.98\n",
        "        if (logs.get(\"accuracy\") >= 0.94):\n",
        "\n",
        "            # Stop training once the above condition is met\n",
        "            self.model.stop_training = True\n",
        "\n",
        "            print(\"\\nReached 94% accuracy so cancelling training!\")"
      ]
    },
    {
      "cell_type": "code",
      "execution_count": 79,
      "metadata": {
        "id": "PL56I8aOHHxQ"
      },
      "outputs": [],
      "source": [
        "def plot_learning_rate(history):\n",
        "    \"\"\"\n",
        "    Plot learning rate vs loss.\n",
        "    \"\"\"\n",
        "    # Define the learning rate array\n",
        "    lrs = 1e-8 * (10 ** (np.arange(len(history.history[\"loss\"])) / 20))\n",
        "\n",
        "    # Set the figure size\n",
        "    plt.figure(figsize=(10, 6))\n",
        "\n",
        "    # Set the grid\n",
        "    plt.grid(True)\n",
        "\n",
        "    # Plot the loss in log scale\n",
        "    plt.semilogx(lrs, history.history[\"loss\"])\n",
        "\n",
        "    # Increase the tickmarks size\n",
        "    plt.tick_params('both', length=10, width=1, which='both')\n",
        "\n",
        "    # Set the plot boundaries\n",
        "    plt.axis([1e-8, 8e-4, 0, 50])\n",
        "    plt.ylim(0, 1.0)  # This would zoom the y-axis between 0 and 1.0\n",
        "\n",
        "\n",
        "    # Draw the graph on screen\n",
        "    plt.xlabel('Learning Rate')\n",
        "    plt.ylabel('Loss')\n",
        "    plt.title('Learning Rate vs Loss')\n",
        "    plt.show()"
      ]
    },
    {
      "cell_type": "code",
      "execution_count": 80,
      "metadata": {
        "colab": {
          "base_uri": "https://localhost:8080/"
        },
        "id": "Vp0MnWoqGdHU",
        "outputId": "209784c7-6a84-4c88-8ca0-4da949612e00"
      },
      "outputs": [
        {
          "name": "stdout",
          "output_type": "stream",
          "text": [
            "Epoch 1/100\n",
            "\u001b[1m80/80\u001b[0m \u001b[32m━━━━━━━━━━━━━━━━━━━━\u001b[0m\u001b[37m\u001b[0m \u001b[1m6s\u001b[0m 13ms/step - loss: 1.0233 - learning_rate: 1.0000e-08\n",
            "Epoch 2/100\n",
            "\u001b[1m80/80\u001b[0m \u001b[32m━━━━━━━━━━━━━━━━━━━━\u001b[0m\u001b[37m\u001b[0m \u001b[1m1s\u001b[0m 13ms/step - loss: 1.0207 - learning_rate: 1.1220e-08\n",
            "Epoch 3/100\n",
            "\u001b[1m80/80\u001b[0m \u001b[32m━━━━━━━━━━━━━━━━━━━━\u001b[0m\u001b[37m\u001b[0m \u001b[1m1s\u001b[0m 11ms/step - loss: 1.0322 - learning_rate: 1.2589e-08\n",
            "Epoch 4/100\n",
            "\u001b[1m80/80\u001b[0m \u001b[32m━━━━━━━━━━━━━━━━━━━━\u001b[0m\u001b[37m\u001b[0m \u001b[1m1s\u001b[0m 10ms/step - loss: 1.0249 - learning_rate: 1.4125e-08\n",
            "Epoch 5/100\n",
            "\u001b[1m80/80\u001b[0m \u001b[32m━━━━━━━━━━━━━━━━━━━━\u001b[0m\u001b[37m\u001b[0m \u001b[1m1s\u001b[0m 11ms/step - loss: 1.0232 - learning_rate: 1.5849e-08\n",
            "Epoch 6/100\n",
            "\u001b[1m80/80\u001b[0m \u001b[32m━━━━━━━━━━━━━━━━━━━━\u001b[0m\u001b[37m\u001b[0m \u001b[1m1s\u001b[0m 11ms/step - loss: 1.0188 - learning_rate: 1.7783e-08\n",
            "Epoch 7/100\n",
            "\u001b[1m80/80\u001b[0m \u001b[32m━━━━━━━━━━━━━━━━━━━━\u001b[0m\u001b[37m\u001b[0m \u001b[1m1s\u001b[0m 10ms/step - loss: 1.0324 - learning_rate: 1.9953e-08\n",
            "Epoch 8/100\n",
            "\u001b[1m80/80\u001b[0m \u001b[32m━━━━━━━━━━━━━━━━━━━━\u001b[0m\u001b[37m\u001b[0m \u001b[1m1s\u001b[0m 11ms/step - loss: 1.0155 - learning_rate: 2.2387e-08\n",
            "Epoch 9/100\n",
            "\u001b[1m80/80\u001b[0m \u001b[32m━━━━━━━━━━━━━━━━━━━━\u001b[0m\u001b[37m\u001b[0m \u001b[1m1s\u001b[0m 10ms/step - loss: 1.0331 - learning_rate: 2.5119e-08\n",
            "Epoch 10/100\n",
            "\u001b[1m80/80\u001b[0m \u001b[32m━━━━━━━━━━━━━━━━━━━━\u001b[0m\u001b[37m\u001b[0m \u001b[1m1s\u001b[0m 10ms/step - loss: 1.0210 - learning_rate: 2.8184e-08\n",
            "Epoch 11/100\n",
            "\u001b[1m80/80\u001b[0m \u001b[32m━━━━━━━━━━━━━━━━━━━━\u001b[0m\u001b[37m\u001b[0m \u001b[1m1s\u001b[0m 10ms/step - loss: 1.0219 - learning_rate: 3.1623e-08\n",
            "Epoch 12/100\n",
            "\u001b[1m80/80\u001b[0m \u001b[32m━━━━━━━━━━━━━━━━━━━━\u001b[0m\u001b[37m\u001b[0m \u001b[1m2s\u001b[0m 14ms/step - loss: 1.0172 - learning_rate: 3.5481e-08\n",
            "Epoch 13/100\n",
            "\u001b[1m80/80\u001b[0m \u001b[32m━━━━━━━━━━━━━━━━━━━━\u001b[0m\u001b[37m\u001b[0m \u001b[1m1s\u001b[0m 14ms/step - loss: 1.0205 - learning_rate: 3.9811e-08\n",
            "Epoch 14/100\n",
            "\u001b[1m80/80\u001b[0m \u001b[32m━━━━━━━━━━━━━━━━━━━━\u001b[0m\u001b[37m\u001b[0m \u001b[1m1s\u001b[0m 15ms/step - loss: 1.0282 - learning_rate: 4.4668e-08\n",
            "Epoch 15/100\n",
            "\u001b[1m80/80\u001b[0m \u001b[32m━━━━━━━━━━━━━━━━━━━━\u001b[0m\u001b[37m\u001b[0m \u001b[1m1s\u001b[0m 15ms/step - loss: 1.0297 - learning_rate: 5.0119e-08\n",
            "Epoch 16/100\n",
            "\u001b[1m80/80\u001b[0m \u001b[32m━━━━━━━━━━━━━━━━━━━━\u001b[0m\u001b[37m\u001b[0m \u001b[1m1s\u001b[0m 8ms/step - loss: 1.0256 - learning_rate: 5.6234e-08\n",
            "Epoch 17/100\n",
            "\u001b[1m80/80\u001b[0m \u001b[32m━━━━━━━━━━━━━━━━━━━━\u001b[0m\u001b[37m\u001b[0m \u001b[1m1s\u001b[0m 11ms/step - loss: 1.0223 - learning_rate: 6.3096e-08\n",
            "Epoch 18/100\n",
            "\u001b[1m80/80\u001b[0m \u001b[32m━━━━━━━━━━━━━━━━━━━━\u001b[0m\u001b[37m\u001b[0m \u001b[1m1s\u001b[0m 11ms/step - loss: 1.0132 - learning_rate: 7.0795e-08\n",
            "Epoch 19/100\n",
            "\u001b[1m80/80\u001b[0m \u001b[32m━━━━━━━━━━━━━━━━━━━━\u001b[0m\u001b[37m\u001b[0m \u001b[1m1s\u001b[0m 5ms/step - loss: 1.0321 - learning_rate: 7.9433e-08\n",
            "Epoch 20/100\n",
            "\u001b[1m80/80\u001b[0m \u001b[32m━━━━━━━━━━━━━━━━━━━━\u001b[0m\u001b[37m\u001b[0m \u001b[1m1s\u001b[0m 6ms/step - loss: 1.0366 - learning_rate: 8.9125e-08\n",
            "Epoch 21/100\n",
            "\u001b[1m80/80\u001b[0m \u001b[32m━━━━━━━━━━━━━━━━━━━━\u001b[0m\u001b[37m\u001b[0m \u001b[1m1s\u001b[0m 5ms/step - loss: 1.0214 - learning_rate: 1.0000e-07\n",
            "Epoch 22/100\n",
            "\u001b[1m80/80\u001b[0m \u001b[32m━━━━━━━━━━━━━━━━━━━━\u001b[0m\u001b[37m\u001b[0m \u001b[1m0s\u001b[0m 6ms/step - loss: 1.0249 - learning_rate: 1.1220e-07\n",
            "Epoch 23/100\n",
            "\u001b[1m80/80\u001b[0m \u001b[32m━━━━━━━━━━━━━━━━━━━━\u001b[0m\u001b[37m\u001b[0m \u001b[1m0s\u001b[0m 5ms/step - loss: 1.0139 - learning_rate: 1.2589e-07\n",
            "Epoch 24/100\n",
            "\u001b[1m80/80\u001b[0m \u001b[32m━━━━━━━━━━━━━━━━━━━━\u001b[0m\u001b[37m\u001b[0m \u001b[1m1s\u001b[0m 5ms/step - loss: 1.0235 - learning_rate: 1.4125e-07\n",
            "Epoch 25/100\n",
            "\u001b[1m80/80\u001b[0m \u001b[32m━━━━━━━━━━━━━━━━━━━━\u001b[0m\u001b[37m\u001b[0m \u001b[1m1s\u001b[0m 6ms/step - loss: 1.0243 - learning_rate: 1.5849e-07\n",
            "Epoch 26/100\n",
            "\u001b[1m80/80\u001b[0m \u001b[32m━━━━━━━━━━━━━━━━━━━━\u001b[0m\u001b[37m\u001b[0m \u001b[1m0s\u001b[0m 5ms/step - loss: 1.0291 - learning_rate: 1.7783e-07\n",
            "Epoch 27/100\n",
            "\u001b[1m80/80\u001b[0m \u001b[32m━━━━━━━━━━━━━━━━━━━━\u001b[0m\u001b[37m\u001b[0m \u001b[1m1s\u001b[0m 6ms/step - loss: 1.0254 - learning_rate: 1.9953e-07\n",
            "Epoch 28/100\n",
            "\u001b[1m80/80\u001b[0m \u001b[32m━━━━━━━━━━━━━━━━━━━━\u001b[0m\u001b[37m\u001b[0m \u001b[1m1s\u001b[0m 5ms/step - loss: 1.0145 - learning_rate: 2.2387e-07\n",
            "Epoch 29/100\n",
            "\u001b[1m80/80\u001b[0m \u001b[32m━━━━━━━━━━━━━━━━━━━━\u001b[0m\u001b[37m\u001b[0m \u001b[1m1s\u001b[0m 5ms/step - loss: 1.0148 - learning_rate: 2.5119e-07\n",
            "Epoch 30/100\n",
            "\u001b[1m80/80\u001b[0m \u001b[32m━━━━━━━━━━━━━━━━━━━━\u001b[0m\u001b[37m\u001b[0m \u001b[1m1s\u001b[0m 8ms/step - loss: 1.0196 - learning_rate: 2.8184e-07\n",
            "Epoch 31/100\n",
            "\u001b[1m80/80\u001b[0m \u001b[32m━━━━━━━━━━━━━━━━━━━━\u001b[0m\u001b[37m\u001b[0m \u001b[1m1s\u001b[0m 10ms/step - loss: 1.0243 - learning_rate: 3.1623e-07\n",
            "Epoch 32/100\n",
            "\u001b[1m80/80\u001b[0m \u001b[32m━━━━━━━━━━━━━━━━━━━━\u001b[0m\u001b[37m\u001b[0m \u001b[1m1s\u001b[0m 10ms/step - loss: 1.0250 - learning_rate: 3.5481e-07\n",
            "Epoch 33/100\n",
            "\u001b[1m80/80\u001b[0m \u001b[32m━━━━━━━━━━━━━━━━━━━━\u001b[0m\u001b[37m\u001b[0m \u001b[1m1s\u001b[0m 5ms/step - loss: 1.0286 - learning_rate: 3.9811e-07\n",
            "Epoch 34/100\n",
            "\u001b[1m80/80\u001b[0m \u001b[32m━━━━━━━━━━━━━━━━━━━━\u001b[0m\u001b[37m\u001b[0m \u001b[1m1s\u001b[0m 6ms/step - loss: 1.0345 - learning_rate: 4.4668e-07\n",
            "Epoch 35/100\n",
            "\u001b[1m80/80\u001b[0m \u001b[32m━━━━━━━━━━━━━━━━━━━━\u001b[0m\u001b[37m\u001b[0m \u001b[1m1s\u001b[0m 6ms/step - loss: 1.0233 - learning_rate: 5.0119e-07\n",
            "Epoch 36/100\n",
            "\u001b[1m80/80\u001b[0m \u001b[32m━━━━━━━━━━━━━━━━━━━━\u001b[0m\u001b[37m\u001b[0m \u001b[1m1s\u001b[0m 5ms/step - loss: 1.0232 - learning_rate: 5.6234e-07\n",
            "Epoch 37/100\n",
            "\u001b[1m80/80\u001b[0m \u001b[32m━━━━━━━━━━━━━━━━━━━━\u001b[0m\u001b[37m\u001b[0m \u001b[1m1s\u001b[0m 5ms/step - loss: 1.0181 - learning_rate: 6.3096e-07\n",
            "Epoch 38/100\n",
            "\u001b[1m80/80\u001b[0m \u001b[32m━━━━━━━━━━━━━━━━━━━━\u001b[0m\u001b[37m\u001b[0m \u001b[1m0s\u001b[0m 6ms/step - loss: 1.0299 - learning_rate: 7.0795e-07\n",
            "Epoch 39/100\n",
            "\u001b[1m80/80\u001b[0m \u001b[32m━━━━━━━━━━━━━━━━━━━━\u001b[0m\u001b[37m\u001b[0m \u001b[1m0s\u001b[0m 6ms/step - loss: 1.0230 - learning_rate: 7.9433e-07\n",
            "Epoch 40/100\n",
            "\u001b[1m80/80\u001b[0m \u001b[32m━━━━━━━━━━━━━━━━━━━━\u001b[0m\u001b[37m\u001b[0m \u001b[1m0s\u001b[0m 6ms/step - loss: 1.0220 - learning_rate: 8.9125e-07\n",
            "Epoch 41/100\n",
            "\u001b[1m80/80\u001b[0m \u001b[32m━━━━━━━━━━━━━━━━━━━━\u001b[0m\u001b[37m\u001b[0m \u001b[1m0s\u001b[0m 6ms/step - loss: 1.0297 - learning_rate: 1.0000e-06\n",
            "Epoch 42/100\n",
            "\u001b[1m80/80\u001b[0m \u001b[32m━━━━━━━━━━━━━━━━━━━━\u001b[0m\u001b[37m\u001b[0m \u001b[1m1s\u001b[0m 6ms/step - loss: 1.0267 - learning_rate: 1.1220e-06\n",
            "Epoch 43/100\n",
            "\u001b[1m80/80\u001b[0m \u001b[32m━━━━━━━━━━━━━━━━━━━━\u001b[0m\u001b[37m\u001b[0m \u001b[1m1s\u001b[0m 6ms/step - loss: 1.0297 - learning_rate: 1.2589e-06\n",
            "Epoch 44/100\n",
            "\u001b[1m80/80\u001b[0m \u001b[32m━━━━━━━━━━━━━━━━━━━━\u001b[0m\u001b[37m\u001b[0m \u001b[1m1s\u001b[0m 5ms/step - loss: 1.0242 - learning_rate: 1.4125e-06\n",
            "Epoch 45/100\n",
            "\u001b[1m80/80\u001b[0m \u001b[32m━━━━━━━━━━━━━━━━━━━━\u001b[0m\u001b[37m\u001b[0m \u001b[1m0s\u001b[0m 6ms/step - loss: 1.0324 - learning_rate: 1.5849e-06\n",
            "Epoch 46/100\n",
            "\u001b[1m80/80\u001b[0m \u001b[32m━━━━━━━━━━━━━━━━━━━━\u001b[0m\u001b[37m\u001b[0m \u001b[1m1s\u001b[0m 5ms/step - loss: 1.0323 - learning_rate: 1.7783e-06\n",
            "Epoch 47/100\n",
            "\u001b[1m80/80\u001b[0m \u001b[32m━━━━━━━━━━━━━━━━━━━━\u001b[0m\u001b[37m\u001b[0m \u001b[1m0s\u001b[0m 6ms/step - loss: 1.0356 - learning_rate: 1.9953e-06\n",
            "Epoch 48/100\n",
            "\u001b[1m80/80\u001b[0m \u001b[32m━━━━━━━━━━━━━━━━━━━━\u001b[0m\u001b[37m\u001b[0m \u001b[1m0s\u001b[0m 5ms/step - loss: 1.0256 - learning_rate: 2.2387e-06\n",
            "Epoch 49/100\n",
            "\u001b[1m80/80\u001b[0m \u001b[32m━━━━━━━━━━━━━━━━━━━━\u001b[0m\u001b[37m\u001b[0m \u001b[1m1s\u001b[0m 6ms/step - loss: 1.0206 - learning_rate: 2.5119e-06\n",
            "Epoch 50/100\n",
            "\u001b[1m80/80\u001b[0m \u001b[32m━━━━━━━━━━━━━━━━━━━━\u001b[0m\u001b[37m\u001b[0m \u001b[1m1s\u001b[0m 5ms/step - loss: 1.0333 - learning_rate: 2.8184e-06\n",
            "Epoch 51/100\n",
            "\u001b[1m80/80\u001b[0m \u001b[32m━━━━━━━━━━━━━━━━━━━━\u001b[0m\u001b[37m\u001b[0m \u001b[1m1s\u001b[0m 10ms/step - loss: 1.0158 - learning_rate: 3.1623e-06\n",
            "Epoch 52/100\n",
            "\u001b[1m80/80\u001b[0m \u001b[32m━━━━━━━━━━━━━━━━━━━━\u001b[0m\u001b[37m\u001b[0m \u001b[1m1s\u001b[0m 10ms/step - loss: 1.0163 - learning_rate: 3.5481e-06\n",
            "Epoch 53/100\n",
            "\u001b[1m80/80\u001b[0m \u001b[32m━━━━━━━━━━━━━━━━━━━━\u001b[0m\u001b[37m\u001b[0m \u001b[1m1s\u001b[0m 8ms/step - loss: 1.0304 - learning_rate: 3.9811e-06\n",
            "Epoch 54/100\n",
            "\u001b[1m80/80\u001b[0m \u001b[32m━━━━━━━━━━━━━━━━━━━━\u001b[0m\u001b[37m\u001b[0m \u001b[1m0s\u001b[0m 5ms/step - loss: 1.0158 - learning_rate: 4.4668e-06\n",
            "Epoch 55/100\n",
            "\u001b[1m80/80\u001b[0m \u001b[32m━━━━━━━━━━━━━━━━━━━━\u001b[0m\u001b[37m\u001b[0m \u001b[1m1s\u001b[0m 6ms/step - loss: 1.0039 - learning_rate: 5.0119e-06\n",
            "Epoch 56/100\n",
            "\u001b[1m80/80\u001b[0m \u001b[32m━━━━━━━━━━━━━━━━━━━━\u001b[0m\u001b[37m\u001b[0m \u001b[1m1s\u001b[0m 5ms/step - loss: 1.0127 - learning_rate: 5.6234e-06\n",
            "Epoch 57/100\n",
            "\u001b[1m80/80\u001b[0m \u001b[32m━━━━━━━━━━━━━━━━━━━━\u001b[0m\u001b[37m\u001b[0m \u001b[1m1s\u001b[0m 5ms/step - loss: 0.9992 - learning_rate: 6.3096e-06\n",
            "Epoch 58/100\n",
            "\u001b[1m80/80\u001b[0m \u001b[32m━━━━━━━━━━━━━━━━━━━━\u001b[0m\u001b[37m\u001b[0m \u001b[1m1s\u001b[0m 6ms/step - loss: 0.9882 - learning_rate: 7.0795e-06\n",
            "Epoch 59/100\n",
            "\u001b[1m80/80\u001b[0m \u001b[32m━━━━━━━━━━━━━━━━━━━━\u001b[0m\u001b[37m\u001b[0m \u001b[1m0s\u001b[0m 5ms/step - loss: 0.9902 - learning_rate: 7.9433e-06\n",
            "Epoch 60/100\n",
            "\u001b[1m80/80\u001b[0m \u001b[32m━━━━━━━━━━━━━━━━━━━━\u001b[0m\u001b[37m\u001b[0m \u001b[1m1s\u001b[0m 6ms/step - loss: 0.9839 - learning_rate: 8.9125e-06\n",
            "Epoch 61/100\n",
            "\u001b[1m80/80\u001b[0m \u001b[32m━━━━━━━━━━━━━━━━━━━━\u001b[0m\u001b[37m\u001b[0m \u001b[1m0s\u001b[0m 5ms/step - loss: 0.9709 - learning_rate: 1.0000e-05\n",
            "Epoch 62/100\n",
            "\u001b[1m80/80\u001b[0m \u001b[32m━━━━━━━━━━━━━━━━━━━━\u001b[0m\u001b[37m\u001b[0m \u001b[1m1s\u001b[0m 6ms/step - loss: 0.9464 - learning_rate: 1.1220e-05\n",
            "Epoch 63/100\n",
            "\u001b[1m80/80\u001b[0m \u001b[32m━━━━━━━━━━━━━━━━━━━━\u001b[0m\u001b[37m\u001b[0m \u001b[1m1s\u001b[0m 5ms/step - loss: 0.9408 - learning_rate: 1.2589e-05\n",
            "Epoch 64/100\n",
            "\u001b[1m80/80\u001b[0m \u001b[32m━━━━━━━━━━━━━━━━━━━━\u001b[0m\u001b[37m\u001b[0m \u001b[1m1s\u001b[0m 5ms/step - loss: 0.9237 - learning_rate: 1.4125e-05\n",
            "Epoch 65/100\n",
            "\u001b[1m80/80\u001b[0m \u001b[32m━━━━━━━━━━━━━━━━━━━━\u001b[0m\u001b[37m\u001b[0m \u001b[1m1s\u001b[0m 6ms/step - loss: 0.9007 - learning_rate: 1.5849e-05\n",
            "Epoch 66/100\n",
            "\u001b[1m80/80\u001b[0m \u001b[32m━━━━━━━━━━━━━━━━━━━━\u001b[0m\u001b[37m\u001b[0m \u001b[1m1s\u001b[0m 6ms/step - loss: 0.9043 - learning_rate: 1.7783e-05\n",
            "Epoch 67/100\n",
            "\u001b[1m80/80\u001b[0m \u001b[32m━━━━━━━━━━━━━━━━━━━━\u001b[0m\u001b[37m\u001b[0m \u001b[1m1s\u001b[0m 6ms/step - loss: 0.8718 - learning_rate: 1.9953e-05\n",
            "Epoch 68/100\n",
            "\u001b[1m80/80\u001b[0m \u001b[32m━━━━━━━━━━━━━━━━━━━━\u001b[0m\u001b[37m\u001b[0m \u001b[1m1s\u001b[0m 6ms/step - loss: 0.8349 - learning_rate: 2.2387e-05\n",
            "Epoch 69/100\n",
            "\u001b[1m80/80\u001b[0m \u001b[32m━━━━━━━━━━━━━━━━━━━━\u001b[0m\u001b[37m\u001b[0m \u001b[1m1s\u001b[0m 6ms/step - loss: 0.8053 - learning_rate: 2.5119e-05\n",
            "Epoch 70/100\n",
            "\u001b[1m80/80\u001b[0m \u001b[32m━━━━━━━━━━━━━━━━━━━━\u001b[0m\u001b[37m\u001b[0m \u001b[1m1s\u001b[0m 8ms/step - loss: 0.7787 - learning_rate: 2.8184e-05\n",
            "Epoch 71/100\n",
            "\u001b[1m80/80\u001b[0m \u001b[32m━━━━━━━━━━━━━━━━━━━━\u001b[0m\u001b[37m\u001b[0m \u001b[1m1s\u001b[0m 10ms/step - loss: 0.7432 - learning_rate: 3.1623e-05\n",
            "Epoch 72/100\n",
            "\u001b[1m80/80\u001b[0m \u001b[32m━━━━━━━━━━━━━━━━━━━━\u001b[0m\u001b[37m\u001b[0m \u001b[1m1s\u001b[0m 10ms/step - loss: 0.7056 - learning_rate: 3.5481e-05\n",
            "Epoch 73/100\n",
            "\u001b[1m80/80\u001b[0m \u001b[32m━━━━━━━━━━━━━━━━━━━━\u001b[0m\u001b[37m\u001b[0m \u001b[1m1s\u001b[0m 11ms/step - loss: 0.6511 - learning_rate: 3.9811e-05\n",
            "Epoch 74/100\n",
            "\u001b[1m80/80\u001b[0m \u001b[32m━━━━━━━━━━━━━━━━━━━━\u001b[0m\u001b[37m\u001b[0m \u001b[1m1s\u001b[0m 6ms/step - loss: 0.6035 - learning_rate: 4.4668e-05\n",
            "Epoch 75/100\n",
            "\u001b[1m80/80\u001b[0m \u001b[32m━━━━━━━━━━━━━━━━━━━━\u001b[0m\u001b[37m\u001b[0m \u001b[1m1s\u001b[0m 5ms/step - loss: 0.5657 - learning_rate: 5.0119e-05\n",
            "Epoch 76/100\n",
            "\u001b[1m80/80\u001b[0m \u001b[32m━━━━━━━━━━━━━━━━━━━━\u001b[0m\u001b[37m\u001b[0m \u001b[1m0s\u001b[0m 6ms/step - loss: 0.5150 - learning_rate: 5.6234e-05\n",
            "Epoch 77/100\n",
            "\u001b[1m80/80\u001b[0m \u001b[32m━━━━━━━━━━━━━━━━━━━━\u001b[0m\u001b[37m\u001b[0m \u001b[1m1s\u001b[0m 6ms/step - loss: 0.4717 - learning_rate: 6.3096e-05\n",
            "Epoch 78/100\n",
            "\u001b[1m80/80\u001b[0m \u001b[32m━━━━━━━━━━━━━━━━━━━━\u001b[0m\u001b[37m\u001b[0m \u001b[1m0s\u001b[0m 5ms/step - loss: 0.4254 - learning_rate: 7.0795e-05\n",
            "Epoch 79/100\n",
            "\u001b[1m80/80\u001b[0m \u001b[32m━━━━━━━━━━━━━━━━━━━━\u001b[0m\u001b[37m\u001b[0m \u001b[1m0s\u001b[0m 5ms/step - loss: 0.4001 - learning_rate: 7.9433e-05\n",
            "Epoch 80/100\n",
            "\u001b[1m80/80\u001b[0m \u001b[32m━━━━━━━━━━━━━━━━━━━━\u001b[0m\u001b[37m\u001b[0m \u001b[1m1s\u001b[0m 6ms/step - loss: 0.3654 - learning_rate: 8.9125e-05\n",
            "Epoch 81/100\n",
            "\u001b[1m80/80\u001b[0m \u001b[32m━━━━━━━━━━━━━━━━━━━━\u001b[0m\u001b[37m\u001b[0m \u001b[1m0s\u001b[0m 6ms/step - loss: 0.3415 - learning_rate: 1.0000e-04\n",
            "Epoch 82/100\n",
            "\u001b[1m80/80\u001b[0m \u001b[32m━━━━━━━━━━━━━━━━━━━━\u001b[0m\u001b[37m\u001b[0m \u001b[1m0s\u001b[0m 6ms/step - loss: 0.3244 - learning_rate: 1.1220e-04\n",
            "Epoch 83/100\n",
            "\u001b[1m80/80\u001b[0m \u001b[32m━━━━━━━━━━━━━━━━━━━━\u001b[0m\u001b[37m\u001b[0m \u001b[1m1s\u001b[0m 6ms/step - loss: 0.3043 - learning_rate: 1.2589e-04\n",
            "Epoch 84/100\n",
            "\u001b[1m80/80\u001b[0m \u001b[32m━━━━━━━━━━━━━━━━━━━━\u001b[0m\u001b[37m\u001b[0m \u001b[1m1s\u001b[0m 5ms/step - loss: 0.2898 - learning_rate: 1.4125e-04\n",
            "Epoch 85/100\n",
            "\u001b[1m80/80\u001b[0m \u001b[32m━━━━━━━━━━━━━━━━━━━━\u001b[0m\u001b[37m\u001b[0m \u001b[1m1s\u001b[0m 6ms/step - loss: 0.2785 - learning_rate: 1.5849e-04\n",
            "Epoch 86/100\n",
            "\u001b[1m80/80\u001b[0m \u001b[32m━━━━━━━━━━━━━━━━━━━━\u001b[0m\u001b[37m\u001b[0m \u001b[1m1s\u001b[0m 6ms/step - loss: 0.2744 - learning_rate: 1.7783e-04\n",
            "Epoch 87/100\n",
            "\u001b[1m80/80\u001b[0m \u001b[32m━━━━━━━━━━━━━━━━━━━━\u001b[0m\u001b[37m\u001b[0m \u001b[1m0s\u001b[0m 6ms/step - loss: 0.2557 - learning_rate: 1.9953e-04\n",
            "Epoch 88/100\n",
            "\u001b[1m80/80\u001b[0m \u001b[32m━━━━━━━━━━━━━━━━━━━━\u001b[0m\u001b[37m\u001b[0m \u001b[1m1s\u001b[0m 6ms/step - loss: 0.2479 - learning_rate: 2.2387e-04\n",
            "Epoch 89/100\n",
            "\u001b[1m80/80\u001b[0m \u001b[32m━━━━━━━━━━━━━━━━━━━━\u001b[0m\u001b[37m\u001b[0m \u001b[1m0s\u001b[0m 5ms/step - loss: 0.2384 - learning_rate: 2.5119e-04\n",
            "Epoch 90/100\n",
            "\u001b[1m80/80\u001b[0m \u001b[32m━━━━━━━━━━━━━━━━━━━━\u001b[0m\u001b[37m\u001b[0m \u001b[1m0s\u001b[0m 6ms/step - loss: 0.2238 - learning_rate: 2.8184e-04\n",
            "Epoch 91/100\n",
            "\u001b[1m80/80\u001b[0m \u001b[32m━━━━━━━━━━━━━━━━━━━━\u001b[0m\u001b[37m\u001b[0m \u001b[1m1s\u001b[0m 5ms/step - loss: 0.2172 - learning_rate: 3.1623e-04\n",
            "Epoch 92/100\n",
            "\u001b[1m80/80\u001b[0m \u001b[32m━━━━━━━━━━━━━━━━━━━━\u001b[0m\u001b[37m\u001b[0m \u001b[1m1s\u001b[0m 10ms/step - loss: 0.2081 - learning_rate: 3.5481e-04\n",
            "Epoch 93/100\n",
            "\u001b[1m80/80\u001b[0m \u001b[32m━━━━━━━━━━━━━━━━━━━━\u001b[0m\u001b[37m\u001b[0m \u001b[1m1s\u001b[0m 10ms/step - loss: 0.1982 - learning_rate: 3.9811e-04\n",
            "Epoch 94/100\n",
            "\u001b[1m80/80\u001b[0m \u001b[32m━━━━━━━━━━━━━━━━━━━━\u001b[0m\u001b[37m\u001b[0m \u001b[1m1s\u001b[0m 11ms/step - loss: 0.1848 - learning_rate: 4.4668e-04\n",
            "Epoch 95/100\n",
            "\u001b[1m80/80\u001b[0m \u001b[32m━━━━━━━━━━━━━━━━━━━━\u001b[0m\u001b[37m\u001b[0m \u001b[1m1s\u001b[0m 11ms/step - loss: 0.1725 - learning_rate: 5.0119e-04\n",
            "Epoch 96/100\n",
            "\u001b[1m80/80\u001b[0m \u001b[32m━━━━━━━━━━━━━━━━━━━━\u001b[0m\u001b[37m\u001b[0m \u001b[1m0s\u001b[0m 6ms/step - loss: 0.1585 - learning_rate: 5.6234e-04\n",
            "Epoch 97/100\n",
            "\u001b[1m80/80\u001b[0m \u001b[32m━━━━━━━━━━━━━━━━━━━━\u001b[0m\u001b[37m\u001b[0m \u001b[1m0s\u001b[0m 6ms/step - loss: 0.1497 - learning_rate: 6.3096e-04\n",
            "Epoch 98/100\n",
            "\u001b[1m80/80\u001b[0m \u001b[32m━━━━━━━━━━━━━━━━━━━━\u001b[0m\u001b[37m\u001b[0m \u001b[1m1s\u001b[0m 6ms/step - loss: 0.1313 - learning_rate: 7.0795e-04\n",
            "Epoch 99/100\n",
            "\u001b[1m80/80\u001b[0m \u001b[32m━━━━━━━━━━━━━━━━━━━━\u001b[0m\u001b[37m\u001b[0m \u001b[1m0s\u001b[0m 5ms/step - loss: 0.1191 - learning_rate: 7.9433e-04\n",
            "Epoch 100/100\n",
            "\u001b[1m80/80\u001b[0m \u001b[32m━━━━━━━━━━━━━━━━━━━━\u001b[0m\u001b[37m\u001b[0m \u001b[1m0s\u001b[0m 6ms/step - loss: 0.1082 - learning_rate: 8.9125e-04\n"
          ]
        }
      ],
      "source": [
        "def tuning_learn_rate(model, X_train, y_train, optimizer, loss, batch_size=64, epochs=100):\n",
        "    \"\"\"\n",
        "    Tunes the learning rate using an exponential increase.\n",
        "\n",
        "    Args:\n",
        "        model (tf.keras.Model): The Keras model.\n",
        "        X_train (np.array): Training features.\n",
        "        y_train (np.array): Training labels.\n",
        "        optimizer (tf.keras.optimizers): Optimizer to use.\n",
        "        loss (str or tf.keras.losses.Loss): Loss function for the model.\n",
        "        epochs (int): Number of epochs to tune learning rate.\n",
        "        batch_size (int): The batch size for training.\n",
        "\n",
        "    Returns:\n",
        "        history (tf.keras.callbacks.History): Training history object.\n",
        "    \"\"\"\n",
        "    # Convert the data into a TensorFlow Dataset\n",
        "    train_dataset = tf.data.Dataset.from_tensor_slices((X_train, y_train))\n",
        "    train_dataset = train_dataset.batch(batch_size)\n",
        "\n",
        "    # Define the learning rate scheduler (exponential increase)\n",
        "    lr_scheduler = tf.keras.callbacks.LearningRateScheduler(\n",
        "        lambda epoch: 1e-8 * 10**(epoch / 20)  # Exponential growth\n",
        "    )\n",
        "\n",
        "    # Compile the model with the optimizer and loss function\n",
        "    model.compile(\n",
        "        optimizer=optimizer,\n",
        "        loss=loss\n",
        "    )\n",
        "\n",
        "    # Fit the model with the learning rate scheduler\n",
        "    history = model.fit(train_dataset, epochs=epochs, callbacks=[lr_scheduler])\n",
        "    return history\n",
        "\n",
        "# Example usage\n",
        "tuned_history = tuning_learn_rate(\n",
        "    model, X_train, y_train, optimizer=tf.keras.optimizers.Adam(), loss='binary_crossentropy'\n",
        ")"
      ]
    },
    {
      "cell_type": "code",
      "execution_count": 81,
      "metadata": {
        "colab": {
          "base_uri": "https://localhost:8080/",
          "height": 578
        },
        "id": "2fCJDweVHLL_",
        "outputId": "85df8c57-9cb9-49cd-d4fe-31e089d7f663"
      },
      "outputs": [
        {
          "data": {
            "image/png": "[encoded data removed]",
            "text/plain": [
              "<Figure size 1000x600 with 1 Axes>"
            ]
          },
          "metadata": {},
          "output_type": "display_data"
        }
      ],
      "source": [
        "plot_learning_rate(tuned_history)"
      ]
    },
    {
      "cell_type": "code",
      "execution_count": 82,
      "metadata": {
        "id": "WOJ1ltV7xqSc"
      },
      "outputs": [],
      "source": [
        "# Compiling the Network\n",
        "\n",
        "model.compile(optimizer=tf.keras.optimizers.Adam(learning_rate=2e-4), loss='binary_crossentropy', metrics=['accuracy'])\n",
        "# learning_rate=4e-4"
      ]
    },
    {
      "cell_type": "code",
      "execution_count": 83,
      "metadata": {
        "colab": {
          "base_uri": "https://localhost:8080/",
          "height": 384
        },
        "id": "UFcKkC1q_X60",
        "outputId": "a260d95f-6141-429e-b9c1-1f8fdf31cd24"
      },
      "outputs": [
        {
          "data": {
            "text/html": [
              "<pre style=\"white-space:pre;overflow-x:auto;line-height:normal;font-family:Menlo,'DejaVu Sans Mono',consolas,'Courier New',monospace\"><span style=\"font-weight: bold\">Model: \"sequential_2\"</span>\n",
              "</pre>\n"
            ],
            "text/plain": [
              "\u001b[1mModel: \"sequential_2\"\u001b[0m\n"
            ]
          },
          "metadata": {},
          "output_type": "display_data"
        },
        {
          "data": {
            "text/html": [
              "<pre style=\"white-space:pre;overflow-x:auto;line-height:normal;font-family:Menlo,'DejaVu Sans Mono',consolas,'Courier New',monospace\">┏━━━━━━━━━━━━━━━━━━━━━━━━━━━━━━━━━━━━━━┳━━━━━━━━━━━━━━━━━━━━━━━━━━━━━┳━━━━━━━━━━━━━━━━━┓\n",
              "┃<span style=\"font-weight: bold\"> Layer (type)                         </span>┃<span style=\"font-weight: bold\"> Output Shape                </span>┃<span style=\"font-weight: bold\">         Param # </span>┃\n",
              "┡━━━━━━━━━━━━━━━━━━━━━━━━━━━━━━━━━━━━━━╇━━━━━━━━━━━━━━━━━━━━━━━━━━━━━╇━━━━━━━━━━━━━━━━━┩\n",
              "│ dense_8 (<span style=\"color: #0087ff; text-decoration-color: #0087ff\">Dense</span>)                      │ (<span style=\"color: #00d7ff; text-decoration-color: #00d7ff\">None</span>, <span style=\"color: #00af00; text-decoration-color: #00af00\">256</span>)                 │           <span style=\"color: #00af00; text-decoration-color: #00af00\">7,936</span> │\n",
              "├──────────────────────────────────────┼─────────────────────────────┼─────────────────┤\n",
              "│ batch_normalization_2                │ (<span style=\"color: #00d7ff; text-decoration-color: #00d7ff\">None</span>, <span style=\"color: #00af00; text-decoration-color: #00af00\">256</span>)                 │           <span style=\"color: #00af00; text-decoration-color: #00af00\">1,024</span> │\n",
              "│ (<span style=\"color: #0087ff; text-decoration-color: #0087ff\">BatchNormalization</span>)                 │                             │                 │\n",
              "├──────────────────────────────────────┼─────────────────────────────┼─────────────────┤\n",
              "│ dropout_4 (<span style=\"color: #0087ff; text-decoration-color: #0087ff\">Dropout</span>)                  │ (<span style=\"color: #00d7ff; text-decoration-color: #00d7ff\">None</span>, <span style=\"color: #00af00; text-decoration-color: #00af00\">256</span>)                 │               <span style=\"color: #00af00; text-decoration-color: #00af00\">0</span> │\n",
              "├──────────────────────────────────────┼─────────────────────────────┼─────────────────┤\n",
              "│ dense_9 (<span style=\"color: #0087ff; text-decoration-color: #0087ff\">Dense</span>)                      │ (<span style=\"color: #00d7ff; text-decoration-color: #00d7ff\">None</span>, <span style=\"color: #00af00; text-decoration-color: #00af00\">256</span>)                 │          <span style=\"color: #00af00; text-decoration-color: #00af00\">65,792</span> │\n",
              "├──────────────────────────────────────┼─────────────────────────────┼─────────────────┤\n",
              "│ dropout_5 (<span style=\"color: #0087ff; text-decoration-color: #0087ff\">Dropout</span>)                  │ (<span style=\"color: #00d7ff; text-decoration-color: #00d7ff\">None</span>, <span style=\"color: #00af00; text-decoration-color: #00af00\">256</span>)                 │               <span style=\"color: #00af00; text-decoration-color: #00af00\">0</span> │\n",
              "├──────────────────────────────────────┼─────────────────────────────┼─────────────────┤\n",
              "│ dense_10 (<span style=\"color: #0087ff; text-decoration-color: #0087ff\">Dense</span>)                     │ (<span style=\"color: #00d7ff; text-decoration-color: #00d7ff\">None</span>, <span style=\"color: #00af00; text-decoration-color: #00af00\">128</span>)                 │          <span style=\"color: #00af00; text-decoration-color: #00af00\">32,896</span> │\n",
              "├──────────────────────────────────────┼─────────────────────────────┼─────────────────┤\n",
              "│ dense_11 (<span style=\"color: #0087ff; text-decoration-color: #0087ff\">Dense</span>)                     │ (<span style=\"color: #00d7ff; text-decoration-color: #00d7ff\">None</span>, <span style=\"color: #00af00; text-decoration-color: #00af00\">1</span>)                   │             <span style=\"color: #00af00; text-decoration-color: #00af00\">129</span> │\n",
              "└──────────────────────────────────────┴─────────────────────────────┴─────────────────┘\n",
              "</pre>\n"
            ],
            "text/plain": [
              "┏━━━━━━━━━━━━━━━━━━━━━━━━━━━━━━━━━━━━━━┳━━━━━━━━━━━━━━━━━━━━━━━━━━━━━┳━━━━━━━━━━━━━━━━━┓\n",
              "┃\u001b[1m \u001b[0m\u001b[1mLayer (type)                        \u001b[0m\u001b[1m \u001b[0m┃\u001b[1m \u001b[0m\u001b[1mOutput Shape               \u001b[0m\u001b[1m \u001b[0m┃\u001b[1m \u001b[0m\u001b[1m        Param #\u001b[0m\u001b[1m \u001b[0m┃\n",
              "┡━━━━━━━━━━━━━━━━━━━━━━━━━━━━━━━━━━━━━━╇━━━━━━━━━━━━━━━━━━━━━━━━━━━━━╇━━━━━━━━━━━━━━━━━┩\n",
              "│ dense_8 (\u001b[38;5;33mDense\u001b[0m)                      │ (\u001b[38;5;45mNone\u001b[0m, \u001b[38;5;34m256\u001b[0m)                 │           \u001b[38;5;34m7,936\u001b[0m │\n",
              "├──────────────────────────────────────┼─────────────────────────────┼─────────────────┤\n",
              "│ batch_normalization_2                │ (\u001b[38;5;45mNone\u001b[0m, \u001b[38;5;34m256\u001b[0m)                 │           \u001b[38;5;34m1,024\u001b[0m │\n",
              "│ (\u001b[38;5;33mBatchNormalization\u001b[0m)                 │                             │                 │\n",
              "├──────────────────────────────────────┼─────────────────────────────┼─────────────────┤\n",
              "│ dropout_4 (\u001b[38;5;33mDropout\u001b[0m)                  │ (\u001b[38;5;45mNone\u001b[0m, \u001b[38;5;34m256\u001b[0m)                 │               \u001b[38;5;34m0\u001b[0m │\n",
              "├──────────────────────────────────────┼─────────────────────────────┼─────────────────┤\n",
              "│ dense_9 (\u001b[38;5;33mDense\u001b[0m)                      │ (\u001b[38;5;45mNone\u001b[0m, \u001b[38;5;34m256\u001b[0m)                 │          \u001b[38;5;34m65,792\u001b[0m │\n",
              "├──────────────────────────────────────┼─────────────────────────────┼─────────────────┤\n",
              "│ dropout_5 (\u001b[38;5;33mDropout\u001b[0m)                  │ (\u001b[38;5;45mNone\u001b[0m, \u001b[38;5;34m256\u001b[0m)                 │               \u001b[38;5;34m0\u001b[0m │\n",
              "├──────────────────────────────────────┼─────────────────────────────┼─────────────────┤\n",
              "│ dense_10 (\u001b[38;5;33mDense\u001b[0m)                     │ (\u001b[38;5;45mNone\u001b[0m, \u001b[38;5;34m128\u001b[0m)                 │          \u001b[38;5;34m32,896\u001b[0m │\n",
              "├──────────────────────────────────────┼─────────────────────────────┼─────────────────┤\n",
              "│ dense_11 (\u001b[38;5;33mDense\u001b[0m)                     │ (\u001b[38;5;45mNone\u001b[0m, \u001b[38;5;34m1\u001b[0m)                   │             \u001b[38;5;34m129\u001b[0m │\n",
              "└──────────────────────────────────────┴─────────────────────────────┴─────────────────┘\n"
            ]
          },
          "metadata": {},
          "output_type": "display_data"
        },
        {
          "data": {
            "text/html": [
              "<pre style=\"white-space:pre;overflow-x:auto;line-height:normal;font-family:Menlo,'DejaVu Sans Mono',consolas,'Courier New',monospace\"><span style=\"font-weight: bold\"> Total params: </span><span style=\"color: #00af00; text-decoration-color: #00af00\">107,777</span> (421.00 KB)\n",
              "</pre>\n"
            ],
            "text/plain": [
              "\u001b[1m Total params: \u001b[0m\u001b[38;5;34m107,777\u001b[0m (421.00 KB)\n"
            ]
          },
          "metadata": {},
          "output_type": "display_data"
        },
        {
          "data": {
            "text/html": [
              "<pre style=\"white-space:pre;overflow-x:auto;line-height:normal;font-family:Menlo,'DejaVu Sans Mono',consolas,'Courier New',monospace\"><span style=\"font-weight: bold\"> Trainable params: </span><span style=\"color: #00af00; text-decoration-color: #00af00\">107,265</span> (419.00 KB)\n",
              "</pre>\n"
            ],
            "text/plain": [
              "\u001b[1m Trainable params: \u001b[0m\u001b[38;5;34m107,265\u001b[0m (419.00 KB)\n"
            ]
          },
          "metadata": {},
          "output_type": "display_data"
        },
        {
          "data": {
            "text/html": [
              "<pre style=\"white-space:pre;overflow-x:auto;line-height:normal;font-family:Menlo,'DejaVu Sans Mono',consolas,'Courier New',monospace\"><span style=\"font-weight: bold\"> Non-trainable params: </span><span style=\"color: #00af00; text-decoration-color: #00af00\">512</span> (2.00 KB)\n",
              "</pre>\n"
            ],
            "text/plain": [
              "\u001b[1m Non-trainable params: \u001b[0m\u001b[38;5;34m512\u001b[0m (2.00 KB)\n"
            ]
          },
          "metadata": {},
          "output_type": "display_data"
        }
      ],
      "source": [
        "model.summary()"
      ]
    },
    {
      "cell_type": "code",
      "execution_count": 84,
      "metadata": {
        "colab": {
          "base_uri": "https://localhost:8080/"
        },
        "id": "KLa5DEsvx1kF",
        "outputId": "e4ccaafe-41b0-4aa0-8677-ca5567e32ba1"
      },
      "outputs": [
        {
          "name": "stdout",
          "output_type": "stream",
          "text": [
            "Epoch 1/50\n",
            "\u001b[1m127/127\u001b[0m \u001b[32m━━━━━━━━━━━━━━━━━━━━\u001b[0m\u001b[37m\u001b[0m \u001b[1m3s\u001b[0m 7ms/step - accuracy: 0.7858 - loss: 0.9670 - val_accuracy: 0.8571 - val_loss: 0.5272\n",
            "Epoch 2/50\n",
            "\u001b[1m127/127\u001b[0m \u001b[32m━━━━━━━━━━━━━━━━━━━━\u001b[0m\u001b[37m\u001b[0m \u001b[1m1s\u001b[0m 5ms/step - accuracy: 0.8886 - loss: 0.4006 - val_accuracy: 0.8512 - val_loss: 0.4961\n",
            "Epoch 3/50\n",
            "\u001b[1m127/127\u001b[0m \u001b[32m━━━━━━━━━━━━━━━━━━━━\u001b[0m\u001b[37m\u001b[0m \u001b[1m1s\u001b[0m 5ms/step - accuracy: 0.8983 - loss: 0.3592 - val_accuracy: 0.8897 - val_loss: 0.3633\n",
            "Epoch 4/50\n",
            "\u001b[1m127/127\u001b[0m \u001b[32m━━━━━━━━━━━━━━━━━━━━\u001b[0m\u001b[37m\u001b[0m \u001b[1m2s\u001b[0m 8ms/step - accuracy: 0.9018 - loss: 0.3097 - val_accuracy: 0.8916 - val_loss: 0.3459\n",
            "Epoch 5/50\n",
            "\u001b[1m127/127\u001b[0m \u001b[32m━━━━━━━━━━━━━━━━━━━━\u001b[0m\u001b[37m\u001b[0m \u001b[1m1s\u001b[0m 8ms/step - accuracy: 0.9086 - loss: 0.2991 - val_accuracy: 0.9005 - val_loss: 0.3372\n",
            "Epoch 6/50\n",
            "\u001b[1m127/127\u001b[0m \u001b[32m━━━━━━━━━━━━━━━━━━━━\u001b[0m\u001b[37m\u001b[0m \u001b[1m1s\u001b[0m 9ms/step - accuracy: 0.9114 - loss: 0.2835 - val_accuracy: 0.9005 - val_loss: 0.3215\n",
            "Epoch 7/50\n",
            "\u001b[1m127/127\u001b[0m \u001b[32m━━━━━━━━━━━━━━━━━━━━\u001b[0m\u001b[37m\u001b[0m \u001b[1m1s\u001b[0m 9ms/step - accuracy: 0.9239 - loss: 0.2501 - val_accuracy: 0.9015 - val_loss: 0.3110\n",
            "Epoch 8/50\n",
            "\u001b[1m127/127\u001b[0m \u001b[32m━━━━━━━━━━━━━━━━━━━━\u001b[0m\u001b[37m\u001b[0m \u001b[1m1s\u001b[0m 6ms/step - accuracy: 0.9322 - loss: 0.2507 - val_accuracy: 0.9084 - val_loss: 0.2988\n",
            "Epoch 9/50\n",
            "\u001b[1m127/127\u001b[0m \u001b[32m━━━━━━━━━━━━━━━━━━━━\u001b[0m\u001b[37m\u001b[0m \u001b[1m1s\u001b[0m 5ms/step - accuracy: 0.9279 - loss: 0.2456 - val_accuracy: 0.9064 - val_loss: 0.2903\n",
            "Epoch 10/50\n",
            "\u001b[1m127/127\u001b[0m \u001b[32m━━━━━━━━━━━━━━━━━━━━\u001b[0m\u001b[37m\u001b[0m \u001b[1m1s\u001b[0m 5ms/step - accuracy: 0.9327 - loss: 0.2319 - val_accuracy: 0.8926 - val_loss: 0.3139\n",
            "Epoch 11/50\n",
            "\u001b[1m127/127\u001b[0m \u001b[32m━━━━━━━━━━━━━━━━━━━━\u001b[0m\u001b[37m\u001b[0m \u001b[1m1s\u001b[0m 5ms/step - accuracy: 0.9371 - loss: 0.2196 - val_accuracy: 0.9241 - val_loss: 0.2346\n",
            "Epoch 12/50\n",
            "\u001b[1m124/127\u001b[0m \u001b[32m━━━━━━━━━━━━━━━━━━━\u001b[0m\u001b[37m━\u001b[0m \u001b[1m0s\u001b[0m 4ms/step - accuracy: 0.9379 - loss: 0.2258\n",
            "Reached 94% accuracy so cancelling training!\n",
            "\u001b[1m127/127\u001b[0m \u001b[32m━━━━━━━━━━━━━━━━━━━━\u001b[0m\u001b[37m\u001b[0m \u001b[1m1s\u001b[0m 5ms/step - accuracy: 0.9380 - loss: 0.2256 - val_accuracy: 0.9103 - val_loss: 0.2813\n"
          ]
        }
      ],
      "source": [
        "# Training the data on the network\n",
        "\n",
        "history = model.fit(x=X_train, y=y_train, validation_split=0.2, batch_size=32, epochs=50, callbacks=[EarlyStoppingCallback()])"
      ]
    },
    {
      "cell_type": "code",
      "execution_count": 85,
      "metadata": {
        "colab": {
          "base_uri": "https://localhost:8080/",
          "height": 564
        },
        "id": "0BwJ7fm9yc9J",
        "outputId": "f7a5f062-2f2b-4c00-9563-a9d24f866e3d"
      },
      "outputs": [
        {
          "data": {
            "image/png": "[encoded data removed]",
            "text/plain": [
              "<Figure size 1200x600 with 2 Axes>"
            ]
          },
          "metadata": {},
          "output_type": "display_data"
        }
      ],
      "source": [
        "plot_loss_acc(history)"
      ]
    },
    {
      "cell_type": "code",
      "execution_count": 86,
      "metadata": {
        "colab": {
          "base_uri": "https://localhost:8080/"
        },
        "id": "ilwMkuiA7MVV",
        "outputId": "e38eac0b-3b0d-4b0d-9ec9-6892f2c7c224"
      },
      "outputs": [
        {
          "name": "stdout",
          "output_type": "stream",
          "text": [
            "\u001b[1m44/44\u001b[0m \u001b[32m━━━━━━━━━━━━━━━━━━━━\u001b[0m\u001b[37m\u001b[0m \u001b[1m0s\u001b[0m 3ms/step\n",
            "[[0 0]\n",
            " [0 0]\n",
            " [1 1]\n",
            " ...\n",
            " [0 0]\n",
            " [0 0]\n",
            " [0 0]]\n"
          ]
        }
      ],
      "source": [
        "y_pred = model.predict(X_test)\n",
        "y_pred = (y_pred > 0.5)\n",
        "print(np.concatenate((y_pred.reshape(-1, 1), y_test.reshape(-1, 1)), 1))"
      ]
    },
    {
      "cell_type": "code",
      "execution_count": 87,
      "metadata": {
        "colab": {
          "base_uri": "https://localhost:8080/"
        },
        "id": "hHXtslQy7VT6",
        "outputId": "64c2d178-0991-417e-d42f-b197a268aafd"
      },
      "outputs": [
        {
          "name": "stdout",
          "output_type": "stream",
          "text": [
            "[[735 298]\n",
            " [ 96 278]]\n",
            "0.7199715707178393\n"
          ]
        }
      ],
      "source": [
        "from sklearn.metrics import confusion_matrix, accuracy_score\n",
        "cm = confusion_matrix(y_test, y_pred)\n",
        "print(cm)\n",
        "print(accuracy_score(y_test, y_pred))"
      ]
    },
    {
      "cell_type": "code",
      "execution_count": 88,
      "metadata": {
        "colab": {
          "base_uri": "https://localhost:8080/"
        },
        "id": "FLR23OW_nFpi",
        "outputId": "0423bcb5-5254-4e04-e902-f183b4080d42"
      },
      "outputs": [
        {
          "name": "stdout",
          "output_type": "stream",
          "text": [
            "              precision    recall  f1-score   support\n",
            "\n",
            "           0       0.88      0.71      0.79      1033\n",
            "           1       0.48      0.74      0.59       374\n",
            "\n",
            "    accuracy                           0.72      1407\n",
            "   macro avg       0.68      0.73      0.69      1407\n",
            "weighted avg       0.78      0.72      0.73      1407\n",
            "\n"
          ]
        }
      ],
      "source": [
        "from sklearn.metrics import classification_report\n",
        "print(classification_report(y_test, y_pred))"
      ]
    }
  ],
  "metadata": {
    "colab": {
      "provenance": []
    },
    "kernelspec": {
      "display_name": "Python 3",
      "name": "python3"
    },
    "language_info": {
      "name": "python"
    }
  },
  "nbformat": 4,
  "nbformat_minor": 0
}
